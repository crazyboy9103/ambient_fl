{
 "cells": [
  {
   "cell_type": "markdown",
   "metadata": {},
   "source": [
    "# 라이브러리 설치"
   ]
  },
  {
   "cell_type": "code",
   "execution_count": 14,
   "metadata": {
    "scrolled": true
   },
   "outputs": [
    {
     "name": "stdout",
     "output_type": "stream",
     "text": [
      "Requirement already satisfied: Django in /usr/local/lib/python3.8/dist-packages (from -r FL_Server/requirements.txt (line 1)) (2.1.11)\n",
      "Requirement already satisfied: djangorestframework in /usr/local/lib/python3.8/dist-packages (from -r FL_Server/requirements.txt (line 2)) (3.10.3)\n",
      "Requirement already satisfied: numpy in /usr/local/lib/python3.8/dist-packages (from -r FL_Server/requirements.txt (line 3)) (1.17.3)\n",
      "Requirement already satisfied: pytz in /usr/local/lib/python3.8/dist-packages (from -r FL_Server/requirements.txt (line 4)) (2019.3)\n",
      "Requirement already satisfied: sqlparse in /usr/local/lib/python3.8/dist-packages (from -r FL_Server/requirements.txt (line 5)) (0.3.0)\n",
      "Requirement already satisfied: absl-py in /usr/local/lib/python3.8/dist-packages (from -r FL_Server/requirements.txt (line 6)) (0.13.0)\n",
      "Requirement already satisfied: astor in /usr/local/lib/python3.8/dist-packages (from -r FL_Server/requirements.txt (line 7)) (0.8.1)\n",
      "Requirement already satisfied: certifi in /usr/local/lib/python3.8/dist-packages (from -r FL_Server/requirements.txt (line 8)) (2021.5.30)\n",
      "Requirement already satisfied: chardet in /usr/local/lib/python3.8/dist-packages (from -r FL_Server/requirements.txt (line 9)) (4.0.0)\n",
      "Requirement already satisfied: gast in /usr/local/lib/python3.8/dist-packages (from -r FL_Server/requirements.txt (line 10)) (0.5.2)\n",
      "Requirement already satisfied: google-pasta in /usr/local/lib/python3.8/dist-packages (from -r FL_Server/requirements.txt (line 11)) (0.2.0)\n",
      "Requirement already satisfied: grpcio in /usr/local/lib/python3.8/dist-packages (from -r FL_Server/requirements.txt (line 12)) (1.40.0)\n",
      "Requirement already satisfied: h5py in /usr/local/lib/python3.8/dist-packages (from -r FL_Server/requirements.txt (line 13)) (3.4.0)\n",
      "Requirement already satisfied: idna in /usr/local/lib/python3.8/dist-packages (from -r FL_Server/requirements.txt (line 14)) (3.2)\n",
      "Requirement already satisfied: joblib in /usr/local/lib/python3.8/dist-packages (from -r FL_Server/requirements.txt (line 15)) (1.0.1)\n",
      "Requirement already satisfied: Keras-Applications in /usr/local/lib/python3.8/dist-packages (from -r FL_Server/requirements.txt (line 16)) (1.0.8)\n",
      "Requirement already satisfied: Keras-Preprocessing in /usr/local/lib/python3.8/dist-packages (from -r FL_Server/requirements.txt (line 17)) (1.1.2)\n",
      "Requirement already satisfied: Markdown in /usr/local/lib/python3.8/dist-packages (from -r FL_Server/requirements.txt (line 18)) (3.3.4)\n",
      "Requirement already satisfied: protobuf in /usr/local/lib/python3.8/dist-packages (from -r FL_Server/requirements.txt (line 20)) (3.17.3)\n",
      "Requirement already satisfied: requests in /usr/local/lib/python3.8/dist-packages (from -r FL_Server/requirements.txt (line 21)) (2.26.0)\n",
      "Requirement already satisfied: scipy in /usr/local/lib/python3.8/dist-packages (from -r FL_Server/requirements.txt (line 22)) (1.7.1)\n",
      "Requirement already satisfied: six in /usr/local/lib/python3.8/dist-packages (from -r FL_Server/requirements.txt (line 23)) (1.16.0)\n",
      "Requirement already satisfied: tensorboard in /usr/local/lib/python3.8/dist-packages (from -r FL_Server/requirements.txt (line 24)) (2.6.0)\n",
      "Requirement already satisfied: tensorflow-estimator in /usr/local/lib/python3.8/dist-packages (from -r FL_Server/requirements.txt (line 25)) (2.6.0)\n",
      "Requirement already satisfied: tensorflow-gpu in /usr/local/lib/python3.8/dist-packages (from -r FL_Server/requirements.txt (line 26)) (2.6.0)\n",
      "Requirement already satisfied: termcolor in /usr/local/lib/python3.8/dist-packages (from -r FL_Server/requirements.txt (line 27)) (1.1.0)\n",
      "Requirement already satisfied: urllib3 in /usr/local/lib/python3.8/dist-packages (from -r FL_Server/requirements.txt (line 28)) (1.26.6)\n",
      "Requirement already satisfied: Werkzeug in /usr/local/lib/python3.8/dist-packages (from -r FL_Server/requirements.txt (line 29)) (2.0.1)\n",
      "Requirement already satisfied: wrapt in /usr/local/lib/python3.8/dist-packages (from -r FL_Server/requirements.txt (line 30)) (1.12.1)\n",
      "Requirement already satisfied: pandas in /usr/local/lib/python3.8/dist-packages (from -r FL_Server/requirements.txt (line 31)) (1.3.2)\n",
      "Requirement already satisfied: Keras in /usr/local/lib/python3.8/dist-packages (from -r FL_Server/requirements.txt (line 32)) (2.6.0)\n",
      "Requirement already satisfied: scikit-learn in /usr/local/lib/python3.8/dist-packages (from -r FL_Server/requirements.txt (line 33)) (0.24.2)\n",
      "Requirement already satisfied: tensorflow in /usr/local/lib/python3.8/dist-packages (from -r FL_Server/requirements.txt (line 34)) (2.6.0)\n",
      "Requirement already satisfied: paramiko in /usr/local/lib/python3.8/dist-packages (from -r FL_Server/requirements.txt (line 35)) (2.7.2)\n",
      "Requirement already satisfied: charset-normalizer~=2.0.0; python_version >= \"3\" in /usr/local/lib/python3.8/dist-packages (from requests->-r FL_Server/requirements.txt (line 21)) (2.0.4)\n",
      "Requirement already satisfied: google-auth-oauthlib<0.5,>=0.4.1 in /usr/local/lib/python3.8/dist-packages (from tensorboard->-r FL_Server/requirements.txt (line 24)) (0.4.6)\n",
      "Requirement already satisfied: tensorboard-data-server<0.7.0,>=0.6.0 in /usr/local/lib/python3.8/dist-packages (from tensorboard->-r FL_Server/requirements.txt (line 24)) (0.6.1)\n",
      "Requirement already satisfied: wheel>=0.26 in /usr/lib/python3/dist-packages (from tensorboard->-r FL_Server/requirements.txt (line 24)) (0.34.2)\n",
      "Requirement already satisfied: setuptools>=41.0.0 in /usr/lib/python3/dist-packages (from tensorboard->-r FL_Server/requirements.txt (line 24)) (45.2.0)\n",
      "Requirement already satisfied: tensorboard-plugin-wit>=1.6.0 in /usr/local/lib/python3.8/dist-packages (from tensorboard->-r FL_Server/requirements.txt (line 24)) (1.8.0)\n",
      "Requirement already satisfied: google-auth<2,>=1.6.3 in /usr/local/lib/python3.8/dist-packages (from tensorboard->-r FL_Server/requirements.txt (line 24)) (1.35.0)\n",
      "Requirement already satisfied: typing-extensions~=3.7.4 in /usr/local/lib/python3.8/dist-packages (from tensorflow-gpu->-r FL_Server/requirements.txt (line 26)) (3.7.4.3)\n",
      "Requirement already satisfied: flatbuffers~=1.12.0 in /usr/local/lib/python3.8/dist-packages (from tensorflow-gpu->-r FL_Server/requirements.txt (line 26)) (1.12)\n",
      "Requirement already satisfied: clang~=5.0 in /usr/local/lib/python3.8/dist-packages (from tensorflow-gpu->-r FL_Server/requirements.txt (line 26)) (5.0)\n",
      "Requirement already satisfied: astunparse~=1.6.3 in /usr/local/lib/python3.8/dist-packages (from tensorflow-gpu->-r FL_Server/requirements.txt (line 26)) (1.6.3)\n",
      "Requirement already satisfied: opt-einsum~=3.3.0 in /usr/local/lib/python3.8/dist-packages (from tensorflow-gpu->-r FL_Server/requirements.txt (line 26)) (3.3.0)\n",
      "Requirement already satisfied: python-dateutil>=2.7.3 in /usr/local/lib/python3.8/dist-packages (from pandas->-r FL_Server/requirements.txt (line 31)) (2.8.2)\n",
      "Requirement already satisfied: threadpoolctl>=2.0.0 in /usr/local/lib/python3.8/dist-packages (from scikit-learn->-r FL_Server/requirements.txt (line 33)) (2.2.0)\n",
      "Requirement already satisfied: bcrypt>=3.1.3 in /usr/local/lib/python3.8/dist-packages (from paramiko->-r FL_Server/requirements.txt (line 35)) (3.2.0)\n",
      "Requirement already satisfied: cryptography>=2.5 in /usr/local/lib/python3.8/dist-packages (from paramiko->-r FL_Server/requirements.txt (line 35)) (3.4.8)\n",
      "Requirement already satisfied: pynacl>=1.0.1 in /usr/local/lib/python3.8/dist-packages (from paramiko->-r FL_Server/requirements.txt (line 35)) (1.4.0)\n",
      "Requirement already satisfied: requests-oauthlib>=0.7.0 in /usr/local/lib/python3.8/dist-packages (from google-auth-oauthlib<0.5,>=0.4.1->tensorboard->-r FL_Server/requirements.txt (line 24)) (1.3.0)\n",
      "Requirement already satisfied: rsa<5,>=3.1.4; python_version >= \"3.6\" in /usr/local/lib/python3.8/dist-packages (from google-auth<2,>=1.6.3->tensorboard->-r FL_Server/requirements.txt (line 24)) (4.7.2)\n",
      "Requirement already satisfied: cachetools<5.0,>=2.0.0 in /usr/local/lib/python3.8/dist-packages (from google-auth<2,>=1.6.3->tensorboard->-r FL_Server/requirements.txt (line 24)) (4.2.2)\n",
      "Requirement already satisfied: pyasn1-modules>=0.2.1 in /usr/local/lib/python3.8/dist-packages (from google-auth<2,>=1.6.3->tensorboard->-r FL_Server/requirements.txt (line 24)) (0.2.8)\n",
      "Requirement already satisfied: cffi>=1.1 in /usr/local/lib/python3.8/dist-packages (from bcrypt>=3.1.3->paramiko->-r FL_Server/requirements.txt (line 35)) (1.14.6)\n",
      "Requirement already satisfied: oauthlib>=3.0.0 in /usr/local/lib/python3.8/dist-packages (from requests-oauthlib>=0.7.0->google-auth-oauthlib<0.5,>=0.4.1->tensorboard->-r FL_Server/requirements.txt (line 24)) (3.1.1)\n",
      "Requirement already satisfied: pyasn1>=0.1.3 in /usr/local/lib/python3.8/dist-packages (from rsa<5,>=3.1.4; python_version >= \"3.6\"->google-auth<2,>=1.6.3->tensorboard->-r FL_Server/requirements.txt (line 24)) (0.4.8)\n",
      "Requirement already satisfied: pycparser in /usr/local/lib/python3.8/dist-packages (from cffi>=1.1->bcrypt>=3.1.3->paramiko->-r FL_Server/requirements.txt (line 35)) (2.20)\n"
     ]
    }
   ],
   "source": [
    "!pip install -r FL_Server/requirements.txt"
   ]
  },
  {
   "cell_type": "markdown",
   "metadata": {},
   "source": [
    "# 서버 열기"
   ]
  },
  {
   "cell_type": "code",
   "execution_count": null,
   "metadata": {},
   "outputs": [
    {
     "name": "stdout",
     "output_type": "stream",
     "text": [
      "Performing system checks...\n",
      "\n",
      "2021-10-14 06:12:42.998087: W tensorflow/stream_executor/platform/default/dso_loader.cc:64] Could not load dynamic library 'libcudart.so.11.0'; dlerror: libcudart.so.11.0: cannot open shared object file: No such file or directory\n",
      "2021-10-14 06:12:42.998101: I tensorflow/stream_executor/cuda/cudart_stub.cc:29] Ignore above cudart dlerror if you do not have a GPU set up on your machine.\n",
      "The id for this training is 0. Use this id to retrieve the recorded results\n",
      "2021-10-14 06:12:43.808140: W tensorflow/stream_executor/platform/default/dso_loader.cc:64] Could not load dynamic library 'libcuda.so.1'; dlerror: libcuda.so.1: cannot open shared object file: No such file or directory\n",
      "2021-10-14 06:12:43.808154: W tensorflow/stream_executor/cuda/cuda_driver.cc:269] failed call to cuInit: UNKNOWN ERROR (303)\n",
      "2021-10-14 06:12:43.808166: I tensorflow/stream_executor/cuda/cuda_diagnostics.cc:156] kernel driver does not appear to be running on this host (a755a9c66315): /proc/driver/nvidia/version does not exist\n",
      "2021-10-14 06:12:43.808295: I tensorflow/core/platform/cpu_feature_guard.cc:142] This TensorFlow binary is optimized with oneAPI Deep Neural Network Library (oneDNN) to use the following CPU instructions in performance-critical operations:  AVX2 FMA\n",
      "To enable them in other operations, rebuild TensorFlow with the appropriate compiler flags.\n",
      "System check identified no issues (0 silenced).\n",
      "\u001b[31m\n",
      "You have 15 unapplied migration(s). Your project may not work properly until you apply the migrations for app(s): admin, auth, contenttypes, sessions.\u001b[0m\n",
      "\u001b[31mRun 'python manage.py migrate' to apply them.\n",
      "\u001b[0m\n",
      "October 14, 2021 - 06:12:43\n",
      "Django version 2.1.11, using settings 'FL_Server.settings'\n",
      "Starting development server at http://0.0.0.0:22222/\n",
      "Quit the server with CONTROL-C.\n",
      "[14/Oct/2021 06:19:35] \u001b[32m\"GET /reset HTTP/1.1\" 301 0\u001b[0m\n",
      "[14/Oct/2021 06:19:35] \u001b[m\"GET /reset/ HTTP/1.1\" 200 10\u001b[0m\n",
      "[14/Oct/2021 06:19:35] \u001b[m\"PUT /client_num HTTP/1.1\" 200 14\u001b[0m\n",
      "[14/Oct/2021 06:19:35] \u001b[m\"PUT /experiment/ HTTP/1.1\" 200 14\u001b[0m\n",
      "[14/Oct/2021 06:20:35] \u001b[32m\"GET /reset HTTP/1.1\" 301 0\u001b[0m\n",
      "[14/Oct/2021 06:20:35] \u001b[m\"GET /reset/ HTTP/1.1\" 200 10\u001b[0m\n",
      "[14/Oct/2021 06:20:35] \u001b[m\"PUT /client_num HTTP/1.1\" 200 14\u001b[0m\n",
      "[14/Oct/2021 06:20:35] \u001b[m\"PUT /experiment/ HTTP/1.1\" 200 14\u001b[0m\n",
      "[14/Oct/2021 06:21:35] \u001b[32m\"GET /reset HTTP/1.1\" 301 0\u001b[0m\n",
      "[14/Oct/2021 06:21:35] \u001b[m\"GET /reset/ HTTP/1.1\" 200 10\u001b[0m\n",
      "[14/Oct/2021 06:21:35] \u001b[m\"PUT /client_num HTTP/1.1\" 200 14\u001b[0m\n",
      "[14/Oct/2021 06:21:35] \u001b[m\"PUT /experiment/ HTTP/1.1\" 200 14\u001b[0m\n"
     ]
    }
   ],
   "source": [
    "!bash FL_Server/runserver.sh"
   ]
  }
 ],
 "metadata": {
  "kernelspec": {
   "display_name": "Python 3",
   "language": "python",
   "name": "python3"
  },
  "language_info": {
   "codemirror_mode": {
    "name": "ipython",
    "version": 3
   },
   "file_extension": ".py",
   "mimetype": "text/x-python",
   "name": "python",
   "nbconvert_exporter": "python",
   "pygments_lexer": "ipython3",
   "version": "3.8.10"
  }
 },
 "nbformat": 4,
 "nbformat_minor": 4
}
