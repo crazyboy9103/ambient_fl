{
 "cells": [
  {
   "cell_type": "code",
   "execution_count": null,
   "metadata": {
    "scrolled": true
   },
   "outputs": [
    {
     "name": "stdout",
     "output_type": "stream",
     "text": [
      "Performing system checks...\n",
      "\n",
      "System check identified no issues (0 silenced).\n",
      "\u001b[31m\n",
      "You have 15 unapplied migration(s). Your project may not work properly until you apply the migrations for app(s): admin, auth, contenttypes, sessions.\u001b[0m\n",
      "\u001b[31mRun 'python manage.py migrate' to apply them.\n",
      "\u001b[0m\n",
      "September 08, 2021 - 06:52:49\n",
      "Django version 2.1.11, using settings 'FL_Server.settings'\n",
      "Starting development server at http://127.0.0.1:8000/\n",
      "Quit the server with CONTROL-C.\n",
      "[08/Sep/2021 06:52:56] \u001b[32m\"GET /reset HTTP/1.1\" 301 0\u001b[0m\n",
      "[08/Sep/2021 06:52:56] \u001b[m\"GET /reset/ HTTP/1.1\" 200 10\u001b[0m\n",
      "[08/Sep/2021 06:52:56] \u001b[m\"PUT /client_num HTTP/1.1\" 200 14\u001b[0m\n",
      "[08/Sep/2021 06:52:56] \u001b[m\"GET /get_id HTTP/1.1\" 200 1\u001b[0m\n",
      "[08/Sep/2021 06:52:56] \u001b[m\"GET /round HTTP/1.1\" 200 1\u001b[0m\n",
      "[08/Sep/2021 06:52:57] \u001b[m\"PUT /total_num HTTP/1.1\" 200 14\u001b[0m\n",
      "[08/Sep/2021 06:52:57] \u001b[m\"GET /get_id HTTP/1.1\" 200 1\u001b[0m\n",
      "[08/Sep/2021 06:52:57] \u001b[m\"GET /round HTTP/1.1\" 200 1\u001b[0m\n",
      "[08/Sep/2021 06:52:57] \u001b[m\"PUT /total_num HTTP/1.1\" 200 14\u001b[0m\n",
      "[08/Sep/2021 06:52:58] \u001b[m\"GET /get_id HTTP/1.1\" 200 1\u001b[0m\n",
      "[08/Sep/2021 06:52:58] \u001b[m\"GET /round HTTP/1.1\" 200 1\u001b[0m\n",
      "[08/Sep/2021 06:52:59] \u001b[m\"PUT /total_num HTTP/1.1\" 200 14\u001b[0m\n",
      "[08/Sep/2021 06:52:59] \u001b[m\"GET /round HTTP/1.1\" 200 1\u001b[0m\n",
      "[08/Sep/2021 06:52:59] \u001b[m\"GET /round HTTP/1.1\" 200 1\u001b[0m\n",
      "[08/Sep/2021 06:52:59] \u001b[m\"GET /round HTTP/1.1\" 200 1\u001b[0m\n",
      "[08/Sep/2021 06:52:59] \u001b[m\"GET /weight HTTP/1.1\" 200 4\u001b[0m\n",
      "[08/Sep/2021 06:52:59] \u001b[m\"GET /weight HTTP/1.1\" 200 4\u001b[0m\n",
      "[08/Sep/2021 06:52:59] \u001b[m\"GET /weight HTTP/1.1\" 200 4\u001b[0m\n",
      "[08/Sep/2021 06:52:59] \u001b[m\"GET /weight HTTP/1.1\" 200 4\u001b[0m\n",
      "[08/Sep/2021 06:52:59] \u001b[m\"GET /weight HTTP/1.1\" 200 4\u001b[0m\n",
      "[08/Sep/2021 06:52:59] \u001b[m\"GET /weight HTTP/1.1\" 200 4\u001b[0m\n",
      "Performing system checks...\n",
      "\n",
      "System check identified no issues (0 silenced).\n",
      "\u001b[31m\n",
      "You have 15 unapplied migration(s). Your project may not work properly until you apply the migrations for app(s): admin, auth, contenttypes, sessions.\u001b[0m\n",
      "\u001b[31mRun 'python manage.py migrate' to apply them.\n",
      "\u001b[0m\n",
      "September 08, 2021 - 06:58:33\n",
      "Django version 2.1.11, using settings 'FL_Server.settings'\n",
      "Starting development server at http://127.0.0.1:8000/\n",
      "Quit the server with CONTROL-C.\n",
      "[08/Sep/2021 06:58:34] \u001b[32m\"GET /reset HTTP/1.1\" 301 0\u001b[0m\n",
      "[08/Sep/2021 06:58:34] \u001b[m\"GET /reset/ HTTP/1.1\" 200 10\u001b[0m\n",
      "[08/Sep/2021 06:58:34] \u001b[m\"PUT /client_num HTTP/1.1\" 200 14\u001b[0m\n",
      "[08/Sep/2021 06:58:34] \u001b[m\"GET /get_id HTTP/1.1\" 200 1\u001b[0m\n",
      "[08/Sep/2021 06:58:34] \u001b[m\"GET /round HTTP/1.1\" 200 1\u001b[0m\n",
      "[08/Sep/2021 06:58:35] \u001b[m\"PUT /total_num HTTP/1.1\" 200 14\u001b[0m\n",
      "[08/Sep/2021 06:58:35] \u001b[m\"GET /get_id HTTP/1.1\" 200 1\u001b[0m\n",
      "[08/Sep/2021 06:58:35] \u001b[m\"GET /round HTTP/1.1\" 200 1\u001b[0m\n",
      "[08/Sep/2021 06:58:35] \u001b[m\"PUT /total_num HTTP/1.1\" 200 14\u001b[0m\n",
      "[08/Sep/2021 06:58:36] \u001b[m\"GET /get_id HTTP/1.1\" 200 1\u001b[0m\n",
      "[08/Sep/2021 06:58:36] \u001b[m\"GET /round HTTP/1.1\" 200 1\u001b[0m\n",
      "[08/Sep/2021 06:58:36] \u001b[m\"PUT /total_num HTTP/1.1\" 200 14\u001b[0m\n",
      "[08/Sep/2021 06:58:36] \u001b[m\"GET /round HTTP/1.1\" 200 1\u001b[0m\n",
      "[08/Sep/2021 06:58:36] \u001b[m\"GET /round HTTP/1.1\" 200 1\u001b[0m\n",
      "[08/Sep/2021 06:58:36] \u001b[m\"GET /round HTTP/1.1\" 200 1\u001b[0m\n",
      "[08/Sep/2021 06:58:36] \u001b[m\"GET /weight HTTP/1.1\" 200 4\u001b[0m\n",
      "[08/Sep/2021 06:58:36] \u001b[m\"GET /weight HTTP/1.1\" 200 4\u001b[0m\n",
      "[08/Sep/2021 06:58:36] \u001b[m\"GET /weight HTTP/1.1\" 200 4\u001b[0m\n",
      "[08/Sep/2021 06:58:36] \u001b[m\"GET /weight HTTP/1.1\" 200 4\u001b[0m\n",
      "[08/Sep/2021 06:58:36] \u001b[m\"GET /weight HTTP/1.1\" 200 4\u001b[0m\n",
      "[08/Sep/2021 06:58:36] \u001b[m\"GET /weight HTTP/1.1\" 200 4\u001b[0m\n"
     ]
    }
   ],
   "source": [
    "!python3 ../FL_Server/manage.py runserver"
   ]
  }
 ],
 "metadata": {
  "kernelspec": {
   "display_name": "Python 3",
   "language": "python",
   "name": "python3"
  },
  "language_info": {
   "codemirror_mode": {
    "name": "ipython",
    "version": 3
   },
   "file_extension": ".py",
   "mimetype": "text/x-python",
   "name": "python",
   "nbconvert_exporter": "python",
   "pygments_lexer": "ipython3",
   "version": "3.7.6"
  }
 },
 "nbformat": 4,
 "nbformat_minor": 4
}
