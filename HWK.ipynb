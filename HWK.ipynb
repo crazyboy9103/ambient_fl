{
 "cells": [
  {
   "cell_type": "markdown",
   "metadata": {},
   "source": [
    "# Jetson Nano를 사용해서 Federated Learning으로 학습 과제\n",
    "\n",
    "* 이전 실습에서 Django를 가지고 서버를 만들고 Federated learning을 진행해보는 실습을 진행하였다.\n",
    "* 이번 과제에서는 실제 Jetson Nano를 사용해서 Federated Learning을 진행해야 한다."
   ]
  },
  {
   "cell_type": "markdown",
   "metadata": {},
   "source": [
    "* ```Jetson```클래스를 사용해서 모든 Jetson nano에 동시에 커맨드를 보낸다.\n",
    "* 현재 Jetson Nano는 20101 ~ 20106, 20111 ~ 20116, 20121 ~ 20126, 20131 ~ 20136 포트가 사용 가능함"
   ]
  },
  {
   "cell_type": "code",
   "execution_count": 18,
   "metadata": {},
   "outputs": [],
   "source": [
    "try:\n",
    "    import fabric\n",
    "except:\n",
    "    !pip install fabric\n",
    "    \n",
    "try:\n",
    "    from IPython.display import clear_output\n",
    "except:\n",
    "    pass"
   ]
  },
  {
   "cell_type": "code",
   "execution_count": 19,
   "metadata": {},
   "outputs": [],
   "source": [
    "import logging, socket, paramiko.ssh_exception\n",
    "from fabric import Connection, Config, SerialGroup, ThreadingGroup, exceptions, runners\n",
    "from fabric.exceptions import GroupException\n",
    "from random import random"
   ]
  },
  {
   "cell_type": "code",
   "execution_count": 20,
   "metadata": {},
   "outputs": [],
   "source": [
    "import paramiko\n",
    "import time\n",
    "import threading\n",
    "\n",
    "class Jetson:\n",
    "    def __init__(self, min_port, max_port):\n",
    "        self.address = \"147.47.200.209\"\n",
    "        self.username, self.password = \"jetson\", \"jetson\"\n",
    "        self.ports = [i for i in range(int(min_port), int(max_port)+1) if 1<=i%10<=6]\n",
    "        self.ssh_ports = []\n",
    "        self.connections = []\n",
    "        \n",
    "    def check(self):\n",
    "        for port in self.ports:\n",
    "            con = Connection(f'{self.username}@{self.address}:{port}', connect_kwargs ={\"password\":self.password})\n",
    "            command = 'ls'\n",
    "            print(f'----------------{port}----------------')\n",
    "            try:\n",
    "                con.run(command)\n",
    "                self.ssh_ports.append(port)\n",
    "                self.connections.append(con)\n",
    "            except:\n",
    "                print('ERROR')\n",
    "\n",
    "        print(\"Available ports\", self.ssh_ports)\n",
    "        return len(self.ssh_ports)\n",
    "            \n",
    "    \n",
    "    \n",
    "    def send_command(self, command):\n",
    "        for port, con in zip(self.ssh_ports, self.connections): \n",
    "            print(f'----------------{port}----------------')\n",
    "            try:\n",
    "                con.run(command)\n",
    "\n",
    "            except:\n",
    "                print('ERROR')\n",
    "\n",
    "                        \n",
    "    def start_fed(self, experiment, max_round, num_samples, num_clients):\n",
    "        for i, (port, con) in enumerate(zip(self.ssh_ports, self.connections)):\n",
    "            command = f'docker exec temp python3 /ambient_fl/client.py --round {max_round} --num {num_samples} --id {i} --exp {experiment}'\n",
    "            print(f'----------------{port}----------------')\n",
    "            try:\n",
    "                t=threading.Thread(target=con.run,args=(command,))\n",
    "                t.start()\n",
    "                time.sleep(1)\n",
    "            except:\n",
    "                print('ERROR')"
   ]
  },
  {
   "cell_type": "markdown",
   "metadata": {},
   "source": [
    "* 명령어 실행에 필요한 변수들을 정의한다\n",
    "    * ```MIN_PORT``` : 최소 포트값 (default = 20101)\n",
    "    * ```MAX_PORT``` : 최대 포트값 (default = 20136)\n",
    "    * ```EXPERIMENT``` : experiment 번호\n",
    "    * ```MAX_ROUND``` : 학습할 round\n",
    "    * ```NUM_SAMPLES``` : 각 클라이언트에서 학습에 사용할 수 있는 데이터의 개수 (experiment 3, 4에 대해서는 무시)\n",
    "    * ```CLIENT_NUM``` : 클라이언트 수"
   ]
  },
  {
   "cell_type": "code",
   "execution_count": 21,
   "metadata": {},
   "outputs": [],
   "source": [
    "MIN_PORT = 20101\n",
    "MAX_PORT = 20106\n",
    "EXPERIMENT = 1\n",
    "MAX_ROUND = 5\n",
    "NUM_SAMPLES = 600"
   ]
  },
  {
   "cell_type": "code",
   "execution_count": 22,
   "metadata": {
    "scrolled": true
   },
   "outputs": [
    {
     "name": "stdout",
     "output_type": "stream",
     "text": [
      "----------------20101----------------\n",
      "ambient_fl\n",
      "Desktop\n",
      "Documents\n",
      "Downloads\n",
      "examples.desktop\n",
      "FedML-IoT\n",
      "FL\n",
      "jetson\n",
      "jetson_network.sh\n",
      "Music\n",
      "Pictures\n",
      "Public\n",
      "Templates\n",
      "Videos\n",
      "----------------20102----------------\n",
      "ambient_fl\n",
      "Desktop\n",
      "Documents\n",
      "Downloads\n",
      "examples.desktop\n",
      "FL\n",
      "jetson\n",
      "jetson_network.sh\n",
      "Music\n",
      "Pictures\n",
      "Public\n",
      "Templates\n",
      "Videos\n",
      "----------------20103----------------\n",
      "ambient_fl\n",
      "Desktop\n",
      "Documents\n",
      "Downloads\n",
      "examples.desktop\n",
      "FL\n",
      "jetson\n",
      "jetson_network.sh\n",
      "Music\n",
      "Pictures\n",
      "Public\n",
      "Templates\n",
      "Videos\n",
      "----------------20104----------------\n",
      "ambient_fl\n",
      "Desktop\n",
      "Documents\n",
      "Downloads\n",
      "examples.desktop\n",
      "FL\n",
      "jetson\n",
      "jetson_network.sh\n",
      "Music\n",
      "Pictures\n",
      "Public\n",
      "Templates\n",
      "Videos\n",
      "----------------20105----------------\n",
      "ambient_fl\n",
      "Desktop\n",
      "Documents\n",
      "Downloads\n",
      "examples.desktop\n",
      "FL\n",
      "jetson\n",
      "jetson_network.sh\n",
      "Music\n",
      "Pictures\n",
      "Public\n",
      "Templates\n",
      "Videos\n",
      "----------------20106----------------\n",
      "ambient_fl\n",
      "Desktop\n",
      "Documents\n",
      "Downloads\n",
      "examples.desktop\n",
      "FL\n",
      "jetson\n",
      "jetson_network.sh\n",
      "Music\n",
      "Pictures\n",
      "Public\n",
      "Templates\n",
      "Videos\n",
      "Available ports [20101, 20102, 20103, 20104, 20105, 20106]\n"
     ]
    }
   ],
   "source": [
    "jetson = Jetson(min_port = MIN_PORT, max_port=MAX_PORT)\n",
    "CLIENT_NUM = jetson.check() # 통신 전에 무조건 실행되야 함"
   ]
  },
  {
   "cell_type": "markdown",
   "metadata": {},
   "source": [
    "* 아래 커맨드를 통해 서버를 초기화 시키고, 클라이언트 수, 실험, 전체 round 수를 서버에 알려줄 수 있다.\n",
    "* 초기화가 성공한 경우 ```<Response [200]> Initialized server>``` 라고 뜰 것이다"
   ]
  },
  {
   "cell_type": "code",
   "execution_count": 23,
   "metadata": {
    "scrolled": true
   },
   "outputs": [
    {
     "name": "stdout",
     "output_type": "stream",
     "text": [
      "<Response [200]> Initialized server\n"
     ]
    }
   ],
   "source": [
    "import requests\n",
    "init = requests.get(f\"http://147.47.200.178:9103/initialize/{CLIENT_NUM}/{EXPERIMENT}/{MAX_ROUND}\")\n",
    "print(init, init.text)"
   ]
  },
  {
   "cell_type": "markdown",
   "metadata": {},
   "source": [
    "# 전체 컨테이너 보기"
   ]
  },
  {
   "cell_type": "code",
   "execution_count": 24,
   "metadata": {
    "scrolled": true
   },
   "outputs": [
    {
     "name": "stdout",
     "output_type": "stream",
     "text": [
      "----------------20101----------------\n",
      "CONTAINER ID   IMAGE          COMMAND       CREATED        STATUS                     PORTS     NAMES\n",
      "e7cef17d1784   36d6d3fef19b   \"/bin/bash\"   17 hours ago   Exited (0) 3 minutes ago             temp\n",
      "----------------20102----------------\n",
      "CONTAINER ID   IMAGE                           COMMAND       CREATED        STATUS          PORTS     NAMES\n",
      "ff49389345de   crazyboy9103/jetson_fl:latest   \"/bin/bash\"   17 hours ago   Up 15 minutes             temp\n",
      "----------------20103----------------\n",
      "CONTAINER ID   IMAGE                           COMMAND       CREATED        STATUS          PORTS     NAMES\n",
      "e83d26850302   crazyboy9103/jetson_fl:latest   \"/bin/bash\"   17 hours ago   Up 15 minutes             temp\n",
      "----------------20104----------------\n",
      "CONTAINER ID   IMAGE                           COMMAND       CREATED        STATUS          PORTS     NAMES\n",
      "d0e0dd1b2ee2   crazyboy9103/jetson_fl:latest   \"/bin/bash\"   17 hours ago   Up 15 minutes             temp\n",
      "----------------20105----------------\n",
      "CONTAINER ID   IMAGE                           COMMAND       CREATED        STATUS          PORTS     NAMES\n",
      "14771fdb2ec7   crazyboy9103/jetson_fl:latest   \"/bin/bash\"   17 hours ago   Up 15 minutes             temp\n",
      "----------------20106----------------\n",
      "CONTAINER ID   IMAGE                           COMMAND       CREATED        STATUS          PORTS     NAMES\n",
      "d254e301da94   crazyboy9103/jetson_fl:latest   \"/bin/bash\"   17 hours ago   Up 15 minutes             temp\n"
     ]
    }
   ],
   "source": [
    "jetson.send_command(\"docker ps -a\")"
   ]
  },
  {
   "cell_type": "markdown",
   "metadata": {},
   "source": [
    "# 실행중인 컨테이너 정지\n",
    "* 학습 중인 컨테이너 정지"
   ]
  },
  {
   "cell_type": "code",
   "execution_count": 25,
   "metadata": {
    "scrolled": true
   },
   "outputs": [
    {
     "name": "stdout",
     "output_type": "stream",
     "text": [
      "----------------20101----------------\n",
      "e7cef17d1784\n",
      "----------------20102----------------\n",
      "ff49389345de\n",
      "----------------20103----------------\n",
      "e83d26850302\n",
      "----------------20104----------------\n",
      "d0e0dd1b2ee2\n",
      "----------------20105----------------\n",
      "14771fdb2ec7\n",
      "----------------20106----------------\n",
      "d254e301da94\n"
     ]
    }
   ],
   "source": [
    "jetson.send_command(\"docker stop $(docker ps -a -q)\")"
   ]
  },
  {
   "cell_type": "markdown",
   "metadata": {},
   "source": [
    "# 정지된 컨테이너 실행"
   ]
  },
  {
   "cell_type": "code",
   "execution_count": 13,
   "metadata": {
    "scrolled": false
   },
   "outputs": [
    {
     "name": "stdout",
     "output_type": "stream",
     "text": [
      "----------------20101----------------\n",
      "temp\n",
      "----------------20102----------------\n",
      "temp\n",
      "----------------20103----------------\n",
      "temp\n",
      "----------------20104----------------\n",
      "temp\n",
      "----------------20105----------------\n",
      "temp\n",
      "----------------20106----------------\n",
      "temp\n"
     ]
    }
   ],
   "source": [
    "jetson.send_command(\"docker start temp\")"
   ]
  },
  {
   "cell_type": "markdown",
   "metadata": {},
   "source": [
    "# docker 이미지 최신으로 업데이트 (불필요)"
   ]
  },
  {
   "cell_type": "code",
   "execution_count": 27,
   "metadata": {
    "scrolled": true
   },
   "outputs": [
    {
     "name": "stdout",
     "output_type": "stream",
     "text": [
      "----------------20101----------------\n",
      "latest: Pulling from crazyboy9103/jetson_fl\n",
      "Digest: sha256:61a95436031e258a51574ec8987c321db264c5a682f1c59ba87691503edaec55\n",
      "Status: Image is up to date for crazyboy9103/jetson_fl:latest\n",
      "docker.io/crazyboy9103/jetson_fl:latest\n",
      "----------------20102----------------\n",
      "latest: Pulling from crazyboy9103/jetson_fl\n",
      "04da93b342eb: Already exists\n",
      "b235194751de: Already exists\n",
      "606a67bb8db9: Already exists\n",
      "9ce7ce1da17c: Already exists\n",
      "f5299db1221c: Already exists\n",
      "cb893097de39: Already exists\n",
      "a36863a728ec: Already exists\n",
      "86dd6e5994e2: Already exists\n",
      "15a5811e1a7b: Already exists\n",
      "b1cdeb9e69c9: Already exists\n",
      "f0f57d03cad8: Already exists\n",
      "f84ceb6e8887: Already exists\n",
      "905b1329c1d4: Already exists\n",
      "cfb2938be99f: Already exists\n",
      "bf60857fb496: Already exists\n",
      "0aac5305d11a: Already exists\n",
      "08c23323368d: Already exists\n",
      "93752947af53: Already exists\n",
      "4d4b03e45e85: Already exists\n",
      "890acf9522e1: Already exists\n",
      "4285cec48fa4: Already exists\n",
      "b2134f7c52d6: Already exists\n",
      "fc89162c3e71: Already exists\n",
      "6207db6c0808: Already exists\n",
      "ff42b2cc8554: Already exists\n",
      "cac51dab2a29: Already exists\n",
      "358194fb67c2: Already exists\n",
      "115138a3660d: Already exists\n",
      "bbef0422c999: Already exists\n",
      "cabf75c1f815: Already exists\n",
      "d30750a9acab: Already exists\n",
      "369aa62c7e99: Already exists\n",
      "70a8b36bd51e: Already exists\n",
      "aea7d66ff9fa: Already exists\n",
      "fdfae1f895e8: Already exists\n",
      "c55467642d21: Pulling fs layer\n",
      "c55467642d21: Verifying Checksum\n",
      "c55467642d21: Download complete\n",
      "c55467642d21: Pull complete\n",
      "Digest: sha256:61a95436031e258a51574ec8987c321db264c5a682f1c59ba87691503edaec55\n",
      "Status: Downloaded newer image for crazyboy9103/jetson_fl:latest\n",
      "docker.io/crazyboy9103/jetson_fl:latest\n",
      "----------------20103----------------\n",
      "latest: Pulling from crazyboy9103/jetson_fl\n",
      "04da93b342eb: Already exists\n",
      "b235194751de: Already exists\n",
      "606a67bb8db9: Already exists\n",
      "9ce7ce1da17c: Already exists\n",
      "f5299db1221c: Already exists\n",
      "cb893097de39: Already exists\n",
      "a36863a728ec: Already exists\n",
      "86dd6e5994e2: Already exists\n",
      "15a5811e1a7b: Already exists\n",
      "b1cdeb9e69c9: Already exists\n",
      "f0f57d03cad8: Already exists\n",
      "f84ceb6e8887: Already exists\n",
      "905b1329c1d4: Already exists\n",
      "cfb2938be99f: Already exists\n",
      "bf60857fb496: Already exists\n",
      "0aac5305d11a: Already exists\n",
      "08c23323368d: Already exists\n",
      "93752947af53: Already exists\n",
      "4d4b03e45e85: Already exists\n",
      "890acf9522e1: Already exists\n",
      "4285cec48fa4: Already exists\n",
      "b2134f7c52d6: Already exists\n",
      "fc89162c3e71: Already exists\n",
      "6207db6c0808: Already exists\n",
      "ff42b2cc8554: Already exists\n",
      "cac51dab2a29: Already exists\n",
      "358194fb67c2: Already exists\n",
      "115138a3660d: Already exists\n",
      "bbef0422c999: Already exists\n",
      "cabf75c1f815: Already exists\n",
      "d30750a9acab: Already exists\n",
      "369aa62c7e99: Already exists\n",
      "70a8b36bd51e: Already exists\n",
      "aea7d66ff9fa: Already exists\n",
      "fdfae1f895e8: Already exists\n",
      "c55467642d21: Pulling fs layer\n",
      "c55467642d21: Verifying Checksum\n",
      "c55467642d21: Download complete\n",
      "c55467642d21: Pull complete\n",
      "Digest: sha256:61a95436031e258a51574ec8987c321db264c5a682f1c59ba87691503edaec55\n",
      "Status: Downloaded newer image for crazyboy9103/jetson_fl:latest\n",
      "docker.io/crazyboy9103/jetson_fl:latest\n",
      "----------------20104----------------\n",
      "latest: Pulling from crazyboy9103/jetson_fl\n",
      "04da93b342eb: Already exists\n",
      "b235194751de: Already exists\n",
      "606a67bb8db9: Already exists\n",
      "9ce7ce1da17c: Already exists\n",
      "f5299db1221c: Already exists\n",
      "cb893097de39: Already exists\n",
      "a36863a728ec: Already exists\n",
      "86dd6e5994e2: Already exists\n",
      "15a5811e1a7b: Already exists\n",
      "b1cdeb9e69c9: Already exists\n",
      "f0f57d03cad8: Already exists\n",
      "f84ceb6e8887: Already exists\n",
      "905b1329c1d4: Already exists\n",
      "cfb2938be99f: Already exists\n",
      "bf60857fb496: Already exists\n",
      "0aac5305d11a: Already exists\n",
      "08c23323368d: Already exists\n",
      "93752947af53: Already exists\n",
      "4d4b03e45e85: Already exists\n",
      "890acf9522e1: Already exists\n",
      "4285cec48fa4: Already exists\n",
      "b2134f7c52d6: Already exists\n",
      "fc89162c3e71: Already exists\n",
      "6207db6c0808: Already exists\n",
      "ff42b2cc8554: Already exists\n",
      "cac51dab2a29: Already exists\n",
      "358194fb67c2: Already exists\n",
      "115138a3660d: Already exists\n",
      "bbef0422c999: Already exists\n",
      "cabf75c1f815: Already exists\n",
      "d30750a9acab: Already exists\n",
      "369aa62c7e99: Already exists\n",
      "70a8b36bd51e: Already exists\n",
      "aea7d66ff9fa: Already exists\n",
      "fdfae1f895e8: Already exists\n",
      "c55467642d21: Pulling fs layer\n",
      "c55467642d21: Verifying Checksum\n",
      "c55467642d21: Download complete\n",
      "c55467642d21: Pull complete\n",
      "Digest: sha256:61a95436031e258a51574ec8987c321db264c5a682f1c59ba87691503edaec55\n",
      "Status: Downloaded newer image for crazyboy9103/jetson_fl:latest\n",
      "docker.io/crazyboy9103/jetson_fl:latest\n",
      "----------------20105----------------\n",
      "latest: Pulling from crazyboy9103/jetson_fl\n",
      "04da93b342eb: Already exists\n",
      "b235194751de: Already exists\n",
      "606a67bb8db9: Already exists\n",
      "9ce7ce1da17c: Already exists\n",
      "f5299db1221c: Already exists\n",
      "cb893097de39: Already exists\n",
      "a36863a728ec: Already exists\n",
      "86dd6e5994e2: Already exists\n",
      "15a5811e1a7b: Already exists\n",
      "b1cdeb9e69c9: Already exists\n",
      "f0f57d03cad8: Already exists\n",
      "f84ceb6e8887: Already exists\n",
      "905b1329c1d4: Already exists\n",
      "cfb2938be99f: Already exists\n",
      "bf60857fb496: Already exists\n",
      "0aac5305d11a: Already exists\n",
      "08c23323368d: Already exists\n",
      "93752947af53: Already exists\n",
      "4d4b03e45e85: Already exists\n",
      "890acf9522e1: Already exists\n",
      "4285cec48fa4: Already exists\n",
      "b2134f7c52d6: Already exists\n",
      "fc89162c3e71: Already exists\n",
      "6207db6c0808: Already exists\n",
      "ff42b2cc8554: Already exists\n",
      "cac51dab2a29: Already exists\n",
      "358194fb67c2: Already exists\n",
      "115138a3660d: Already exists\n",
      "bbef0422c999: Already exists\n",
      "cabf75c1f815: Already exists\n",
      "d30750a9acab: Already exists\n",
      "369aa62c7e99: Already exists\n",
      "70a8b36bd51e: Already exists\n",
      "aea7d66ff9fa: Already exists\n",
      "fdfae1f895e8: Already exists\n",
      "c55467642d21: Pulling fs layer\n",
      "c55467642d21: Download complete\n",
      "c55467642d21: Pull complete\n",
      "Digest: sha256:61a95436031e258a51574ec8987c321db264c5a682f1c59ba87691503edaec55\n",
      "Status: Downloaded newer image for crazyboy9103/jetson_fl:latest\n",
      "docker.io/crazyboy9103/jetson_fl:latest\n",
      "----------------20106----------------\n",
      "latest: Pulling from crazyboy9103/jetson_fl\n",
      "04da93b342eb: Already exists\n",
      "b235194751de: Already exists\n",
      "606a67bb8db9: Already exists\n",
      "9ce7ce1da17c: Already exists\n",
      "f5299db1221c: Already exists\n",
      "cb893097de39: Already exists\n",
      "a36863a728ec: Already exists\n",
      "86dd6e5994e2: Already exists\n",
      "15a5811e1a7b: Already exists\n",
      "b1cdeb9e69c9: Already exists\n",
      "f0f57d03cad8: Already exists\n",
      "f84ceb6e8887: Already exists\n",
      "905b1329c1d4: Already exists\n",
      "cfb2938be99f: Already exists\n",
      "bf60857fb496: Already exists\n",
      "0aac5305d11a: Already exists\n",
      "08c23323368d: Already exists\n",
      "93752947af53: Already exists\n",
      "4d4b03e45e85: Already exists\n",
      "890acf9522e1: Already exists\n",
      "4285cec48fa4: Already exists\n",
      "b2134f7c52d6: Already exists\n",
      "fc89162c3e71: Already exists\n",
      "6207db6c0808: Already exists\n",
      "ff42b2cc8554: Already exists\n",
      "cac51dab2a29: Already exists\n",
      "358194fb67c2: Already exists\n",
      "115138a3660d: Already exists\n",
      "bbef0422c999: Already exists\n",
      "cabf75c1f815: Already exists\n",
      "d30750a9acab: Already exists\n",
      "369aa62c7e99: Already exists\n",
      "70a8b36bd51e: Already exists\n",
      "aea7d66ff9fa: Already exists\n",
      "fdfae1f895e8: Already exists\n",
      "c55467642d21: Pulling fs layer\n",
      "c55467642d21: Verifying Checksum\n",
      "c55467642d21: Download complete\n",
      "c55467642d21: Pull complete\n",
      "Digest: sha256:61a95436031e258a51574ec8987c321db264c5a682f1c59ba87691503edaec55\n",
      "Status: Downloaded newer image for crazyboy9103/jetson_fl:latest\n",
      "docker.io/crazyboy9103/jetson_fl:latest\n"
     ]
    }
   ],
   "source": [
    "jetson.send_command(\"docker pull crazyboy9103/jetson_fl:latest\")"
   ]
  },
  {
   "cell_type": "markdown",
   "metadata": {},
   "source": [
    "# temp라는 이름의 컨테이너를 실행"
   ]
  },
  {
   "cell_type": "code",
   "execution_count": 28,
   "metadata": {
    "scrolled": false
   },
   "outputs": [
    {
     "name": "stdout",
     "output_type": "stream",
     "text": [
      "----------------20101----------------\n",
      "05001744ca9723ce81e0473ff2d2cbbbd2980349b65bea800e96b62776435bfa\n",
      "----------------20102----------------\n",
      "84ad9bc76f7b1504dc890a7339edc91c57ee4155d714ff8db1acdb53fc7e6232\n",
      "----------------20103----------------\n",
      "d4eb8f51df1e5c97f9e20d818e0b4f9c78cc80380dc95ffb2902fc00c0f3c5cf\n",
      "----------------20104----------------\n",
      "f4d8e53866eef763893ce925445fdc1c65d400320535682732c41befe8c3aede\n",
      "----------------20105----------------\n",
      "a8174f76655d4a69c78ab7572ff5a4a1b6f9de23da6ec91139a6d311412ab2e3\n",
      "----------------20106----------------\n",
      "698dafbb3877ebbf5582d7a64cd0842b3d51d0f155b652db1a338c59e725b319\n"
     ]
    }
   ],
   "source": [
    "jetson.send_command(\"docker run -d -ti --name temp --gpus all crazyboy9103/jetson_fl:latest\")"
   ]
  },
  {
   "cell_type": "markdown",
   "metadata": {},
   "source": [
    "* 아래 커맨드를 통해 ```MIN_PORT``` 부터 ```MAX_PORT```까지 federated learning을 시작한다. (결과는 서버에 쌓임) "
   ]
  },
  {
   "cell_type": "markdown",
   "metadata": {},
   "source": [
    "# 컨테이너 삭제\n",
    "* 위에서 생성한 temp라는 컨테이너를 삭제한다"
   ]
  },
  {
   "cell_type": "code",
   "execution_count": 26,
   "metadata": {
    "scrolled": false
   },
   "outputs": [
    {
     "name": "stdout",
     "output_type": "stream",
     "text": [
      "----------------20101----------------\n",
      "temp\n",
      "----------------20102----------------\n",
      "temp\n",
      "----------------20103----------------\n",
      "temp\n",
      "----------------20104----------------\n",
      "temp\n",
      "----------------20105----------------\n",
      "temp\n",
      "----------------20106----------------\n",
      "temp\n"
     ]
    }
   ],
   "source": [
    "jetson.send_command(\"docker rm temp\")"
   ]
  },
  {
   "cell_type": "markdown",
   "metadata": {},
   "source": [
    "# Federated Learning 시작"
   ]
  },
  {
   "cell_type": "code",
   "execution_count": 29,
   "metadata": {
    "scrolled": true
   },
   "outputs": [
    {
     "name": "stdout",
     "output_type": "stream",
     "text": [
      "----------------20101----------------\n",
      "----------------20102----------------\n",
      "----------------20103----------------\n"
     ]
    },
    {
     "name": "stderr",
     "output_type": "stream",
     "text": [
      "2021-11-19 01:38:10.307176: I tensorflow/stream_executor/platform/default/dso_loader.cc:49] Successfully opened dynamic library libcudart.so.10.2\n"
     ]
    },
    {
     "name": "stdout",
     "output_type": "stream",
     "text": [
      "----------------20104----------------\n"
     ]
    },
    {
     "name": "stderr",
     "output_type": "stream",
     "text": [
      "2021-11-19 01:38:10.723713: I tensorflow/stream_executor/platform/default/dso_loader.cc:49] Successfully opened dynamic library libcudart.so.10.2\n"
     ]
    },
    {
     "name": "stdout",
     "output_type": "stream",
     "text": [
      "----------------20105----------------\n"
     ]
    },
    {
     "name": "stderr",
     "output_type": "stream",
     "text": [
      "2021-11-19 01:38:11.813681: I tensorflow/stream_executor/platform/default/dso_loader.cc:49] Successfully opened dynamic library libcudart.so.10.2\n"
     ]
    },
    {
     "name": "stdout",
     "output_type": "stream",
     "text": [
      "----------------20106----------------\n"
     ]
    },
    {
     "name": "stderr",
     "output_type": "stream",
     "text": [
      "2021-11-19 01:38:13.037194: I tensorflow/stream_executor/platform/default/dso_loader.cc:49] Successfully opened dynamic library libcudart.so.10.2\n",
      "2021-11-19 01:38:14.006387: I tensorflow/stream_executor/platform/default/dso_loader.cc:49] Successfully opened dynamic library libcudart.so.10.2\n",
      "2021-11-19 01:38:14.766557: I tensorflow/stream_executor/platform/default/dso_loader.cc:49] Successfully opened dynamic library libcudart.so.10.2\n",
      "2021-11-19 01:38:18.188096: I tensorflow/stream_executor/platform/default/dso_loader.cc:49] Successfully opened dynamic library libcuda.so.1\n",
      "2021-11-19 01:38:18.204333: I tensorflow/stream_executor/cuda/cuda_gpu_executor.cc:1046] ARM64 does not support NUMA - returning NUMA node zero\n",
      "2021-11-19 01:38:18.204523: I tensorflow/core/common_runtime/gpu/gpu_device.cc:1742] Found device 0 with properties: \n",
      "pciBusID: 0000:00:00.0 name: NVIDIA Tegra X1 computeCapability: 5.3\n",
      "coreClock: 0.9216GHz coreCount: 1 deviceMemorySize: 3.87GiB deviceMemoryBandwidth: 194.55MiB/s\n",
      "2021-11-19 01:38:18.204603: I tensorflow/stream_executor/platform/default/dso_loader.cc:49] Successfully opened dynamic library libcudart.so.10.2\n",
      "2021-11-19 01:38:18.265860: I tensorflow/stream_executor/platform/default/dso_loader.cc:49] Successfully opened dynamic library libcublas.so.10\n",
      "2021-11-19 01:38:18.365342: I tensorflow/stream_executor/platform/default/dso_loader.cc:49] Successfully opened dynamic library libcufft.so.10\n",
      "2021-11-19 01:38:18.422684: I tensorflow/stream_executor/platform/default/dso_loader.cc:49] Successfully opened dynamic library libcurand.so.10\n",
      "2021-11-19 01:38:18.549201: I tensorflow/stream_executor/platform/default/dso_loader.cc:49] Successfully opened dynamic library libcusolver.so.10\n",
      "2021-11-19 01:38:18.589699: I tensorflow/stream_executor/platform/default/dso_loader.cc:49] Successfully opened dynamic library libcusparse.so.10\n",
      "2021-11-19 01:38:18.612273: I tensorflow/stream_executor/platform/default/dso_loader.cc:49] Successfully opened dynamic library libcudnn.so.8\n",
      "2021-11-19 01:38:18.612851: I tensorflow/stream_executor/cuda/cuda_gpu_executor.cc:1046] ARM64 does not support NUMA - returning NUMA node zero\n",
      "2021-11-19 01:38:18.614139: I tensorflow/stream_executor/cuda/cuda_gpu_executor.cc:1046] ARM64 does not support NUMA - returning NUMA node zero\n",
      "2021-11-19 01:38:18.614846: I tensorflow/core/common_runtime/gpu/gpu_device.cc:1884] Adding visible gpu devices: 0\n",
      "2021-11-19 01:38:18.701443: W tensorflow/core/platform/profile_utils/cpu_utils.cc:108] Failed to find bogomips or clock in /proc/cpuinfo; cannot determine CPU frequency\n",
      "2021-11-19 01:38:18.703536: I tensorflow/compiler/xla/service/service.cc:168] XLA service 0xd6cfce0 initialized for platform Host (this does not guarantee that XLA will be used). Devices:\n",
      "2021-11-19 01:38:18.703649: I tensorflow/compiler/xla/service/service.cc:176]   StreamExecutor device (0): Host, Default Version\n",
      "2021-11-19 01:38:18.827739: I tensorflow/stream_executor/cuda/cuda_gpu_executor.cc:1046] ARM64 does not support NUMA - returning NUMA node zero\n",
      "2021-11-19 01:38:18.828056: I tensorflow/compiler/xla/service/service.cc:168] XLA service 0xc3ccee0 initialized for platform CUDA (this does not guarantee that XLA will be used). Devices:\n",
      "2021-11-19 01:38:18.828115: I tensorflow/compiler/xla/service/service.cc:176]   StreamExecutor device (0): NVIDIA Tegra X1, Compute Capability 5.3\n",
      "2021-11-19 01:38:18.829156: I tensorflow/stream_executor/cuda/cuda_gpu_executor.cc:1046] ARM64 does not support NUMA - returning NUMA node zero\n",
      "2021-11-19 01:38:18.829549: I tensorflow/core/common_runtime/gpu/gpu_device.cc:1742] Found device 0 with properties: \n",
      "pciBusID: 0000:00:00.0 name: NVIDIA Tegra X1 computeCapability: 5.3\n",
      "coreClock: 0.9216GHz coreCount: 1 deviceMemorySize: 3.87GiB deviceMemoryBandwidth: 194.55MiB/s\n",
      "2021-11-19 01:38:18.829789: I tensorflow/stream_executor/platform/default/dso_loader.cc:49] Successfully opened dynamic library libcudart.so.10.2\n",
      "2021-11-19 01:38:18.829953: I tensorflow/stream_executor/platform/default/dso_loader.cc:49] Successfully opened dynamic library libcublas.so.10\n",
      "2021-11-19 01:38:18.830040: I tensorflow/stream_executor/platform/default/dso_loader.cc:49] Successfully opened dynamic library libcufft.so.10\n",
      "2021-11-19 01:38:18.830094: I tensorflow/stream_executor/platform/default/dso_loader.cc:49] Successfully opened dynamic library libcurand.so.10\n",
      "2021-11-19 01:38:18.830142: I tensorflow/stream_executor/platform/default/dso_loader.cc:49] Successfully opened dynamic library libcusolver.so.10\n",
      "2021-11-19 01:38:18.830182: I tensorflow/stream_executor/platform/default/dso_loader.cc:49] Successfully opened dynamic library libcusparse.so.10\n",
      "2021-11-19 01:38:18.830221: I tensorflow/stream_executor/platform/default/dso_loader.cc:49] Successfully opened dynamic library libcudnn.so.8\n",
      "2021-11-19 01:38:18.830413: I tensorflow/stream_executor/cuda/cuda_gpu_executor.cc:1046] ARM64 does not support NUMA - returning NUMA node zero\n",
      "2021-11-19 01:38:18.830623: I tensorflow/stream_executor/cuda/cuda_gpu_executor.cc:1046] ARM64 does not support NUMA - returning NUMA node zero\n",
      "2021-11-19 01:38:18.830703: I tensorflow/core/common_runtime/gpu/gpu_device.cc:1884] Adding visible gpu devices: 0\n",
      "2021-11-19 01:38:18.830791: I tensorflow/stream_executor/platform/default/dso_loader.cc:49] Successfully opened dynamic library libcudart.so.10.2\n",
      "2021-11-19 01:38:18.883587: I tensorflow/stream_executor/platform/default/dso_loader.cc:49] Successfully opened dynamic library libcuda.so.1\n",
      "2021-11-19 01:38:18.896134: I tensorflow/stream_executor/cuda/cuda_gpu_executor.cc:1046] ARM64 does not support NUMA - returning NUMA node zero\n",
      "2021-11-19 01:38:18.896303: I tensorflow/core/common_runtime/gpu/gpu_device.cc:1742] Found device 0 with properties: \n",
      "pciBusID: 0000:00:00.0 name: NVIDIA Tegra X1 computeCapability: 5.3\n",
      "coreClock: 0.9216GHz coreCount: 1 deviceMemorySize: 3.87GiB deviceMemoryBandwidth: 194.55MiB/s\n",
      "2021-11-19 01:38:18.896378: I tensorflow/stream_executor/platform/default/dso_loader.cc:49] Successfully opened dynamic library libcudart.so.10.2\n",
      "2021-11-19 01:38:18.919347: I tensorflow/stream_executor/platform/default/dso_loader.cc:49] Successfully opened dynamic library libcublas.so.10\n",
      "2021-11-19 01:38:18.935602: I tensorflow/stream_executor/platform/default/dso_loader.cc:49] Successfully opened dynamic library libcufft.so.10\n",
      "2021-11-19 01:38:18.974029: I tensorflow/stream_executor/platform/default/dso_loader.cc:49] Successfully opened dynamic library libcurand.so.10\n",
      "2021-11-19 01:38:18.996599: I tensorflow/stream_executor/platform/default/dso_loader.cc:49] Successfully opened dynamic library libcusolver.so.10\n",
      "2021-11-19 01:38:19.018987: I tensorflow/stream_executor/platform/default/dso_loader.cc:49] Successfully opened dynamic library libcusparse.so.10\n",
      "2021-11-19 01:38:19.023520: I tensorflow/stream_executor/platform/default/dso_loader.cc:49] Successfully opened dynamic library libcudnn.so.8\n",
      "2021-11-19 01:38:19.024087: I tensorflow/stream_executor/cuda/cuda_gpu_executor.cc:1046] ARM64 does not support NUMA - returning NUMA node zero\n",
      "2021-11-19 01:38:19.024753: I tensorflow/stream_executor/cuda/cuda_gpu_executor.cc:1046] ARM64 does not support NUMA - returning NUMA node zero\n",
      "2021-11-19 01:38:19.025457: I tensorflow/core/common_runtime/gpu/gpu_device.cc:1884] Adding visible gpu devices: 0\n",
      "2021-11-19 01:38:19.053414: W tensorflow/core/platform/profile_utils/cpu_utils.cc:108] Failed to find bogomips or clock in /proc/cpuinfo; cannot determine CPU frequency\n",
      "2021-11-19 01:38:19.054057: I tensorflow/compiler/xla/service/service.cc:168] XLA service 0x20d6ce0 initialized for platform Host (this does not guarantee that XLA will be used). Devices:\n",
      "2021-11-19 01:38:19.054117: I tensorflow/compiler/xla/service/service.cc:176]   StreamExecutor device (0): Host, Default Version\n",
      "2021-11-19 01:38:19.125077: I tensorflow/stream_executor/cuda/cuda_gpu_executor.cc:1046] ARM64 does not support NUMA - returning NUMA node zero\n",
      "2021-11-19 01:38:19.125448: I tensorflow/compiler/xla/service/service.cc:168] XLA service 0xdd3ee0 initialized for platform CUDA (this does not guarantee that XLA will be used). Devices:\n",
      "2021-11-19 01:38:19.125507: I tensorflow/compiler/xla/service/service.cc:176]   StreamExecutor device (0): NVIDIA Tegra X1, Compute Capability 5.3\n"
     ]
    },
    {
     "name": "stderr",
     "output_type": "stream",
     "text": [
      "2021-11-19 01:38:19.125914: I tensorflow/stream_executor/cuda/cuda_gpu_executor.cc:1046] ARM64 does not support NUMA - returning NUMA node zero\n",
      "2021-11-19 01:38:19.126044: I tensorflow/core/common_runtime/gpu/gpu_device.cc:1742] Found device 0 with properties: \n",
      "pciBusID: 0000:00:00.0 name: NVIDIA Tegra X1 computeCapability: 5.3\n",
      "coreClock: 0.9216GHz coreCount: 1 deviceMemorySize: 3.87GiB deviceMemoryBandwidth: 194.55MiB/s\n",
      "2021-11-19 01:38:19.126135: I tensorflow/stream_executor/platform/default/dso_loader.cc:49] Successfully opened dynamic library libcudart.so.10.2\n",
      "2021-11-19 01:38:19.126248: I tensorflow/stream_executor/platform/default/dso_loader.cc:49] Successfully opened dynamic library libcublas.so.10\n",
      "2021-11-19 01:38:19.126321: I tensorflow/stream_executor/platform/default/dso_loader.cc:49] Successfully opened dynamic library libcufft.so.10\n",
      "2021-11-19 01:38:19.126363: I tensorflow/stream_executor/platform/default/dso_loader.cc:49] Successfully opened dynamic library libcurand.so.10\n",
      "2021-11-19 01:38:19.126401: I tensorflow/stream_executor/platform/default/dso_loader.cc:49] Successfully opened dynamic library libcusolver.so.10\n",
      "2021-11-19 01:38:19.126440: I tensorflow/stream_executor/platform/default/dso_loader.cc:49] Successfully opened dynamic library libcusparse.so.10\n",
      "2021-11-19 01:38:19.126477: I tensorflow/stream_executor/platform/default/dso_loader.cc:49] Successfully opened dynamic library libcudnn.so.8\n",
      "2021-11-19 01:38:19.126620: I tensorflow/stream_executor/cuda/cuda_gpu_executor.cc:1046] ARM64 does not support NUMA - returning NUMA node zero\n",
      "2021-11-19 01:38:19.126801: I tensorflow/stream_executor/cuda/cuda_gpu_executor.cc:1046] ARM64 does not support NUMA - returning NUMA node zero\n",
      "2021-11-19 01:38:19.126883: I tensorflow/core/common_runtime/gpu/gpu_device.cc:1884] Adding visible gpu devices: 0\n",
      "2021-11-19 01:38:19.126967: I tensorflow/stream_executor/platform/default/dso_loader.cc:49] Successfully opened dynamic library libcudart.so.10.2\n",
      "2021-11-19 01:38:19.241814: I tensorflow/stream_executor/platform/default/dso_loader.cc:49] Successfully opened dynamic library libcuda.so.1\n",
      "2021-11-19 01:38:19.250841: I tensorflow/stream_executor/cuda/cuda_gpu_executor.cc:1046] ARM64 does not support NUMA - returning NUMA node zero\n",
      "2021-11-19 01:38:19.251006: I tensorflow/core/common_runtime/gpu/gpu_device.cc:1742] Found device 0 with properties: \n",
      "pciBusID: 0000:00:00.0 name: NVIDIA Tegra X1 computeCapability: 5.3\n",
      "coreClock: 0.9216GHz coreCount: 1 deviceMemorySize: 3.87GiB deviceMemoryBandwidth: 194.55MiB/s\n",
      "2021-11-19 01:38:19.251080: I tensorflow/stream_executor/platform/default/dso_loader.cc:49] Successfully opened dynamic library libcudart.so.10.2\n",
      "2021-11-19 01:38:19.273846: I tensorflow/stream_executor/platform/default/dso_loader.cc:49] Successfully opened dynamic library libcublas.so.10\n",
      "2021-11-19 01:38:19.292935: I tensorflow/stream_executor/platform/default/dso_loader.cc:49] Successfully opened dynamic library libcufft.so.10\n",
      "2021-11-19 01:38:19.331165: I tensorflow/stream_executor/platform/default/dso_loader.cc:49] Successfully opened dynamic library libcurand.so.10\n",
      "2021-11-19 01:38:19.352640: I tensorflow/stream_executor/platform/default/dso_loader.cc:49] Successfully opened dynamic library libcusolver.so.10\n",
      "2021-11-19 01:38:19.374697: I tensorflow/stream_executor/platform/default/dso_loader.cc:49] Successfully opened dynamic library libcusparse.so.10\n",
      "2021-11-19 01:38:19.378748: I tensorflow/stream_executor/platform/default/dso_loader.cc:49] Successfully opened dynamic library libcudnn.so.8\n",
      "2021-11-19 01:38:19.379198: I tensorflow/stream_executor/cuda/cuda_gpu_executor.cc:1046] ARM64 does not support NUMA - returning NUMA node zero\n",
      "2021-11-19 01:38:19.379835: I tensorflow/stream_executor/cuda/cuda_gpu_executor.cc:1046] ARM64 does not support NUMA - returning NUMA node zero\n",
      "2021-11-19 01:38:19.380135: I tensorflow/core/common_runtime/gpu/gpu_device.cc:1884] Adding visible gpu devices: 0\n",
      "2021-11-19 01:38:19.423340: W tensorflow/core/platform/profile_utils/cpu_utils.cc:108] Failed to find bogomips or clock in /proc/cpuinfo; cannot determine CPU frequency\n",
      "2021-11-19 01:38:19.425641: I tensorflow/compiler/xla/service/service.cc:168] XLA service 0x2d56c520 initialized for platform Host (this does not guarantee that XLA will be used). Devices:\n",
      "2021-11-19 01:38:19.425857: I tensorflow/compiler/xla/service/service.cc:176]   StreamExecutor device (0): Host, Default Version\n",
      "2021-11-19 01:38:19.508093: I tensorflow/stream_executor/cuda/cuda_gpu_executor.cc:1046] ARM64 does not support NUMA - returning NUMA node zero\n",
      "2021-11-19 01:38:19.508386: I tensorflow/compiler/xla/service/service.cc:168] XLA service 0x2d597a10 initialized for platform CUDA (this does not guarantee that XLA will be used). Devices:\n",
      "2021-11-19 01:38:19.508439: I tensorflow/compiler/xla/service/service.cc:176]   StreamExecutor device (0): NVIDIA Tegra X1, Compute Capability 5.3\n",
      "2021-11-19 01:38:19.508831: I tensorflow/stream_executor/cuda/cuda_gpu_executor.cc:1046] ARM64 does not support NUMA - returning NUMA node zero\n",
      "2021-11-19 01:38:19.508956: I tensorflow/core/common_runtime/gpu/gpu_device.cc:1742] Found device 0 with properties: \n",
      "pciBusID: 0000:00:00.0 name: NVIDIA Tegra X1 computeCapability: 5.3\n",
      "coreClock: 0.9216GHz coreCount: 1 deviceMemorySize: 3.87GiB deviceMemoryBandwidth: 194.55MiB/s\n",
      "2021-11-19 01:38:19.509032: I tensorflow/stream_executor/platform/default/dso_loader.cc:49] Successfully opened dynamic library libcudart.so.10.2\n",
      "2021-11-19 01:38:19.509103: I tensorflow/stream_executor/platform/default/dso_loader.cc:49] Successfully opened dynamic library libcublas.so.10\n",
      "2021-11-19 01:38:19.509157: I tensorflow/stream_executor/platform/default/dso_loader.cc:49] Successfully opened dynamic library libcufft.so.10\n",
      "2021-11-19 01:38:19.509200: I tensorflow/stream_executor/platform/default/dso_loader.cc:49] Successfully opened dynamic library libcurand.so.10\n",
      "2021-11-19 01:38:19.509242: I tensorflow/stream_executor/platform/default/dso_loader.cc:49] Successfully opened dynamic library libcusolver.so.10\n",
      "2021-11-19 01:38:19.509285: I tensorflow/stream_executor/platform/default/dso_loader.cc:49] Successfully opened dynamic library libcusparse.so.10\n",
      "2021-11-19 01:38:19.509325: I tensorflow/stream_executor/platform/default/dso_loader.cc:49] Successfully opened dynamic library libcudnn.so.8\n",
      "2021-11-19 01:38:19.509477: I tensorflow/stream_executor/cuda/cuda_gpu_executor.cc:1046] ARM64 does not support NUMA - returning NUMA node zero\n",
      "2021-11-19 01:38:19.509665: I tensorflow/stream_executor/cuda/cuda_gpu_executor.cc:1046] ARM64 does not support NUMA - returning NUMA node zero\n",
      "2021-11-19 01:38:19.509739: I tensorflow/core/common_runtime/gpu/gpu_device.cc:1884] Adding visible gpu devices: 0\n",
      "2021-11-19 01:38:19.509822: I tensorflow/stream_executor/platform/default/dso_loader.cc:49] Successfully opened dynamic library libcudart.so.10.2\n",
      "2021-11-19 01:38:20.772043: I tensorflow/stream_executor/platform/default/dso_loader.cc:49] Successfully opened dynamic library libcuda.so.1\n",
      "2021-11-19 01:38:20.787291: I tensorflow/stream_executor/cuda/cuda_gpu_executor.cc:1046] ARM64 does not support NUMA - returning NUMA node zero\n",
      "2021-11-19 01:38:20.787460: I tensorflow/core/common_runtime/gpu/gpu_device.cc:1742] Found device 0 with properties: \n",
      "pciBusID: 0000:00:00.0 name: NVIDIA Tegra X1 computeCapability: 5.3\n",
      "coreClock: 0.9216GHz coreCount: 1 deviceMemorySize: 3.87GiB deviceMemoryBandwidth: 194.55MiB/s\n",
      "2021-11-19 01:38:20.787540: I tensorflow/stream_executor/platform/default/dso_loader.cc:49] Successfully opened dynamic library libcudart.so.10.2\n",
      "2021-11-19 01:38:20.810527: I tensorflow/stream_executor/platform/default/dso_loader.cc:49] Successfully opened dynamic library libcublas.so.10\n",
      "2021-11-19 01:38:20.826120: I tensorflow/stream_executor/platform/default/dso_loader.cc:49] Successfully opened dynamic library libcufft.so.10\n",
      "2021-11-19 01:38:20.864105: I tensorflow/stream_executor/platform/default/dso_loader.cc:49] Successfully opened dynamic library libcurand.so.10\n",
      "2021-11-19 01:38:20.884117: I tensorflow/stream_executor/platform/default/dso_loader.cc:49] Successfully opened dynamic library libcusolver.so.10\n"
     ]
    },
    {
     "name": "stderr",
     "output_type": "stream",
     "text": [
      "2021-11-19 01:38:20.906062: I tensorflow/stream_executor/platform/default/dso_loader.cc:49] Successfully opened dynamic library libcusparse.so.10\n",
      "2021-11-19 01:38:20.910906: I tensorflow/stream_executor/platform/default/dso_loader.cc:49] Successfully opened dynamic library libcudnn.so.8\n",
      "2021-11-19 01:38:20.911402: I tensorflow/stream_executor/cuda/cuda_gpu_executor.cc:1046] ARM64 does not support NUMA - returning NUMA node zero\n",
      "2021-11-19 01:38:20.911902: I tensorflow/stream_executor/cuda/cuda_gpu_executor.cc:1046] ARM64 does not support NUMA - returning NUMA node zero\n",
      "2021-11-19 01:38:20.912275: I tensorflow/core/common_runtime/gpu/gpu_device.cc:1884] Adding visible gpu devices: 0\n",
      "2021-11-19 01:38:20.938867: W tensorflow/core/platform/profile_utils/cpu_utils.cc:108] Failed to find bogomips or clock in /proc/cpuinfo; cannot determine CPU frequency\n",
      "2021-11-19 01:38:20.939806: I tensorflow/compiler/xla/service/service.cc:168] XLA service 0x3b5c5520 initialized for platform Host (this does not guarantee that XLA will be used). Devices:\n",
      "2021-11-19 01:38:20.939863: I tensorflow/compiler/xla/service/service.cc:176]   StreamExecutor device (0): Host, Default Version\n",
      "2021-11-19 01:38:21.070865: I tensorflow/stream_executor/cuda/cuda_gpu_executor.cc:1046] ARM64 does not support NUMA - returning NUMA node zero\n",
      "2021-11-19 01:38:21.071326: I tensorflow/compiler/xla/service/service.cc:168] XLA service 0x3b5f0a10 initialized for platform CUDA (this does not guarantee that XLA will be used). Devices:\n",
      "2021-11-19 01:38:21.071416: I tensorflow/compiler/xla/service/service.cc:176]   StreamExecutor device (0): NVIDIA Tegra X1, Compute Capability 5.3\n",
      "2021-11-19 01:38:21.072025: I tensorflow/stream_executor/cuda/cuda_gpu_executor.cc:1046] ARM64 does not support NUMA - returning NUMA node zero\n",
      "2021-11-19 01:38:21.072227: I tensorflow/core/common_runtime/gpu/gpu_device.cc:1742] Found device 0 with properties: \n",
      "pciBusID: 0000:00:00.0 name: NVIDIA Tegra X1 computeCapability: 5.3\n",
      "coreClock: 0.9216GHz coreCount: 1 deviceMemorySize: 3.87GiB deviceMemoryBandwidth: 194.55MiB/s\n",
      "2021-11-19 01:38:21.072350: I tensorflow/stream_executor/platform/default/dso_loader.cc:49] Successfully opened dynamic library libcudart.so.10.2\n",
      "2021-11-19 01:38:21.072448: I tensorflow/stream_executor/platform/default/dso_loader.cc:49] Successfully opened dynamic library libcublas.so.10\n",
      "2021-11-19 01:38:21.072648: I tensorflow/stream_executor/platform/default/dso_loader.cc:49] Successfully opened dynamic library libcufft.so.10\n",
      "2021-11-19 01:38:21.072793: I tensorflow/stream_executor/platform/default/dso_loader.cc:49] Successfully opened dynamic library libcurand.so.10\n",
      "2021-11-19 01:38:21.072882: I tensorflow/stream_executor/platform/default/dso_loader.cc:49] Successfully opened dynamic library libcusolver.so.10\n",
      "2021-11-19 01:38:21.072949: I tensorflow/stream_executor/platform/default/dso_loader.cc:49] Successfully opened dynamic library libcusparse.so.10\n",
      "2021-11-19 01:38:21.073087: I tensorflow/stream_executor/platform/default/dso_loader.cc:49] Successfully opened dynamic library libcudnn.so.8\n",
      "2021-11-19 01:38:21.073291: I tensorflow/stream_executor/cuda/cuda_gpu_executor.cc:1046] ARM64 does not support NUMA - returning NUMA node zero\n",
      "2021-11-19 01:38:21.073551: I tensorflow/stream_executor/cuda/cuda_gpu_executor.cc:1046] ARM64 does not support NUMA - returning NUMA node zero\n",
      "2021-11-19 01:38:21.073818: I tensorflow/core/common_runtime/gpu/gpu_device.cc:1884] Adding visible gpu devices: 0\n",
      "2021-11-19 01:38:21.074099: I tensorflow/stream_executor/platform/default/dso_loader.cc:49] Successfully opened dynamic library libcudart.so.10.2\n",
      "2021-11-19 01:38:22.188990: I tensorflow/stream_executor/platform/default/dso_loader.cc:49] Successfully opened dynamic library libcuda.so.1\n",
      "2021-11-19 01:38:22.190626: I tensorflow/core/common_runtime/gpu/gpu_device.cc:1283] Device interconnect StreamExecutor with strength 1 edge matrix:\n",
      "2021-11-19 01:38:22.190716: I tensorflow/core/common_runtime/gpu/gpu_device.cc:1289]      0 \n",
      "2021-11-19 01:38:22.190745: I tensorflow/core/common_runtime/gpu/gpu_device.cc:1302] 0:   N \n",
      "2021-11-19 01:38:22.191083: I tensorflow/stream_executor/cuda/cuda_gpu_executor.cc:1046] ARM64 does not support NUMA - returning NUMA node zero\n",
      "2021-11-19 01:38:22.191359: I tensorflow/stream_executor/cuda/cuda_gpu_executor.cc:1046] ARM64 does not support NUMA - returning NUMA node zero\n",
      "2021-11-19 01:38:22.191546: I tensorflow/core/common_runtime/gpu/gpu_device.cc:1428] Created TensorFlow device (/job:localhost/replica:0/task:0/device:GPU:0 with 468 MB memory) -> physical GPU (device: 0, name: NVIDIA Tegra X1, pci bus id: 0000:00:00.0, compute capability: 5.3)\n",
      "2021-11-19 01:38:22.197935: I tensorflow/stream_executor/cuda/cuda_gpu_executor.cc:1046] ARM64 does not support NUMA - returning NUMA node zero\n",
      "2021-11-19 01:38:22.198099: I tensorflow/core/common_runtime/gpu/gpu_device.cc:1742] Found device 0 with properties: \n",
      "pciBusID: 0000:00:00.0 name: NVIDIA Tegra X1 computeCapability: 5.3\n",
      "coreClock: 0.9216GHz coreCount: 1 deviceMemorySize: 3.87GiB deviceMemoryBandwidth: 194.55MiB/s\n",
      "2021-11-19 01:38:22.198169: I tensorflow/stream_executor/platform/default/dso_loader.cc:49] Successfully opened dynamic library libcudart.so.10.2\n",
      "2021-11-19 01:38:22.202499: I tensorflow/stream_executor/platform/default/dso_loader.cc:49] Successfully opened dynamic library libcublas.so.10\n",
      "2021-11-19 01:38:22.206013: I tensorflow/stream_executor/platform/default/dso_loader.cc:49] Successfully opened dynamic library libcufft.so.10\n",
      "2021-11-19 01:38:22.206866: I tensorflow/stream_executor/platform/default/dso_loader.cc:49] Successfully opened dynamic library libcurand.so.10\n",
      "2021-11-19 01:38:22.221633: I tensorflow/stream_executor/platform/default/dso_loader.cc:49] Successfully opened dynamic library libcusolver.so.10\n",
      "2021-11-19 01:38:22.230549: I tensorflow/stream_executor/platform/default/dso_loader.cc:49] Successfully opened dynamic library libcusparse.so.10\n",
      "2021-11-19 01:38:22.231930: I tensorflow/stream_executor/platform/default/dso_loader.cc:49] Successfully opened dynamic library libcudnn.so.8\n",
      "2021-11-19 01:38:22.232323: I tensorflow/stream_executor/cuda/cuda_gpu_executor.cc:1046] ARM64 does not support NUMA - returning NUMA node zero\n",
      "2021-11-19 01:38:22.232653: I tensorflow/stream_executor/cuda/cuda_gpu_executor.cc:1046] ARM64 does not support NUMA - returning NUMA node zero\n",
      "2021-11-19 01:38:22.232865: I tensorflow/core/common_runtime/gpu/gpu_device.cc:1884] Adding visible gpu devices: 0\n",
      "2021-11-19 01:38:22.256588: W tensorflow/core/platform/profile_utils/cpu_utils.cc:108] Failed to find bogomips or clock in /proc/cpuinfo; cannot determine CPU frequency\n",
      "2021-11-19 01:38:22.259985: I tensorflow/compiler/xla/service/service.cc:168] XLA service 0xaeee520 initialized for platform Host (this does not guarantee that XLA will be used). Devices:\n",
      "2021-11-19 01:38:22.260052: I tensorflow/compiler/xla/service/service.cc:176]   StreamExecutor device (0): Host, Default Version\n",
      "2021-11-19 01:38:22.337272: I tensorflow/stream_executor/cuda/cuda_gpu_executor.cc:1046] ARM64 does not support NUMA - returning NUMA node zero\n",
      "2021-11-19 01:38:22.337611: I tensorflow/compiler/xla/service/service.cc:168] XLA service 0xaf19a10 initialized for platform CUDA (this does not guarantee that XLA will be used). Devices:\n",
      "2021-11-19 01:38:22.337667: I tensorflow/compiler/xla/service/service.cc:176]   StreamExecutor device (0): NVIDIA Tegra X1, Compute Capability 5.3\n",
      "2021-11-19 01:38:22.338071: I tensorflow/stream_executor/cuda/cuda_gpu_executor.cc:1046] ARM64 does not support NUMA - returning NUMA node zero\n",
      "2021-11-19 01:38:22.338198: I tensorflow/core/common_runtime/gpu/gpu_device.cc:1742] Found device 0 with properties: \n",
      "pciBusID: 0000:00:00.0 name: NVIDIA Tegra X1 computeCapability: 5.3\n",
      "coreClock: 0.9216GHz coreCount: 1 deviceMemorySize: 3.87GiB deviceMemoryBandwidth: 194.55MiB/s\n",
      "2021-11-19 01:38:22.338275: I tensorflow/stream_executor/platform/default/dso_loader.cc:49] Successfully opened dynamic library libcudart.so.10.2\n",
      "2021-11-19 01:38:22.338335: I tensorflow/stream_executor/platform/default/dso_loader.cc:49] Successfully opened dynamic library libcublas.so.10\n",
      "2021-11-19 01:38:22.338381: I tensorflow/stream_executor/platform/default/dso_loader.cc:49] Successfully opened dynamic library libcufft.so.10\n",
      "2021-11-19 01:38:22.338424: I tensorflow/stream_executor/platform/default/dso_loader.cc:49] Successfully opened dynamic library libcurand.so.10\n"
     ]
    },
    {
     "name": "stderr",
     "output_type": "stream",
     "text": [
      "2021-11-19 01:38:22.338467: I tensorflow/stream_executor/platform/default/dso_loader.cc:49] Successfully opened dynamic library libcusolver.so.10\n",
      "2021-11-19 01:38:22.338508: I tensorflow/stream_executor/platform/default/dso_loader.cc:49] Successfully opened dynamic library libcusparse.so.10\n",
      "2021-11-19 01:38:22.338549: I tensorflow/stream_executor/platform/default/dso_loader.cc:49] Successfully opened dynamic library libcudnn.so.8\n",
      "2021-11-19 01:38:22.338697: I tensorflow/stream_executor/cuda/cuda_gpu_executor.cc:1046] ARM64 does not support NUMA - returning NUMA node zero\n",
      "2021-11-19 01:38:22.338883: I tensorflow/stream_executor/cuda/cuda_gpu_executor.cc:1046] ARM64 does not support NUMA - returning NUMA node zero\n",
      "2021-11-19 01:38:22.338961: I tensorflow/core/common_runtime/gpu/gpu_device.cc:1884] Adding visible gpu devices: 0\n",
      "2021-11-19 01:38:22.339069: I tensorflow/stream_executor/platform/default/dso_loader.cc:49] Successfully opened dynamic library libcudart.so.10.2\n",
      "2021-11-19 01:38:22.692560: I tensorflow/core/common_runtime/gpu/gpu_device.cc:1283] Device interconnect StreamExecutor with strength 1 edge matrix:\n",
      "2021-11-19 01:38:22.692648: I tensorflow/core/common_runtime/gpu/gpu_device.cc:1289]      0 \n",
      "2021-11-19 01:38:22.692677: I tensorflow/core/common_runtime/gpu/gpu_device.cc:1302] 0:   N \n",
      "2021-11-19 01:38:22.693034: I tensorflow/stream_executor/cuda/cuda_gpu_executor.cc:1046] ARM64 does not support NUMA - returning NUMA node zero\n",
      "2021-11-19 01:38:22.693309: I tensorflow/stream_executor/cuda/cuda_gpu_executor.cc:1046] ARM64 does not support NUMA - returning NUMA node zero\n",
      "2021-11-19 01:38:22.693482: I tensorflow/core/common_runtime/gpu/gpu_device.cc:1428] Created TensorFlow device (/job:localhost/replica:0/task:0/device:GPU:0 with 388 MB memory) -> physical GPU (device: 0, name: NVIDIA Tegra X1, pci bus id: 0000:00:00.0, compute capability: 5.3)\n",
      "2021-11-19 01:38:22.769408: I tensorflow/stream_executor/platform/default/dso_loader.cc:49] Successfully opened dynamic library libcuda.so.1\n",
      "2021-11-19 01:38:22.777172: I tensorflow/stream_executor/cuda/cuda_gpu_executor.cc:1046] ARM64 does not support NUMA - returning NUMA node zero\n",
      "2021-11-19 01:38:22.777336: I tensorflow/core/common_runtime/gpu/gpu_device.cc:1742] Found device 0 with properties: \n",
      "pciBusID: 0000:00:00.0 name: NVIDIA Tegra X1 computeCapability: 5.3\n",
      "coreClock: 0.9216GHz coreCount: 1 deviceMemorySize: 3.87GiB deviceMemoryBandwidth: 194.55MiB/s\n",
      "2021-11-19 01:38:22.777442: I tensorflow/stream_executor/platform/default/dso_loader.cc:49] Successfully opened dynamic library libcudart.so.10.2\n",
      "2021-11-19 01:38:22.805552: I tensorflow/stream_executor/platform/default/dso_loader.cc:49] Successfully opened dynamic library libcublas.so.10\n",
      "2021-11-19 01:38:22.824771: I tensorflow/stream_executor/platform/default/dso_loader.cc:49] Successfully opened dynamic library libcufft.so.10\n",
      "2021-11-19 01:38:22.870706: I tensorflow/stream_executor/platform/default/dso_loader.cc:49] Successfully opened dynamic library libcurand.so.10\n",
      "2021-11-19 01:38:22.892522: I tensorflow/stream_executor/platform/default/dso_loader.cc:49] Successfully opened dynamic library libcusolver.so.10\n",
      "2021-11-19 01:38:22.919669: I tensorflow/stream_executor/platform/default/dso_loader.cc:49] Successfully opened dynamic library libcusparse.so.10\n",
      "2021-11-19 01:38:22.924014: I tensorflow/stream_executor/platform/default/dso_loader.cc:49] Successfully opened dynamic library libcudnn.so.8\n",
      "2021-11-19 01:38:22.924702: I tensorflow/stream_executor/cuda/cuda_gpu_executor.cc:1046] ARM64 does not support NUMA - returning NUMA node zero\n",
      "2021-11-19 01:38:22.925098: I tensorflow/stream_executor/cuda/cuda_gpu_executor.cc:1046] ARM64 does not support NUMA - returning NUMA node zero\n",
      "2021-11-19 01:38:22.925468: I tensorflow/core/common_runtime/gpu/gpu_device.cc:1884] Adding visible gpu devices: 0\n",
      "2021-11-19 01:38:22.958011: W tensorflow/core/platform/profile_utils/cpu_utils.cc:108] Failed to find bogomips or clock in /proc/cpuinfo; cannot determine CPU frequency\n",
      "2021-11-19 01:38:22.960599: I tensorflow/compiler/xla/service/service.cc:168] XLA service 0x215b2520 initialized for platform Host (this does not guarantee that XLA will be used). Devices:\n",
      "2021-11-19 01:38:22.960739: I tensorflow/compiler/xla/service/service.cc:176]   StreamExecutor device (0): Host, Default Version\n",
      "2021-11-19 01:38:23.039193: I tensorflow/core/common_runtime/gpu/gpu_device.cc:1283] Device interconnect StreamExecutor with strength 1 edge matrix:\n",
      "2021-11-19 01:38:23.039282: I tensorflow/core/common_runtime/gpu/gpu_device.cc:1289]      0 \n",
      "2021-11-19 01:38:23.039312: I tensorflow/core/common_runtime/gpu/gpu_device.cc:1302] 0:   N \n",
      "2021-11-19 01:38:23.039657: I tensorflow/stream_executor/cuda/cuda_gpu_executor.cc:1046] ARM64 does not support NUMA - returning NUMA node zero\n",
      "2021-11-19 01:38:23.039946: I tensorflow/stream_executor/cuda/cuda_gpu_executor.cc:1046] ARM64 does not support NUMA - returning NUMA node zero\n",
      "2021-11-19 01:38:23.040120: I tensorflow/core/common_runtime/gpu/gpu_device.cc:1428] Created TensorFlow device (/job:localhost/replica:0/task:0/device:GPU:0 with 405 MB memory) -> physical GPU (device: 0, name: NVIDIA Tegra X1, pci bus id: 0000:00:00.0, compute capability: 5.3)\n",
      "2021-11-19 01:38:23.045085: I tensorflow/stream_executor/cuda/cuda_gpu_executor.cc:1046] ARM64 does not support NUMA - returning NUMA node zero\n",
      "2021-11-19 01:38:23.045556: I tensorflow/compiler/xla/service/service.cc:168] XLA service 0x215dda10 initialized for platform CUDA (this does not guarantee that XLA will be used). Devices:\n",
      "2021-11-19 01:38:23.045617: I tensorflow/compiler/xla/service/service.cc:176]   StreamExecutor device (0): NVIDIA Tegra X1, Compute Capability 5.3\n",
      "2021-11-19 01:38:23.046152: I tensorflow/stream_executor/cuda/cuda_gpu_executor.cc:1046] ARM64 does not support NUMA - returning NUMA node zero\n",
      "2021-11-19 01:38:23.046278: I tensorflow/core/common_runtime/gpu/gpu_device.cc:1742] Found device 0 with properties: \n",
      "pciBusID: 0000:00:00.0 name: NVIDIA Tegra X1 computeCapability: 5.3\n",
      "coreClock: 0.9216GHz coreCount: 1 deviceMemorySize: 3.87GiB deviceMemoryBandwidth: 194.55MiB/s\n",
      "2021-11-19 01:38:23.046359: I tensorflow/stream_executor/platform/default/dso_loader.cc:49] Successfully opened dynamic library libcudart.so.10.2\n",
      "2021-11-19 01:38:23.046428: I tensorflow/stream_executor/platform/default/dso_loader.cc:49] Successfully opened dynamic library libcublas.so.10\n",
      "2021-11-19 01:38:23.046534: I tensorflow/stream_executor/platform/default/dso_loader.cc:49] Successfully opened dynamic library libcufft.so.10\n",
      "2021-11-19 01:38:23.046603: I tensorflow/stream_executor/platform/default/dso_loader.cc:49] Successfully opened dynamic library libcurand.so.10\n",
      "2021-11-19 01:38:23.046663: I tensorflow/stream_executor/platform/default/dso_loader.cc:49] Successfully opened dynamic library libcusolver.so.10\n",
      "2021-11-19 01:38:23.046719: I tensorflow/stream_executor/platform/default/dso_loader.cc:49] Successfully opened dynamic library libcusparse.so.10\n",
      "2021-11-19 01:38:23.046771: I tensorflow/stream_executor/platform/default/dso_loader.cc:49] Successfully opened dynamic library libcudnn.so.8\n",
      "2021-11-19 01:38:23.046964: I tensorflow/stream_executor/cuda/cuda_gpu_executor.cc:1046] ARM64 does not support NUMA - returning NUMA node zero\n",
      "2021-11-19 01:38:23.047162: I tensorflow/stream_executor/cuda/cuda_gpu_executor.cc:1046] ARM64 does not support NUMA - returning NUMA node zero\n",
      "2021-11-19 01:38:23.047233: I tensorflow/core/common_runtime/gpu/gpu_device.cc:1884] Adding visible gpu devices: 0\n",
      "2021-11-19 01:38:23.047311: I tensorflow/stream_executor/platform/default/dso_loader.cc:49] Successfully opened dynamic library libcudart.so.10.2\n",
      "2021-11-19 01:38:25.115246: I tensorflow/stream_executor/platform/default/dso_loader.cc:49] Successfully opened dynamic library libcublas.so.10\n",
      "2021-11-19 01:38:25.612265: I tensorflow/stream_executor/platform/default/dso_loader.cc:49] Successfully opened dynamic library libcublas.so.10\n",
      "2021-11-19 01:38:25.774161: I tensorflow/core/common_runtime/gpu/gpu_device.cc:1283] Device interconnect StreamExecutor with strength 1 edge matrix:\n",
      "2021-11-19 01:38:25.774254: I tensorflow/core/common_runtime/gpu/gpu_device.cc:1289]      0 \n"
     ]
    },
    {
     "name": "stderr",
     "output_type": "stream",
     "text": [
      "2021-11-19 01:38:25.774287: I tensorflow/core/common_runtime/gpu/gpu_device.cc:1302] 0:   N \n",
      "2021-11-19 01:38:25.774682: I tensorflow/stream_executor/cuda/cuda_gpu_executor.cc:1046] ARM64 does not support NUMA - returning NUMA node zero\n",
      "2021-11-19 01:38:25.775050: I tensorflow/stream_executor/cuda/cuda_gpu_executor.cc:1046] ARM64 does not support NUMA - returning NUMA node zero\n",
      "2021-11-19 01:38:25.775278: I tensorflow/core/common_runtime/gpu/gpu_device.cc:1428] Created TensorFlow device (/job:localhost/replica:0/task:0/device:GPU:0 with 366 MB memory) -> physical GPU (device: 0, name: NVIDIA Tegra X1, pci bus id: 0000:00:00.0, compute capability: 5.3)\n",
      "2021-11-19 01:38:26.035975: I tensorflow/stream_executor/platform/default/dso_loader.cc:49] Successfully opened dynamic library libcublas.so.10\n",
      "2021-11-19 01:38:26.393282: I tensorflow/core/common_runtime/gpu/gpu_device.cc:1283] Device interconnect StreamExecutor with strength 1 edge matrix:\n",
      "2021-11-19 01:38:26.393371: I tensorflow/core/common_runtime/gpu/gpu_device.cc:1289]      0 \n",
      "2021-11-19 01:38:26.393401: I tensorflow/core/common_runtime/gpu/gpu_device.cc:1302] 0:   N \n",
      "2021-11-19 01:38:26.393737: I tensorflow/stream_executor/cuda/cuda_gpu_executor.cc:1046] ARM64 does not support NUMA - returning NUMA node zero\n",
      "2021-11-19 01:38:26.394062: I tensorflow/stream_executor/cuda/cuda_gpu_executor.cc:1046] ARM64 does not support NUMA - returning NUMA node zero\n",
      "2021-11-19 01:38:26.394243: I tensorflow/core/common_runtime/gpu/gpu_device.cc:1428] Created TensorFlow device (/job:localhost/replica:0/task:0/device:GPU:0 with 402 MB memory) -> physical GPU (device: 0, name: NVIDIA Tegra X1, pci bus id: 0000:00:00.0, compute capability: 5.3)\n",
      "2021-11-19 01:38:26.459081: I tensorflow/stream_executor/platform/default/dso_loader.cc:49] Successfully opened dynamic library libcudnn.so.8\n",
      "2021-11-19 01:38:26.965910: I tensorflow/core/common_runtime/gpu/gpu_device.cc:1283] Device interconnect StreamExecutor with strength 1 edge matrix:\n",
      "2021-11-19 01:38:26.966006: I tensorflow/core/common_runtime/gpu/gpu_device.cc:1289]      0 \n",
      "2021-11-19 01:38:26.966035: I tensorflow/core/common_runtime/gpu/gpu_device.cc:1302] 0:   N \n",
      "2021-11-19 01:38:26.966386: I tensorflow/stream_executor/cuda/cuda_gpu_executor.cc:1046] ARM64 does not support NUMA - returning NUMA node zero\n",
      "2021-11-19 01:38:26.966674: I tensorflow/stream_executor/cuda/cuda_gpu_executor.cc:1046] ARM64 does not support NUMA - returning NUMA node zero\n",
      "2021-11-19 01:38:26.966850: I tensorflow/core/common_runtime/gpu/gpu_device.cc:1428] Created TensorFlow device (/job:localhost/replica:0/task:0/device:GPU:0 with 384 MB memory) -> physical GPU (device: 0, name: NVIDIA Tegra X1, pci bus id: 0000:00:00.0, compute capability: 5.3)\n",
      "2021-11-19 01:38:27.142138: I tensorflow/stream_executor/platform/default/dso_loader.cc:49] Successfully opened dynamic library libcudnn.so.8\n",
      "2021-11-19 01:38:28.349468: I tensorflow/stream_executor/platform/default/dso_loader.cc:49] Successfully opened dynamic library libcudnn.so.8\n",
      "2021-11-19 01:38:28.731685: I tensorflow/stream_executor/platform/default/dso_loader.cc:49] Successfully opened dynamic library libcublas.so.10\n",
      "2021-11-19 01:38:29.277043: I tensorflow/stream_executor/platform/default/dso_loader.cc:49] Successfully opened dynamic library libcublas.so.10\n",
      "2021-11-19 01:38:29.988703: I tensorflow/stream_executor/platform/default/dso_loader.cc:49] Successfully opened dynamic library libcublas.so.10\n",
      "2021-11-19 01:38:30.691470: I tensorflow/stream_executor/platform/default/dso_loader.cc:49] Successfully opened dynamic library libcudnn.so.8\n",
      "2021-11-19 01:38:31.501518: I tensorflow/stream_executor/platform/default/dso_loader.cc:49] Successfully opened dynamic library libcudnn.so.8\n",
      "2021-11-19 01:38:32.488132: I tensorflow/stream_executor/platform/default/dso_loader.cc:49] Successfully opened dynamic library libcudnn.so.8\n"
     ]
    }
   ],
   "source": [
    "jetson.start_fed(experiment=EXPERIMENT, \n",
    "                 max_round=MAX_ROUND,\n",
    "                 num_samples=NUM_SAMPLES,\n",
    "                 num_clients=CLIENT_NUM)"
   ]
  },
  {
   "cell_type": "code",
   "execution_count": null,
   "metadata": {},
   "outputs": [],
   "source": []
  }
 ],
 "metadata": {
  "kernelspec": {
   "display_name": "Python 3",
   "language": "python",
   "name": "python3"
  },
  "language_info": {
   "codemirror_mode": {
    "name": "ipython",
    "version": 3
   },
   "file_extension": ".py",
   "mimetype": "text/x-python",
   "name": "python",
   "nbconvert_exporter": "python",
   "pygments_lexer": "ipython3",
   "version": "3.8.10"
  }
 },
 "nbformat": 4,
 "nbformat_minor": 4
}
