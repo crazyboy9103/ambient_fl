{
 "cells": [
  {
   "cell_type": "markdown",
   "metadata": {},
   "source": [
    "# Jetson Nano를 사용해서 Federated Learning으로 학습 과제\n",
    "\n",
    "* 이전 실습에서 Django를 가지고 서버를 만들고 Federated learning을 진행해보는 실습을 진행하였다.\n",
    "* 이번 과제에서는 실제 Jetson Nano를 사용해서 Federated Learning을 진행해야 한다."
   ]
  },
  {
   "cell_type": "markdown",
   "metadata": {},
   "source": [
    "* ```Jetson```클래스를 사용해서 모든 Jetson nano에 커맨드를 보낸다.\n",
    "* 현재 Jetson은 20101 ~ 20106, 20111 ~ 20116, 20121 ~ 20126, 20131 ~ 20135 포트가 사용 가능함"
   ]
  },
  {
   "cell_type": "code",
   "execution_count": 30,
   "metadata": {},
   "outputs": [],
   "source": [
    "import paramiko\n",
    "import time\n",
    "import argparse\n",
    "import requests\n",
    "from tqdm import tqdm\n",
    "class Jetson:\n",
    "    def __init__(self, min_port, max_port):\n",
    "        assert int(min_port) < int(max_port), \"max port must be >= min port\"\n",
    "        self.address = \"147.47.200.209\"\n",
    "        self.username, self.password = \"jetson\", \"jetson\"\n",
    "        self.ports = [i for i in range(int(min_port), int(max_port)+1)]\n",
    "        self.ssh_ports = []\n",
    "        self.ssh_clients = []\n",
    "        \n",
    "    def check(self):\n",
    "        # check which clients are online \n",
    "        cli = paramiko.SSHClient()\n",
    "        cli.set_missing_host_key_policy(paramiko.AutoAddPolicy)       \n",
    "        for port in self.ports:\n",
    "            try:\n",
    "                cli.connect(hostname=self.address, port=port, username=self.username, password=self.password)\n",
    "                stdin, stdout, stderr = cli.exec_command(\"ls\")\n",
    "                lines = stdout.readlines()\n",
    "                if lines:\n",
    "                    self.ssh_ports.append(port)\n",
    "                    self.ssh_clients.append(cli)\n",
    "\n",
    "            except:\n",
    "                print(f\"Port {port} Error\")\n",
    "                continue\n",
    "\n",
    "    def start_fed(self, experiment, max_round, num_samples, num_clients):\n",
    "        self.check()\n",
    "        \n",
    "        for i, (port, client) in enumerate(zip(self.ssh_ports, self.ssh_clients)):\n",
    "            command = f\"python3 client.py  --round {max_round} --num {num_samples} --id {i} --exp {experiment}\"\n",
    "            \n",
    "            stdin, stdout, stderr = client.exec_command(command)\n",
    "            if i == 0:\n",
    "                print(\"Start federated learning\")\n",
    "                if stdout:\n",
    "                    print(\"Output:\", stdout.readlines())\n",
    "                if stderr:\n",
    "                    print(\"Error:\", stderr.readlines())"
   ]
  },
  {
   "cell_type": "markdown",
   "metadata": {},
   "source": [
    "* 명령어 실행에 필요한 변수들을 정의한다\n",
    "    * ```MIN_PORT``` : 최소 포트값\n",
    "    * ```MAX_PORT``` : 최대 포트값\n",
    "    * ```EXPERIMENT``` : experiment 번호\n",
    "    * ```MAX_ROUND``` : 학습할 round\n",
    "    * ```NUM_SAMPLES``` : 각 클라이언트에서 학습에 사용할 수 있는 데이터의 개수 (experiment 3, 4에 대해서는 무시)\n",
    "    * ```CLIENT_NUM``` : 클라이언트 수\n",
    "    * ```SERVER_ADD``` : 학습에 사용할 서버 주소"
   ]
  },
  {
   "cell_type": "code",
   "execution_count": 34,
   "metadata": {},
   "outputs": [],
   "source": [
    "###### VARIABLES ######\n",
    "MIN_PORT = 20101\n",
    "MAX_PORT = 20106\n",
    "EXPERIMENT = 1\n",
    "MAX_ROUND = 5 \n",
    "NUM_SAMPLES = 600\n",
    "CLIENT_NUM = 1 + (MAX_PORT-MIN_PORT)\n",
    "SERVER_ADD = \"147.47.200.178:9103\""
   ]
  },
  {
   "cell_type": "markdown",
   "metadata": {},
   "source": [
    "* 아래 커맨드를 통해 서버를 초기화 시키고, 클라이언트 수, 실험, 전체 round 수를 서버에 알려줄 수 있다.\n",
    "* 초기화가 성공한 경우 ```<Response [200]> Initialized server>``` 라고 뜰 것이다"
   ]
  },
  {
   "cell_type": "code",
   "execution_count": 35,
   "metadata": {
    "scrolled": true
   },
   "outputs": [
    {
     "name": "stdout",
     "output_type": "stream",
     "text": [
      "<Response [200]> Initialized server\n"
     ]
    }
   ],
   "source": [
    "###### INITIALIZE SERVER ######\n",
    "import requests\n",
    "init = requests.get(f\"http://{SERVER_ADD}/initialize/{CLIENT_NUM}/{EXPERIMENT}/{MAX_ROUND}\")\n",
    "print(init, init.text)"
   ]
  },
  {
   "cell_type": "markdown",
   "metadata": {},
   "source": [
    "* 아래 커맨드를 통해 ```MIN_PORT``` 부터 ```MAX_PORT```까지 federated learning을 시작한다. (결과는 서버에 쌓임)"
   ]
  },
  {
   "cell_type": "code",
   "execution_count": 36,
   "metadata": {},
   "outputs": [
    {
     "name": "stdout",
     "output_type": "stream",
     "text": [
      "Start federated learning\n",
      "Output: []\n",
      "Error: [\"python3: can't open file 'client.py': [Errno 2] No such file or directory\\n\"]\n"
     ]
    }
   ],
   "source": [
    "jetson = Jetson(min_port = MIN_PORT, max_port=MAX_PORT)\n",
    "jetson.start_fed(experiment=EXPERIMENT, \n",
    "                 max_round=MAX_ROUND,\n",
    "                 num_samples=NUM_SAMPLES)"
   ]
  }
 ],
 "metadata": {
  "kernelspec": {
   "display_name": "Python 3",
   "language": "python",
   "name": "python3"
  },
  "language_info": {
   "codemirror_mode": {
    "name": "ipython",
    "version": 3
   },
   "file_extension": ".py",
   "mimetype": "text/x-python",
   "name": "python",
   "nbconvert_exporter": "python",
   "pygments_lexer": "ipython3",
   "version": "3.8.10"
  }
 },
 "nbformat": 4,
 "nbformat_minor": 4
}
