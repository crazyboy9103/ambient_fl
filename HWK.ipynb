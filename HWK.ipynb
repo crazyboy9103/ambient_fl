{
 "cells": [
  {
   "cell_type": "markdown",
   "metadata": {},
   "source": [
    "# Jetson Nano를 사용해서 Federated Learning으로 학습 과제\n",
    "\n",
    "* 이전 실습에서 Django를 가지고 서버를 만들고 Federated learning을 진행해보는 실습을 진행하였다.\n",
    "* 이번 과제에서는 실제 Jetson Nano를 사용해서 Federated Learning을 진행해야 한다."
   ]
  },
  {
   "cell_type": "markdown",
   "metadata": {},
   "source": [
    "* ```Jetson```클래스를 사용해서 모든 Jetson nano에 커맨드를 보낸다.\n",
    "* 현재 Jetson은 20101 ~ 20106, 20111 ~ 20116, 20121 ~ 20126, 20131 ~ 20136 포트가 사용 가능함"
   ]
  },
  {
   "cell_type": "code",
   "execution_count": 1,
   "metadata": {},
   "outputs": [],
   "source": [
    "try:\n",
    "    import fabric\n",
    "except:\n",
    "    !pip install fabric\n",
    "    \n",
    "try:\n",
    "    from IPython.display import clear_output\n",
    "except:\n",
    "    pass"
   ]
  },
  {
   "cell_type": "code",
   "execution_count": 2,
   "metadata": {},
   "outputs": [],
   "source": [
    "import logging, socket, paramiko.ssh_exception\n",
    "from fabric import Connection, Config, SerialGroup, ThreadingGroup, exceptions, runners\n",
    "from fabric.exceptions import GroupException\n",
    "from random import random"
   ]
  },
  {
   "cell_type": "code",
   "execution_count": 8,
   "metadata": {},
   "outputs": [],
   "source": [
    "import paramiko\n",
    "import time\n",
    "import argparse\n",
    "import requests\n",
    "from tqdm import tqdm\n",
    "import threading\n",
    "import time\n",
    "\n",
    "class Jetson:\n",
    "    def __init__(self, min_port, max_port):\n",
    "        self.address = \"147.47.200.209\"\n",
    "        self.username, self.password = \"jetson\", \"jetson\"\n",
    "        self.ports = [i for i in range(int(min_port), int(max_port)+1) if 1<=i%10<=6]\n",
    "        self.ssh_ports = []\n",
    "        self.connections = []\n",
    "        \n",
    "    def check(self):\n",
    "        for port in self.ports:\n",
    "            con = Connection(f'{self.username}@{self.address}:{port}', connect_kwargs ={\"password\":self.password})\n",
    "            command = 'ls'\n",
    "            print(f'----------------{port}----------------')\n",
    "            try:\n",
    "                con.run(command)\n",
    "                self.ssh_ports.append(port)\n",
    "                self.connections.append(con)\n",
    "            except:\n",
    "                print('ERROR')\n",
    "\n",
    "        print(\"Available ports\", self.ssh_ports)\n",
    "        return len(self.ssh_ports)\n",
    "            \n",
    "    \n",
    "    \n",
    "    def send_command(self, command):\n",
    "        for port, con in zip(self.ssh_ports, self.connections): \n",
    "            print(f'----------------{port}----------------')\n",
    "            try:\n",
    "                con.run(command)\n",
    "\n",
    "            except:\n",
    "                print('ERROR')\n",
    "\n",
    "                        \n",
    "    def start_fed(self, experiment, max_round, num_samples, num_clients):\n",
    "        for i, (port, con) in enumerate(zip(self.ssh_ports, self.connections)):\n",
    "            command = f'docker exec temp python3 /ambient_fl/client.py --round {max_round} --num {num_samples} --id {i} --exp {experiment}'\n",
    "            print(f'----------------{port}----------------')\n",
    "            try:\n",
    "                t=threading.Thread(target=con.run,args=(command,))\n",
    "                t.start()\n",
    "            except:\n",
    "                print('ERROR')"
   ]
  },
  {
   "cell_type": "markdown",
   "metadata": {},
   "source": [
    "* 명령어 실행에 필요한 변수들을 정의한다\n",
    "    * ```MIN_PORT``` : 최소 포트값 (default = 20101)\n",
    "    * ```MAX_PORT``` : 최대 포트값 (default = 20136)\n",
    "    * ```EXPERIMENT``` : experiment 번호\n",
    "    * ```MAX_ROUND``` : 학습할 round\n",
    "    * ```NUM_SAMPLES``` : 각 클라이언트에서 학습에 사용할 수 있는 데이터의 개수 (experiment 3, 4에 대해서는 무시)\n",
    "    * ```CLIENT_NUM``` : 클라이언트 수"
   ]
  },
  {
   "cell_type": "code",
   "execution_count": 9,
   "metadata": {},
   "outputs": [],
   "source": [
    "MIN_PORT = 20101\n",
    "MAX_PORT = 20106\n",
    "EXPERIMENT = 1\n",
    "MAX_ROUND = 5\n",
    "NUM_SAMPLES = 600"
   ]
  },
  {
   "cell_type": "code",
   "execution_count": 10,
   "metadata": {},
   "outputs": [
    {
     "name": "stdout",
     "output_type": "stream",
     "text": [
      "----------------20101----------------\n",
      "ambient_fl\n",
      "Desktop\n",
      "Documents\n",
      "Downloads\n",
      "examples.desktop\n",
      "FedML-IoT\n",
      "FL\n",
      "jetson\n",
      "jetson_network.sh\n",
      "Music\n",
      "Pictures\n",
      "Public\n",
      "Templates\n",
      "Videos\n",
      "----------------20102----------------\n",
      "ambient_fl\n",
      "Desktop\n",
      "Documents\n",
      "Downloads\n",
      "examples.desktop\n",
      "FL\n",
      "jetson\n",
      "jetson_network.sh\n",
      "Music\n",
      "Pictures\n",
      "Public\n",
      "Templates\n",
      "Videos\n",
      "----------------20103----------------\n",
      "ambient_fl\n",
      "Desktop\n",
      "Documents\n",
      "Downloads\n",
      "examples.desktop\n",
      "FL\n",
      "jetson\n",
      "jetson_network.sh\n",
      "Music\n",
      "Pictures\n",
      "Public\n",
      "Templates\n",
      "Videos\n",
      "----------------20104----------------\n",
      "ambient_fl\n",
      "Desktop\n",
      "Documents\n",
      "Downloads\n",
      "examples.desktop\n",
      "FL\n",
      "jetson\n",
      "jetson_network.sh\n",
      "Music\n",
      "Pictures\n",
      "Public\n",
      "Templates\n",
      "Videos\n",
      "----------------20105----------------\n",
      "ambient_fl\n",
      "Desktop\n",
      "Documents\n",
      "Downloads\n",
      "examples.desktop\n",
      "FL\n",
      "jetson\n",
      "jetson_network.sh\n",
      "Music\n",
      "Pictures\n",
      "Public\n",
      "Templates\n",
      "Videos\n",
      "----------------20106----------------\n",
      "ambient_fl\n",
      "Desktop\n",
      "Documents\n",
      "Downloads\n",
      "examples.desktop\n",
      "FL\n",
      "jetson\n",
      "jetson_network.sh\n",
      "Music\n",
      "Pictures\n",
      "Public\n",
      "Templates\n",
      "Videos\n",
      "Available ports [20101, 20102, 20103, 20104, 20105, 20106]\n"
     ]
    }
   ],
   "source": [
    "jetson = Jetson(min_port = MIN_PORT, max_port=MAX_PORT)\n",
    "CLIENT_NUM = jetson.check() # 통신 전에 무조건 실행되야 함"
   ]
  },
  {
   "cell_type": "markdown",
   "metadata": {},
   "source": [
    "* 아래 커맨드를 통해 서버를 초기화 시키고, 클라이언트 수, 실험, 전체 round 수를 서버에 알려줄 수 있다.\n",
    "* 초기화가 성공한 경우 ```<Response [200]> Initialized server>``` 라고 뜰 것이다"
   ]
  },
  {
   "cell_type": "code",
   "execution_count": 115,
   "metadata": {
    "scrolled": true
   },
   "outputs": [
    {
     "name": "stdout",
     "output_type": "stream",
     "text": [
      "<Response [200]> Initialized server\n"
     ]
    }
   ],
   "source": [
    "import requests\n",
    "init = requests.get(f\"http://147.47.200.178:9103/initialize/{CLIENT_NUM}/{EXPERIMENT}/{MAX_ROUND}\")\n",
    "print(init, init.text)"
   ]
  },
  {
   "cell_type": "code",
   "execution_count": 6,
   "metadata": {
    "scrolled": true
   },
   "outputs": [
    {
     "name": "stdout",
     "output_type": "stream",
     "text": [
      "----------------20101----------------\n",
      "e67b09ca440a\n",
      "----------------20102----------------\n",
      "f5a94b1e067e\n",
      "----------------20103----------------\n",
      "8ba4ee27ca05\n",
      "----------------20104----------------\n",
      "657c33f85423\n",
      "----------------20105----------------\n",
      "f5138f72af99\n",
      "----------------20106----------------\n",
      "1328e4e79959\n"
     ]
    }
   ],
   "source": [
    "jetson.send_command(\"docker stop $(docker ps -a -q)\")"
   ]
  },
  {
   "cell_type": "code",
   "execution_count": 109,
   "metadata": {
    "scrolled": false
   },
   "outputs": [
    {
     "name": "stdout",
     "output_type": "stream",
     "text": [
      "----------------20101----------------\n",
      "latest: Pulling from crazyboy9103/jetson_fl\n",
      "Digest: sha256:f85a28e7d790b5e099f8c996970ef9e60438bffd28f2cd70e974dbfc547fb46a\n",
      "Status: Image is up to date for crazyboy9103/jetson_fl:latest\n",
      "docker.io/crazyboy9103/jetson_fl:latest\n",
      "----------------20102----------------\n",
      "latest: Pulling from crazyboy9103/jetson_fl\n",
      "Digest: sha256:f85a28e7d790b5e099f8c996970ef9e60438bffd28f2cd70e974dbfc547fb46a\n",
      "Status: Image is up to date for crazyboy9103/jetson_fl:latest\n",
      "docker.io/crazyboy9103/jetson_fl:latest\n",
      "----------------20103----------------\n",
      "latest: Pulling from crazyboy9103/jetson_fl\n",
      "Digest: sha256:f85a28e7d790b5e099f8c996970ef9e60438bffd28f2cd70e974dbfc547fb46a\n",
      "Status: Image is up to date for crazyboy9103/jetson_fl:latest\n",
      "docker.io/crazyboy9103/jetson_fl:latest\n",
      "----------------20104----------------\n",
      "latest: Pulling from crazyboy9103/jetson_fl\n",
      "Digest: sha256:f85a28e7d790b5e099f8c996970ef9e60438bffd28f2cd70e974dbfc547fb46a\n",
      "Status: Image is up to date for crazyboy9103/jetson_fl:latest\n",
      "docker.io/crazyboy9103/jetson_fl:latest\n",
      "----------------20105----------------\n",
      "latest: Pulling from crazyboy9103/jetson_fl\n",
      "Digest: sha256:f85a28e7d790b5e099f8c996970ef9e60438bffd28f2cd70e974dbfc547fb46a\n",
      "Status: Image is up to date for crazyboy9103/jetson_fl:latest\n",
      "docker.io/crazyboy9103/jetson_fl:latest\n",
      "----------------20106----------------\n",
      "latest: Pulling from crazyboy9103/jetson_fl\n",
      "Digest: sha256:f85a28e7d790b5e099f8c996970ef9e60438bffd28f2cd70e974dbfc547fb46a\n",
      "Status: Image is up to date for crazyboy9103/jetson_fl:latest\n",
      "docker.io/crazyboy9103/jetson_fl:latest\n"
     ]
    }
   ],
   "source": [
    "jetson.send_command(\"docker pull crazyboy9103/jetson_fl:latest\")"
   ]
  },
  {
   "cell_type": "code",
   "execution_count": 110,
   "metadata": {
    "scrolled": true
   },
   "outputs": [
    {
     "name": "stdout",
     "output_type": "stream",
     "text": [
      "----------------20101----------------\n",
      "e67b09ca440a7ca4953e114b0b77d55548e1bce4573c3f48ce376cb3eab311a0\n",
      "----------------20102----------------\n",
      "f5a94b1e067e1b811ac16e51055058d25b7e9a1d00464bf686ecfdc3898e049b\n",
      "----------------20103----------------\n",
      "8ba4ee27ca05fa4f9d0de2cc438466e6011eec3357e6f6898195956010f4cb5e\n",
      "----------------20104----------------\n",
      "657c33f85423b44f459da014236003188e52b02c1272147ae8d03eee0c3072fb\n",
      "----------------20105----------------\n",
      "f5138f72af99d23d6f0e3f6a95f523f922398a014347bb57aeae2a7e24ff6b42\n",
      "----------------20106----------------\n",
      "1328e4e799598f5171b0e2f603cf13b95222aa796ed6c1254bc5cba9aaa2a1bd\n"
     ]
    }
   ],
   "source": [
    "jetson.send_command(\"docker run -d -ti --name temp --gpus all crazyboy9103/jetson_fl:latest\")"
   ]
  },
  {
   "cell_type": "code",
   "execution_count": 11,
   "metadata": {},
   "outputs": [
    {
     "name": "stdout",
     "output_type": "stream",
     "text": [
      "----------------20101----------------\n",
      "CONTAINER ID   IMAGE                           COMMAND       CREATED          STATUS                     PORTS     NAMES\n",
      "e67b09ca440a   crazyboy9103/jetson_fl:latest   \"/bin/bash\"   11 minutes ago   Exited (0) 8 minutes ago             temp\n",
      "----------------20102----------------\n",
      "CONTAINER ID   IMAGE                           COMMAND       CREATED          STATUS                     PORTS     NAMES\n",
      "f5a94b1e067e   crazyboy9103/jetson_fl:latest   \"/bin/bash\"   11 minutes ago   Exited (0) 7 minutes ago             temp\n",
      "----------------20103----------------\n",
      "CONTAINER ID   IMAGE                           COMMAND       CREATED          STATUS                     PORTS     NAMES\n",
      "8ba4ee27ca05   crazyboy9103/jetson_fl:latest   \"/bin/bash\"   11 minutes ago   Exited (0) 7 minutes ago             temp\n",
      "----------------20104----------------\n",
      "CONTAINER ID   IMAGE                           COMMAND       CREATED          STATUS                     PORTS     NAMES\n",
      "657c33f85423   crazyboy9103/jetson_fl:latest   \"/bin/bash\"   11 minutes ago   Exited (0) 7 minutes ago             temp\n",
      "----------------20105----------------\n",
      "CONTAINER ID   IMAGE                           COMMAND       CREATED          STATUS                     PORTS     NAMES\n",
      "f5138f72af99   crazyboy9103/jetson_fl:latest   \"/bin/bash\"   11 minutes ago   Exited (0) 7 minutes ago             temp\n",
      "----------------20106----------------\n",
      "CONTAINER ID   IMAGE                           COMMAND       CREATED          STATUS                     PORTS     NAMES\n",
      "1328e4e79959   crazyboy9103/jetson_fl:latest   \"/bin/bash\"   11 minutes ago   Exited (0) 7 minutes ago             temp\n"
     ]
    }
   ],
   "source": [
    "jetson.send_command(\"docker ps -a\")"
   ]
  },
  {
   "cell_type": "markdown",
   "metadata": {},
   "source": [
    "* 아래 커맨드를 통해 ```MIN_PORT``` 부터 ```MAX_PORT```까지 federated learning을 시작한다. (결과는 서버에 쌓임) "
   ]
  },
  {
   "cell_type": "code",
   "execution_count": 11,
   "metadata": {},
   "outputs": [
    {
     "name": "stdout",
     "output_type": "stream",
     "text": [
      "----------------20101----------------\n",
      "temp\n",
      "----------------20102----------------\n",
      "temp\n",
      "----------------20103----------------\n",
      "temp\n",
      "----------------20104----------------\n",
      "temp\n",
      "----------------20105----------------\n",
      "temp\n",
      "----------------20106----------------\n",
      "temp\n"
     ]
    }
   ],
   "source": [
    "jetson.send_command(\"docker start temp\")"
   ]
  },
  {
   "cell_type": "code",
   "execution_count": 12,
   "metadata": {
    "scrolled": true
   },
   "outputs": [
    {
     "name": "stdout",
     "output_type": "stream",
     "text": [
      "----------------20101----------------\n",
      "----------------20102----------------\n",
      "----------------20103----------------\n",
      "----------------20104----------------\n",
      "----------------20105----------------\n",
      "----------------20106----------------\n"
     ]
    },
    {
     "name": "stderr",
     "output_type": "stream",
     "text": [
      "2021-11-18 03:06:12.999610: I tensorflow/stream_executor/platform/default/dso_loader.cc:49] Successfully opened dynamic library libcudart.so.10.2\n",
      "2021-11-18 03:06:13.079914: I tensorflow/stream_executor/platform/default/dso_loader.cc:49] Successfully opened dynamic library libcudart.so.10.2\n",
      "2021-11-18 03:06:14.431469: I tensorflow/stream_executor/platform/default/dso_loader.cc:49] Successfully opened dynamic library libcudart.so.10.2\n",
      "2021-11-18 03:06:14.607756: I tensorflow/stream_executor/platform/default/dso_loader.cc:49] Successfully opened dynamic library libcudart.so.10.2\n",
      "2021-11-18 03:06:14.904928: I tensorflow/stream_executor/platform/default/dso_loader.cc:49] Successfully opened dynamic library libcudart.so.10.2\n",
      "2021-11-18 03:06:15.031684: I tensorflow/stream_executor/platform/default/dso_loader.cc:49] Successfully opened dynamic library libcudart.so.10.2\n",
      "2021-11-18 03:06:18.949773: I tensorflow/stream_executor/platform/default/dso_loader.cc:49] Successfully opened dynamic library libcuda.so.1\n",
      "2021-11-18 03:06:18.966299: I tensorflow/stream_executor/cuda/cuda_gpu_executor.cc:1046] ARM64 does not support NUMA - returning NUMA node zero\n",
      "2021-11-18 03:06:18.966463: I tensorflow/core/common_runtime/gpu/gpu_device.cc:1742] Found device 0 with properties: \n",
      "pciBusID: 0000:00:00.0 name: NVIDIA Tegra X1 computeCapability: 5.3\n",
      "coreClock: 0.9216GHz coreCount: 1 deviceMemorySize: 3.87GiB deviceMemoryBandwidth: 194.55MiB/s\n",
      "2021-11-18 03:06:18.966534: I tensorflow/stream_executor/platform/default/dso_loader.cc:49] Successfully opened dynamic library libcudart.so.10.2\n",
      "2021-11-18 03:06:18.970695: I tensorflow/stream_executor/platform/default/dso_loader.cc:49] Successfully opened dynamic library libcublas.so.10\n",
      "2021-11-18 03:06:18.973788: I tensorflow/stream_executor/platform/default/dso_loader.cc:49] Successfully opened dynamic library libcufft.so.10\n",
      "2021-11-18 03:06:18.974751: I tensorflow/stream_executor/platform/default/dso_loader.cc:49] Successfully opened dynamic library libcurand.so.10\n",
      "2021-11-18 03:06:18.978706: I tensorflow/stream_executor/platform/default/dso_loader.cc:49] Successfully opened dynamic library libcusolver.so.10\n",
      "2021-11-18 03:06:18.981751: I tensorflow/stream_executor/platform/default/dso_loader.cc:49] Successfully opened dynamic library libcusparse.so.10\n",
      "2021-11-18 03:06:18.982735: I tensorflow/stream_executor/platform/default/dso_loader.cc:49] Successfully opened dynamic library libcudnn.so.8\n",
      "2021-11-18 03:06:18.983001: I tensorflow/stream_executor/cuda/cuda_gpu_executor.cc:1046] ARM64 does not support NUMA - returning NUMA node zero\n",
      "2021-11-18 03:06:18.983280: I tensorflow/stream_executor/cuda/cuda_gpu_executor.cc:1046] ARM64 does not support NUMA - returning NUMA node zero\n",
      "2021-11-18 03:06:18.983440: I tensorflow/core/common_runtime/gpu/gpu_device.cc:1884] Adding visible gpu devices: 0\n",
      "2021-11-18 03:06:19.007113: W tensorflow/core/platform/profile_utils/cpu_utils.cc:108] Failed to find bogomips or clock in /proc/cpuinfo; cannot determine CPU frequency\n",
      "2021-11-18 03:06:19.007929: I tensorflow/compiler/xla/service/service.cc:168] XLA service 0x2793e070 initialized for platform Host (this does not guarantee that XLA will be used). Devices:\n",
      "2021-11-18 03:06:19.008026: I tensorflow/compiler/xla/service/service.cc:176]   StreamExecutor device (0): Host, Default Version\n",
      "2021-11-18 03:06:19.082983: I tensorflow/stream_executor/cuda/cuda_gpu_executor.cc:1046] ARM64 does not support NUMA - returning NUMA node zero\n",
      "2021-11-18 03:06:19.083307: I tensorflow/compiler/xla/service/service.cc:168] XLA service 0x27a6a770 initialized for platform CUDA (this does not guarantee that XLA will be used). Devices:\n",
      "2021-11-18 03:06:19.083366: I tensorflow/compiler/xla/service/service.cc:176]   StreamExecutor device (0): NVIDIA Tegra X1, Compute Capability 5.3\n",
      "2021-11-18 03:06:19.083775: I tensorflow/stream_executor/cuda/cuda_gpu_executor.cc:1046] ARM64 does not support NUMA - returning NUMA node zero\n",
      "2021-11-18 03:06:19.083904: I tensorflow/core/common_runtime/gpu/gpu_device.cc:1742] Found device 0 with properties: \n",
      "pciBusID: 0000:00:00.0 name: NVIDIA Tegra X1 computeCapability: 5.3\n",
      "coreClock: 0.9216GHz coreCount: 1 deviceMemorySize: 3.87GiB deviceMemoryBandwidth: 194.55MiB/s\n",
      "2021-11-18 03:06:19.083986: I tensorflow/stream_executor/platform/default/dso_loader.cc:49] Successfully opened dynamic library libcudart.so.10.2\n",
      "2021-11-18 03:06:19.084050: I tensorflow/stream_executor/platform/default/dso_loader.cc:49] Successfully opened dynamic library libcublas.so.10\n",
      "2021-11-18 03:06:19.084102: I tensorflow/stream_executor/platform/default/dso_loader.cc:49] Successfully opened dynamic library libcufft.so.10\n",
      "2021-11-18 03:06:19.084152: I tensorflow/stream_executor/platform/default/dso_loader.cc:49] Successfully opened dynamic library libcurand.so.10\n",
      "2021-11-18 03:06:19.084196: I tensorflow/stream_executor/platform/default/dso_loader.cc:49] Successfully opened dynamic library libcusolver.so.10\n",
      "2021-11-18 03:06:19.084241: I tensorflow/stream_executor/platform/default/dso_loader.cc:49] Successfully opened dynamic library libcusparse.so.10\n",
      "2021-11-18 03:06:19.084283: I tensorflow/stream_executor/platform/default/dso_loader.cc:49] Successfully opened dynamic library libcudnn.so.8\n",
      "2021-11-18 03:06:19.084437: I tensorflow/stream_executor/cuda/cuda_gpu_executor.cc:1046] ARM64 does not support NUMA - returning NUMA node zero\n",
      "2021-11-18 03:06:19.084629: I tensorflow/stream_executor/cuda/cuda_gpu_executor.cc:1046] ARM64 does not support NUMA - returning NUMA node zero\n",
      "2021-11-18 03:06:19.084708: I tensorflow/core/common_runtime/gpu/gpu_device.cc:1884] Adding visible gpu devices: 0\n",
      "2021-11-18 03:06:19.084783: I tensorflow/stream_executor/platform/default/dso_loader.cc:49] Successfully opened dynamic library libcudart.so.10.2\n",
      "2021-11-18 03:06:19.362760: I tensorflow/stream_executor/platform/default/dso_loader.cc:49] Successfully opened dynamic library libcuda.so.1\n",
      "2021-11-18 03:06:19.381742: I tensorflow/stream_executor/cuda/cuda_gpu_executor.cc:1046] ARM64 does not support NUMA - returning NUMA node zero\n",
      "2021-11-18 03:06:19.381935: I tensorflow/core/common_runtime/gpu/gpu_device.cc:1742] Found device 0 with properties: \n",
      "pciBusID: 0000:00:00.0 name: NVIDIA Tegra X1 computeCapability: 5.3\n",
      "coreClock: 0.9216GHz coreCount: 1 deviceMemorySize: 3.87GiB deviceMemoryBandwidth: 194.55MiB/s\n",
      "2021-11-18 03:06:19.382016: I tensorflow/stream_executor/platform/default/dso_loader.cc:49] Successfully opened dynamic library libcudart.so.10.2\n",
      "2021-11-18 03:06:19.386152: I tensorflow/stream_executor/platform/default/dso_loader.cc:49] Successfully opened dynamic library libcublas.so.10\n",
      "2021-11-18 03:06:19.389111: I tensorflow/stream_executor/platform/default/dso_loader.cc:49] Successfully opened dynamic library libcufft.so.10\n",
      "2021-11-18 03:06:19.389993: I tensorflow/stream_executor/platform/default/dso_loader.cc:49] Successfully opened dynamic library libcurand.so.10\n",
      "2021-11-18 03:06:19.393987: I tensorflow/stream_executor/platform/default/dso_loader.cc:49] Successfully opened dynamic library libcusolver.so.10\n",
      "2021-11-18 03:06:19.397073: I tensorflow/stream_executor/platform/default/dso_loader.cc:49] Successfully opened dynamic library libcusparse.so.10\n",
      "2021-11-18 03:06:19.400911: I tensorflow/stream_executor/platform/default/dso_loader.cc:49] Successfully opened dynamic library libcudnn.so.8\n",
      "2021-11-18 03:06:19.401159: I tensorflow/stream_executor/cuda/cuda_gpu_executor.cc:1046] ARM64 does not support NUMA - returning NUMA node zero\n",
      "2021-11-18 03:06:19.401390: I tensorflow/stream_executor/cuda/cuda_gpu_executor.cc:1046] ARM64 does not support NUMA - returning NUMA node zero\n",
      "2021-11-18 03:06:19.401485: I tensorflow/core/common_runtime/gpu/gpu_device.cc:1884] Adding visible gpu devices: 0\n",
      "2021-11-18 03:06:19.423758: W tensorflow/core/platform/profile_utils/cpu_utils.cc:108] Failed to find bogomips or clock in /proc/cpuinfo; cannot determine CPU frequency\n",
      "2021-11-18 03:06:19.424536: I tensorflow/compiler/xla/service/service.cc:168] XLA service 0x27dd2070 initialized for platform Host (this does not guarantee that XLA will be used). Devices:\n",
      "2021-11-18 03:06:19.424608: I tensorflow/compiler/xla/service/service.cc:176]   StreamExecutor device (0): Host, Default Version\n"
     ]
    },
    {
     "name": "stderr",
     "output_type": "stream",
     "text": [
      "2021-11-18 03:06:19.504302: I tensorflow/stream_executor/cuda/cuda_gpu_executor.cc:1046] ARM64 does not support NUMA - returning NUMA node zero\n",
      "2021-11-18 03:06:19.504605: I tensorflow/compiler/xla/service/service.cc:168] XLA service 0x27efe770 initialized for platform CUDA (this does not guarantee that XLA will be used). Devices:\n",
      "2021-11-18 03:06:19.504669: I tensorflow/compiler/xla/service/service.cc:176]   StreamExecutor device (0): NVIDIA Tegra X1, Compute Capability 5.3\n",
      "2021-11-18 03:06:19.505200: I tensorflow/stream_executor/cuda/cuda_gpu_executor.cc:1046] ARM64 does not support NUMA - returning NUMA node zero\n",
      "2021-11-18 03:06:19.505368: I tensorflow/core/common_runtime/gpu/gpu_device.cc:1742] Found device 0 with properties: \n",
      "pciBusID: 0000:00:00.0 name: NVIDIA Tegra X1 computeCapability: 5.3\n",
      "coreClock: 0.9216GHz coreCount: 1 deviceMemorySize: 3.87GiB deviceMemoryBandwidth: 194.55MiB/s\n",
      "2021-11-18 03:06:19.505461: I tensorflow/stream_executor/platform/default/dso_loader.cc:49] Successfully opened dynamic library libcudart.so.10.2\n",
      "2021-11-18 03:06:19.505537: I tensorflow/stream_executor/platform/default/dso_loader.cc:49] Successfully opened dynamic library libcublas.so.10\n",
      "2021-11-18 03:06:19.505718: I tensorflow/stream_executor/platform/default/dso_loader.cc:49] Successfully opened dynamic library libcufft.so.10\n",
      "2021-11-18 03:06:19.505814: I tensorflow/stream_executor/platform/default/dso_loader.cc:49] Successfully opened dynamic library libcurand.so.10\n",
      "2021-11-18 03:06:19.505860: I tensorflow/stream_executor/platform/default/dso_loader.cc:49] Successfully opened dynamic library libcusolver.so.10\n",
      "2021-11-18 03:06:19.505916: I tensorflow/stream_executor/platform/default/dso_loader.cc:49] Successfully opened dynamic library libcusparse.so.10\n",
      "2021-11-18 03:06:19.505970: I tensorflow/stream_executor/platform/default/dso_loader.cc:49] Successfully opened dynamic library libcudnn.so.8\n",
      "2021-11-18 03:06:19.506136: I tensorflow/stream_executor/cuda/cuda_gpu_executor.cc:1046] ARM64 does not support NUMA - returning NUMA node zero\n",
      "2021-11-18 03:06:19.506412: I tensorflow/stream_executor/cuda/cuda_gpu_executor.cc:1046] ARM64 does not support NUMA - returning NUMA node zero\n",
      "2021-11-18 03:06:19.506528: I tensorflow/core/common_runtime/gpu/gpu_device.cc:1884] Adding visible gpu devices: 0\n",
      "2021-11-18 03:06:19.506631: I tensorflow/stream_executor/platform/default/dso_loader.cc:49] Successfully opened dynamic library libcudart.so.10.2\n",
      "2021-11-18 03:06:22.198842: I tensorflow/core/common_runtime/gpu/gpu_device.cc:1283] Device interconnect StreamExecutor with strength 1 edge matrix:\n",
      "2021-11-18 03:06:22.198931: I tensorflow/core/common_runtime/gpu/gpu_device.cc:1289]      0 \n",
      "2021-11-18 03:06:22.198965: I tensorflow/core/common_runtime/gpu/gpu_device.cc:1302] 0:   N \n",
      "2021-11-18 03:06:22.199516: I tensorflow/stream_executor/cuda/cuda_gpu_executor.cc:1046] ARM64 does not support NUMA - returning NUMA node zero\n",
      "2021-11-18 03:06:22.200058: I tensorflow/stream_executor/cuda/cuda_gpu_executor.cc:1046] ARM64 does not support NUMA - returning NUMA node zero\n",
      "2021-11-18 03:06:22.200470: I tensorflow/core/common_runtime/gpu/gpu_device.cc:1428] Created TensorFlow device (/job:localhost/replica:0/task:0/device:GPU:0 with 356 MB memory) -> physical GPU (device: 0, name: NVIDIA Tegra X1, pci bus id: 0000:00:00.0, compute capability: 5.3)\n",
      "2021-11-18 03:06:22.559641: I tensorflow/core/common_runtime/gpu/gpu_device.cc:1283] Device interconnect StreamExecutor with strength 1 edge matrix:\n",
      "2021-11-18 03:06:22.559732: I tensorflow/core/common_runtime/gpu/gpu_device.cc:1289]      0 \n",
      "2021-11-18 03:06:22.559762: I tensorflow/core/common_runtime/gpu/gpu_device.cc:1302] 0:   N \n",
      "2021-11-18 03:06:22.560134: I tensorflow/stream_executor/cuda/cuda_gpu_executor.cc:1046] ARM64 does not support NUMA - returning NUMA node zero\n",
      "2021-11-18 03:06:22.560418: I tensorflow/stream_executor/cuda/cuda_gpu_executor.cc:1046] ARM64 does not support NUMA - returning NUMA node zero\n",
      "2021-11-18 03:06:22.560590: I tensorflow/core/common_runtime/gpu/gpu_device.cc:1428] Created TensorFlow device (/job:localhost/replica:0/task:0/device:GPU:0 with 292 MB memory) -> physical GPU (device: 0, name: NVIDIA Tegra X1, pci bus id: 0000:00:00.0, compute capability: 5.3)\n",
      "2021-11-18 03:06:22.579768: I tensorflow/stream_executor/platform/default/dso_loader.cc:49] Successfully opened dynamic library libcuda.so.1\n",
      "2021-11-18 03:06:22.596040: I tensorflow/stream_executor/cuda/cuda_gpu_executor.cc:1046] ARM64 does not support NUMA - returning NUMA node zero\n",
      "2021-11-18 03:06:22.596216: I tensorflow/core/common_runtime/gpu/gpu_device.cc:1742] Found device 0 with properties: \n",
      "pciBusID: 0000:00:00.0 name: NVIDIA Tegra X1 computeCapability: 5.3\n",
      "coreClock: 0.9216GHz coreCount: 1 deviceMemorySize: 3.87GiB deviceMemoryBandwidth: 194.55MiB/s\n",
      "2021-11-18 03:06:22.596291: I tensorflow/stream_executor/platform/default/dso_loader.cc:49] Successfully opened dynamic library libcudart.so.10.2\n",
      "2021-11-18 03:06:22.732990: I tensorflow/stream_executor/platform/default/dso_loader.cc:49] Successfully opened dynamic library libcublas.so.10\n",
      "2021-11-18 03:06:22.839535: I tensorflow/stream_executor/platform/default/dso_loader.cc:49] Successfully opened dynamic library libcufft.so.10\n",
      "2021-11-18 03:06:22.959646: I tensorflow/stream_executor/platform/default/dso_loader.cc:49] Successfully opened dynamic library libcurand.so.10\n",
      "2021-11-18 03:06:23.147799: I tensorflow/stream_executor/platform/default/dso_loader.cc:49] Successfully opened dynamic library libcusolver.so.10\n",
      "2021-11-18 03:06:23.250763: I tensorflow/stream_executor/platform/default/dso_loader.cc:49] Successfully opened dynamic library libcusparse.so.10\n",
      "2021-11-18 03:06:23.260270: I tensorflow/stream_executor/platform/default/dso_loader.cc:49] Successfully opened dynamic library libcudnn.so.8\n",
      "2021-11-18 03:06:23.261425: I tensorflow/stream_executor/cuda/cuda_gpu_executor.cc:1046] ARM64 does not support NUMA - returning NUMA node zero\n",
      "2021-11-18 03:06:23.263129: I tensorflow/stream_executor/cuda/cuda_gpu_executor.cc:1046] ARM64 does not support NUMA - returning NUMA node zero\n",
      "2021-11-18 03:06:23.263599: I tensorflow/core/common_runtime/gpu/gpu_device.cc:1884] Adding visible gpu devices: 0\n",
      "2021-11-18 03:06:23.279447: I tensorflow/stream_executor/platform/default/dso_loader.cc:49] Successfully opened dynamic library libcuda.so.1\n",
      "2021-11-18 03:06:23.287500: I tensorflow/stream_executor/platform/default/dso_loader.cc:49] Successfully opened dynamic library libcuda.so.1\n",
      "2021-11-18 03:06:23.291209: I tensorflow/stream_executor/cuda/cuda_gpu_executor.cc:1046] ARM64 does not support NUMA - returning NUMA node zero\n",
      "2021-11-18 03:06:23.291425: I tensorflow/core/common_runtime/gpu/gpu_device.cc:1742] Found device 0 with properties: \n",
      "pciBusID: 0000:00:00.0 name: NVIDIA Tegra X1 computeCapability: 5.3\n",
      "coreClock: 0.9216GHz coreCount: 1 deviceMemorySize: 3.87GiB deviceMemoryBandwidth: 194.55MiB/s\n",
      "2021-11-18 03:06:23.291508: I tensorflow/stream_executor/platform/default/dso_loader.cc:49] Successfully opened dynamic library libcudart.so.10.2\n",
      "2021-11-18 03:06:23.297278: I tensorflow/stream_executor/cuda/cuda_gpu_executor.cc:1046] ARM64 does not support NUMA - returning NUMA node zero\n",
      "2021-11-18 03:06:23.297447: I tensorflow/core/common_runtime/gpu/gpu_device.cc:1742] Found device 0 with properties: \n",
      "pciBusID: 0000:00:00.0 name: NVIDIA Tegra X1 computeCapability: 5.3\n",
      "coreClock: 0.9216GHz coreCount: 1 deviceMemorySize: 3.87GiB deviceMemoryBandwidth: 194.55MiB/s\n",
      "2021-11-18 03:06:23.297520: I tensorflow/stream_executor/platform/default/dso_loader.cc:49] Successfully opened dynamic library libcudart.so.10.2\n",
      "2021-11-18 03:06:23.303252: W tensorflow/core/platform/profile_utils/cpu_utils.cc:108] Failed to find bogomips or clock in /proc/cpuinfo; cannot determine CPU frequency\n",
      "2021-11-18 03:06:23.305331: I tensorflow/compiler/xla/service/service.cc:168] XLA service 0x1d27dfc0 initialized for platform Host (this does not guarantee that XLA will be used). Devices:\n",
      "2021-11-18 03:06:23.305432: I tensorflow/compiler/xla/service/service.cc:176]   StreamExecutor device (0): Host, Default Version\n",
      "2021-11-18 03:06:23.379701: I tensorflow/stream_executor/platform/default/dso_loader.cc:49] Successfully opened dynamic library libcublas.so.10\n"
     ]
    },
    {
     "name": "stderr",
     "output_type": "stream",
     "text": [
      "2021-11-18 03:06:23.390808: I tensorflow/stream_executor/platform/default/dso_loader.cc:49] Successfully opened dynamic library libcublas.so.10\n",
      "2021-11-18 03:06:23.455205: I tensorflow/stream_executor/cuda/cuda_gpu_executor.cc:1046] ARM64 does not support NUMA - returning NUMA node zero\n",
      "2021-11-18 03:06:23.455557: I tensorflow/compiler/xla/service/service.cc:168] XLA service 0x1c0f3350 initialized for platform CUDA (this does not guarantee that XLA will be used). Devices:\n",
      "2021-11-18 03:06:23.455624: I tensorflow/compiler/xla/service/service.cc:176]   StreamExecutor device (0): NVIDIA Tegra X1, Compute Capability 5.3\n",
      "2021-11-18 03:06:23.456264: I tensorflow/stream_executor/cuda/cuda_gpu_executor.cc:1046] ARM64 does not support NUMA - returning NUMA node zero\n",
      "2021-11-18 03:06:23.456442: I tensorflow/core/common_runtime/gpu/gpu_device.cc:1742] Found device 0 with properties: \n",
      "pciBusID: 0000:00:00.0 name: NVIDIA Tegra X1 computeCapability: 5.3\n",
      "coreClock: 0.9216GHz coreCount: 1 deviceMemorySize: 3.87GiB deviceMemoryBandwidth: 194.55MiB/s\n",
      "2021-11-18 03:06:23.456528: I tensorflow/stream_executor/platform/default/dso_loader.cc:49] Successfully opened dynamic library libcudart.so.10.2\n",
      "2021-11-18 03:06:23.456608: I tensorflow/stream_executor/platform/default/dso_loader.cc:49] Successfully opened dynamic library libcublas.so.10\n",
      "2021-11-18 03:06:23.456673: I tensorflow/stream_executor/platform/default/dso_loader.cc:49] Successfully opened dynamic library libcufft.so.10\n",
      "2021-11-18 03:06:23.456723: I tensorflow/stream_executor/platform/default/dso_loader.cc:49] Successfully opened dynamic library libcurand.so.10\n",
      "2021-11-18 03:06:23.456801: I tensorflow/stream_executor/platform/default/dso_loader.cc:49] Successfully opened dynamic library libcusolver.so.10\n",
      "2021-11-18 03:06:23.456861: I tensorflow/stream_executor/platform/default/dso_loader.cc:49] Successfully opened dynamic library libcusparse.so.10\n",
      "2021-11-18 03:06:23.456939: I tensorflow/stream_executor/platform/default/dso_loader.cc:49] Successfully opened dynamic library libcudnn.so.8\n",
      "2021-11-18 03:06:23.457146: I tensorflow/stream_executor/cuda/cuda_gpu_executor.cc:1046] ARM64 does not support NUMA - returning NUMA node zero\n",
      "2021-11-18 03:06:23.457379: I tensorflow/stream_executor/cuda/cuda_gpu_executor.cc:1046] ARM64 does not support NUMA - returning NUMA node zero\n",
      "2021-11-18 03:06:23.457495: I tensorflow/core/common_runtime/gpu/gpu_device.cc:1884] Adding visible gpu devices: 0\n",
      "2021-11-18 03:06:23.457614: I tensorflow/stream_executor/platform/default/dso_loader.cc:49] Successfully opened dynamic library libcudart.so.10.2\n",
      "2021-11-18 03:06:23.476034: I tensorflow/stream_executor/platform/default/dso_loader.cc:49] Successfully opened dynamic library libcufft.so.10\n",
      "2021-11-18 03:06:23.493692: I tensorflow/stream_executor/platform/default/dso_loader.cc:49] Successfully opened dynamic library libcufft.so.10\n",
      "2021-11-18 03:06:23.595240: I tensorflow/stream_executor/platform/default/dso_loader.cc:49] Successfully opened dynamic library libcurand.so.10\n",
      "2021-11-18 03:06:23.625046: I tensorflow/stream_executor/platform/default/dso_loader.cc:49] Successfully opened dynamic library libcurand.so.10\n",
      "2021-11-18 03:06:23.764808: I tensorflow/stream_executor/platform/default/dso_loader.cc:49] Successfully opened dynamic library libcusolver.so.10\n",
      "2021-11-18 03:06:23.824327: I tensorflow/stream_executor/platform/default/dso_loader.cc:49] Successfully opened dynamic library libcusolver.so.10\n",
      "2021-11-18 03:06:23.855687: I tensorflow/stream_executor/platform/default/dso_loader.cc:49] Successfully opened dynamic library libcusparse.so.10\n",
      "2021-11-18 03:06:23.858078: I tensorflow/stream_executor/platform/default/dso_loader.cc:49] Successfully opened dynamic library libcudnn.so.8\n",
      "2021-11-18 03:06:23.858559: I tensorflow/stream_executor/cuda/cuda_gpu_executor.cc:1046] ARM64 does not support NUMA - returning NUMA node zero\n",
      "2021-11-18 03:06:23.859040: I tensorflow/stream_executor/cuda/cuda_gpu_executor.cc:1046] ARM64 does not support NUMA - returning NUMA node zero\n",
      "2021-11-18 03:06:23.859256: I tensorflow/core/common_runtime/gpu/gpu_device.cc:1884] Adding visible gpu devices: 0\n",
      "2021-11-18 03:06:23.893401: W tensorflow/core/platform/profile_utils/cpu_utils.cc:108] Failed to find bogomips or clock in /proc/cpuinfo; cannot determine CPU frequency\n",
      "2021-11-18 03:06:23.894943: I tensorflow/compiler/xla/service/service.cc:168] XLA service 0x14514070 initialized for platform Host (this does not guarantee that XLA will be used). Devices:\n",
      "2021-11-18 03:06:23.895051: I tensorflow/compiler/xla/service/service.cc:176]   StreamExecutor device (0): Host, Default Version\n",
      "2021-11-18 03:06:23.924040: I tensorflow/stream_executor/platform/default/dso_loader.cc:49] Successfully opened dynamic library libcusparse.so.10\n",
      "2021-11-18 03:06:23.931969: I tensorflow/stream_executor/platform/default/dso_loader.cc:49] Successfully opened dynamic library libcudnn.so.8\n",
      "2021-11-18 03:06:23.932205: I tensorflow/stream_executor/cuda/cuda_gpu_executor.cc:1046] ARM64 does not support NUMA - returning NUMA node zero\n",
      "2021-11-18 03:06:23.932473: I tensorflow/stream_executor/cuda/cuda_gpu_executor.cc:1046] ARM64 does not support NUMA - returning NUMA node zero\n",
      "2021-11-18 03:06:23.932742: I tensorflow/core/common_runtime/gpu/gpu_device.cc:1884] Adding visible gpu devices: 0\n",
      "2021-11-18 03:06:23.956695: I tensorflow/stream_executor/platform/default/dso_loader.cc:49] Successfully opened dynamic library libcuda.so.1\n",
      "2021-11-18 03:06:23.970774: W tensorflow/core/platform/profile_utils/cpu_utils.cc:108] Failed to find bogomips or clock in /proc/cpuinfo; cannot determine CPU frequency\n",
      "2021-11-18 03:06:23.971661: I tensorflow/compiler/xla/service/service.cc:168] XLA service 0x416e2fc0 initialized for platform Host (this does not guarantee that XLA will be used). Devices:\n",
      "2021-11-18 03:06:23.971857: I tensorflow/compiler/xla/service/service.cc:176]   StreamExecutor device (0): Host, Default Version\n",
      "2021-11-18 03:06:23.975133: I tensorflow/stream_executor/cuda/cuda_gpu_executor.cc:1046] ARM64 does not support NUMA - returning NUMA node zero\n",
      "2021-11-18 03:06:23.975305: I tensorflow/core/common_runtime/gpu/gpu_device.cc:1742] Found device 0 with properties: \n",
      "pciBusID: 0000:00:00.0 name: NVIDIA Tegra X1 computeCapability: 5.3\n",
      "coreClock: 0.9216GHz coreCount: 1 deviceMemorySize: 3.87GiB deviceMemoryBandwidth: 194.55MiB/s\n",
      "2021-11-18 03:06:23.975383: I tensorflow/stream_executor/platform/default/dso_loader.cc:49] Successfully opened dynamic library libcudart.so.10.2\n",
      "2021-11-18 03:06:24.058360: I tensorflow/stream_executor/cuda/cuda_gpu_executor.cc:1046] ARM64 does not support NUMA - returning NUMA node zero\n",
      "2021-11-18 03:06:24.058656: I tensorflow/compiler/xla/service/service.cc:168] XLA service 0x14640770 initialized for platform CUDA (this does not guarantee that XLA will be used). Devices:\n",
      "2021-11-18 03:06:24.058715: I tensorflow/compiler/xla/service/service.cc:176]   StreamExecutor device (0): NVIDIA Tegra X1, Compute Capability 5.3\n",
      "2021-11-18 03:06:24.059154: I tensorflow/stream_executor/cuda/cuda_gpu_executor.cc:1046] ARM64 does not support NUMA - returning NUMA node zero\n",
      "2021-11-18 03:06:24.059304: I tensorflow/core/common_runtime/gpu/gpu_device.cc:1742] Found device 0 with properties: \n",
      "pciBusID: 0000:00:00.0 name: NVIDIA Tegra X1 computeCapability: 5.3\n",
      "coreClock: 0.9216GHz coreCount: 1 deviceMemorySize: 3.87GiB deviceMemoryBandwidth: 194.55MiB/s\n",
      "2021-11-18 03:06:24.059392: I tensorflow/stream_executor/platform/default/dso_loader.cc:49] Successfully opened dynamic library libcudart.so.10.2\n",
      "2021-11-18 03:06:24.059471: I tensorflow/stream_executor/platform/default/dso_loader.cc:49] Successfully opened dynamic library libcublas.so.10\n",
      "2021-11-18 03:06:24.059536: I tensorflow/stream_executor/platform/default/dso_loader.cc:49] Successfully opened dynamic library libcufft.so.10\n",
      "2021-11-18 03:06:24.059612: I tensorflow/stream_executor/platform/default/dso_loader.cc:49] Successfully opened dynamic library libcurand.so.10\n",
      "2021-11-18 03:06:24.059690: I tensorflow/stream_executor/platform/default/dso_loader.cc:49] Successfully opened dynamic library libcusolver.so.10\n",
      "2021-11-18 03:06:24.059765: I tensorflow/stream_executor/platform/default/dso_loader.cc:49] Successfully opened dynamic library libcusparse.so.10\n",
      "2021-11-18 03:06:24.059843: I tensorflow/stream_executor/platform/default/dso_loader.cc:49] Successfully opened dynamic library libcudnn.so.8\n",
      "2021-11-18 03:06:24.060096: I tensorflow/stream_executor/cuda/cuda_gpu_executor.cc:1046] ARM64 does not support NUMA - returning NUMA node zero\n",
      "2021-11-18 03:06:24.060344: I tensorflow/stream_executor/cuda/cuda_gpu_executor.cc:1046] ARM64 does not support NUMA - returning NUMA node zero\n",
      "2021-11-18 03:06:24.060444: I tensorflow/core/common_runtime/gpu/gpu_device.cc:1884] Adding visible gpu devices: 0\n",
      "2021-11-18 03:06:24.060527: I tensorflow/stream_executor/platform/default/dso_loader.cc:49] Successfully opened dynamic library libcudart.so.10.2\n"
     ]
    },
    {
     "name": "stderr",
     "output_type": "stream",
     "text": [
      "2021-11-18 03:06:24.062864: I tensorflow/stream_executor/platform/default/dso_loader.cc:49] Successfully opened dynamic library libcublas.so.10\n",
      "2021-11-18 03:06:24.150079: I tensorflow/stream_executor/cuda/cuda_gpu_executor.cc:1046] ARM64 does not support NUMA - returning NUMA node zero\n",
      "2021-11-18 03:06:24.150584: I tensorflow/compiler/xla/service/service.cc:168] XLA service 0x40558350 initialized for platform CUDA (this does not guarantee that XLA will be used). Devices:\n",
      "2021-11-18 03:06:24.150644: I tensorflow/compiler/xla/service/service.cc:176]   StreamExecutor device (0): NVIDIA Tegra X1, Compute Capability 5.3\n",
      "2021-11-18 03:06:24.151034: I tensorflow/stream_executor/cuda/cuda_gpu_executor.cc:1046] ARM64 does not support NUMA - returning NUMA node zero\n",
      "2021-11-18 03:06:24.151163: I tensorflow/core/common_runtime/gpu/gpu_device.cc:1742] Found device 0 with properties: \n",
      "pciBusID: 0000:00:00.0 name: NVIDIA Tegra X1 computeCapability: 5.3\n",
      "coreClock: 0.9216GHz coreCount: 1 deviceMemorySize: 3.87GiB deviceMemoryBandwidth: 194.55MiB/s\n",
      "2021-11-18 03:06:24.151241: I tensorflow/stream_executor/platform/default/dso_loader.cc:49] Successfully opened dynamic library libcudart.so.10.2\n",
      "2021-11-18 03:06:24.151352: I tensorflow/stream_executor/platform/default/dso_loader.cc:49] Successfully opened dynamic library libcublas.so.10\n",
      "2021-11-18 03:06:24.151423: I tensorflow/stream_executor/platform/default/dso_loader.cc:49] Successfully opened dynamic library libcufft.so.10\n",
      "2021-11-18 03:06:24.151468: I tensorflow/stream_executor/platform/default/dso_loader.cc:49] Successfully opened dynamic library libcurand.so.10\n",
      "2021-11-18 03:06:24.151520: I tensorflow/stream_executor/platform/default/dso_loader.cc:49] Successfully opened dynamic library libcusolver.so.10\n",
      "2021-11-18 03:06:24.151561: I tensorflow/stream_executor/platform/default/dso_loader.cc:49] Successfully opened dynamic library libcusparse.so.10\n",
      "2021-11-18 03:06:24.151610: I tensorflow/stream_executor/platform/default/dso_loader.cc:49] Successfully opened dynamic library libcudnn.so.8\n",
      "2021-11-18 03:06:24.151766: I tensorflow/stream_executor/cuda/cuda_gpu_executor.cc:1046] ARM64 does not support NUMA - returning NUMA node zero\n",
      "2021-11-18 03:06:24.151967: I tensorflow/stream_executor/cuda/cuda_gpu_executor.cc:1046] ARM64 does not support NUMA - returning NUMA node zero\n",
      "2021-11-18 03:06:24.152050: I tensorflow/core/common_runtime/gpu/gpu_device.cc:1884] Adding visible gpu devices: 0\n",
      "2021-11-18 03:06:24.152157: I tensorflow/stream_executor/platform/default/dso_loader.cc:49] Successfully opened dynamic library libcudart.so.10.2\n",
      "2021-11-18 03:06:24.141538: I tensorflow/stream_executor/platform/default/dso_loader.cc:49] Successfully opened dynamic library libcufft.so.10\n",
      "2021-11-18 03:06:24.255371: I tensorflow/stream_executor/platform/default/dso_loader.cc:49] Successfully opened dynamic library libcurand.so.10\n",
      "2021-11-18 03:06:24.427401: I tensorflow/stream_executor/platform/default/dso_loader.cc:49] Successfully opened dynamic library libcusolver.so.10\n",
      "2021-11-18 03:06:24.522958: I tensorflow/stream_executor/platform/default/dso_loader.cc:49] Successfully opened dynamic library libcusparse.so.10\n",
      "2021-11-18 03:06:24.524902: I tensorflow/stream_executor/platform/default/dso_loader.cc:49] Successfully opened dynamic library libcudnn.so.8\n",
      "2021-11-18 03:06:24.525410: I tensorflow/stream_executor/cuda/cuda_gpu_executor.cc:1046] ARM64 does not support NUMA - returning NUMA node zero\n",
      "2021-11-18 03:06:24.526215: I tensorflow/stream_executor/cuda/cuda_gpu_executor.cc:1046] ARM64 does not support NUMA - returning NUMA node zero\n",
      "2021-11-18 03:06:24.526343: I tensorflow/core/common_runtime/gpu/gpu_device.cc:1884] Adding visible gpu devices: 0\n",
      "2021-11-18 03:06:24.561563: W tensorflow/core/platform/profile_utils/cpu_utils.cc:108] Failed to find bogomips or clock in /proc/cpuinfo; cannot determine CPU frequency\n",
      "2021-11-18 03:06:24.562473: I tensorflow/compiler/xla/service/service.cc:168] XLA service 0x3a3fafc0 initialized for platform Host (this does not guarantee that XLA will be used). Devices:\n",
      "2021-11-18 03:06:24.562560: I tensorflow/compiler/xla/service/service.cc:176]   StreamExecutor device (0): Host, Default Version\n",
      "2021-11-18 03:06:24.692859: I tensorflow/stream_executor/cuda/cuda_gpu_executor.cc:1046] ARM64 does not support NUMA - returning NUMA node zero\n",
      "2021-11-18 03:06:24.693176: I tensorflow/compiler/xla/service/service.cc:168] XLA service 0x39270350 initialized for platform CUDA (this does not guarantee that XLA will be used). Devices:\n",
      "2021-11-18 03:06:24.693238: I tensorflow/compiler/xla/service/service.cc:176]   StreamExecutor device (0): NVIDIA Tegra X1, Compute Capability 5.3\n",
      "2021-11-18 03:06:24.719444: I tensorflow/stream_executor/cuda/cuda_gpu_executor.cc:1046] ARM64 does not support NUMA - returning NUMA node zero\n",
      "2021-11-18 03:06:24.719599: I tensorflow/core/common_runtime/gpu/gpu_device.cc:1742] Found device 0 with properties: \n",
      "pciBusID: 0000:00:00.0 name: NVIDIA Tegra X1 computeCapability: 5.3\n",
      "coreClock: 0.9216GHz coreCount: 1 deviceMemorySize: 3.87GiB deviceMemoryBandwidth: 194.55MiB/s\n",
      "2021-11-18 03:06:24.719680: I tensorflow/stream_executor/platform/default/dso_loader.cc:49] Successfully opened dynamic library libcudart.so.10.2\n",
      "2021-11-18 03:06:24.719759: I tensorflow/stream_executor/platform/default/dso_loader.cc:49] Successfully opened dynamic library libcublas.so.10\n",
      "2021-11-18 03:06:24.719818: I tensorflow/stream_executor/platform/default/dso_loader.cc:49] Successfully opened dynamic library libcufft.so.10\n",
      "2021-11-18 03:06:24.719877: I tensorflow/stream_executor/platform/default/dso_loader.cc:49] Successfully opened dynamic library libcurand.so.10\n",
      "2021-11-18 03:06:24.719935: I tensorflow/stream_executor/platform/default/dso_loader.cc:49] Successfully opened dynamic library libcusolver.so.10\n",
      "2021-11-18 03:06:24.719989: I tensorflow/stream_executor/platform/default/dso_loader.cc:49] Successfully opened dynamic library libcusparse.so.10\n",
      "2021-11-18 03:06:24.720046: I tensorflow/stream_executor/platform/default/dso_loader.cc:49] Successfully opened dynamic library libcudnn.so.8\n",
      "2021-11-18 03:06:24.720241: I tensorflow/stream_executor/cuda/cuda_gpu_executor.cc:1046] ARM64 does not support NUMA - returning NUMA node zero\n",
      "2021-11-18 03:06:24.720485: I tensorflow/stream_executor/cuda/cuda_gpu_executor.cc:1046] ARM64 does not support NUMA - returning NUMA node zero\n",
      "2021-11-18 03:06:24.720586: I tensorflow/core/common_runtime/gpu/gpu_device.cc:1884] Adding visible gpu devices: 0\n",
      "2021-11-18 03:06:24.720710: I tensorflow/stream_executor/platform/default/dso_loader.cc:49] Successfully opened dynamic library libcudart.so.10.2\n",
      "2021-11-18 03:06:25.018033: I tensorflow/stream_executor/platform/default/dso_loader.cc:49] Successfully opened dynamic library libcublas.so.10\n",
      "2021-11-18 03:06:25.342689: I tensorflow/stream_executor/platform/default/dso_loader.cc:49] Successfully opened dynamic library libcublas.so.10\n",
      "2021-11-18 03:06:26.472494: I tensorflow/stream_executor/platform/default/dso_loader.cc:49] Successfully opened dynamic library libcudnn.so.8\n",
      "2021-11-18 03:06:28.212958: I tensorflow/core/common_runtime/gpu/gpu_device.cc:1283] Device interconnect StreamExecutor with strength 1 edge matrix:\n",
      "2021-11-18 03:06:28.213041: I tensorflow/core/common_runtime/gpu/gpu_device.cc:1289]      0 \n",
      "2021-11-18 03:06:28.213072: I tensorflow/core/common_runtime/gpu/gpu_device.cc:1302] 0:   N \n",
      "2021-11-18 03:06:28.213458: I tensorflow/stream_executor/cuda/cuda_gpu_executor.cc:1046] ARM64 does not support NUMA - returning NUMA node zero\n",
      "2021-11-18 03:06:28.213759: I tensorflow/stream_executor/cuda/cuda_gpu_executor.cc:1046] ARM64 does not support NUMA - returning NUMA node zero\n",
      "2021-11-18 03:06:28.213931: I tensorflow/core/common_runtime/gpu/gpu_device.cc:1428] Created TensorFlow device (/job:localhost/replica:0/task:0/device:GPU:0 with 369 MB memory) -> physical GPU (device: 0, name: NVIDIA Tegra X1, pci bus id: 0000:00:00.0, compute capability: 5.3)\n",
      "2021-11-18 03:06:28.523303: I tensorflow/stream_executor/platform/default/dso_loader.cc:49] Successfully opened dynamic library libcudnn.so.8\n",
      "2021-11-18 03:06:29.604989: I tensorflow/core/common_runtime/gpu/gpu_device.cc:1283] Device interconnect StreamExecutor with strength 1 edge matrix:\n",
      "2021-11-18 03:06:29.605075: I tensorflow/core/common_runtime/gpu/gpu_device.cc:1289]      0 \n",
      "2021-11-18 03:06:29.605104: I tensorflow/core/common_runtime/gpu/gpu_device.cc:1302] 0:   N \n"
     ]
    },
    {
     "name": "stderr",
     "output_type": "stream",
     "text": [
      "2021-11-18 03:06:29.605484: I tensorflow/stream_executor/cuda/cuda_gpu_executor.cc:1046] ARM64 does not support NUMA - returning NUMA node zero\n",
      "2021-11-18 03:06:29.605766: I tensorflow/stream_executor/cuda/cuda_gpu_executor.cc:1046] ARM64 does not support NUMA - returning NUMA node zero\n",
      "2021-11-18 03:06:29.605935: I tensorflow/core/common_runtime/gpu/gpu_device.cc:1428] Created TensorFlow device (/job:localhost/replica:0/task:0/device:GPU:0 with 306 MB memory) -> physical GPU (device: 0, name: NVIDIA Tegra X1, pci bus id: 0000:00:00.0, compute capability: 5.3)\n",
      "2021-11-18 03:06:29.685857: I tensorflow/core/common_runtime/gpu/gpu_device.cc:1283] Device interconnect StreamExecutor with strength 1 edge matrix:\n",
      "2021-11-18 03:06:29.685947: I tensorflow/core/common_runtime/gpu/gpu_device.cc:1289]      0 \n",
      "2021-11-18 03:06:29.685977: I tensorflow/core/common_runtime/gpu/gpu_device.cc:1302] 0:   N \n",
      "2021-11-18 03:06:29.686358: I tensorflow/stream_executor/cuda/cuda_gpu_executor.cc:1046] ARM64 does not support NUMA - returning NUMA node zero\n",
      "2021-11-18 03:06:29.686647: I tensorflow/stream_executor/cuda/cuda_gpu_executor.cc:1046] ARM64 does not support NUMA - returning NUMA node zero\n",
      "2021-11-18 03:06:29.686835: I tensorflow/core/common_runtime/gpu/gpu_device.cc:1428] Created TensorFlow device (/job:localhost/replica:0/task:0/device:GPU:0 with 179 MB memory) -> physical GPU (device: 0, name: NVIDIA Tegra X1, pci bus id: 0000:00:00.0, compute capability: 5.3)\n",
      "2021-11-18 03:06:30.408601: I tensorflow/core/common_runtime/gpu/gpu_device.cc:1283] Device interconnect StreamExecutor with strength 1 edge matrix:\n",
      "2021-11-18 03:06:30.408692: I tensorflow/core/common_runtime/gpu/gpu_device.cc:1289]      0 \n",
      "2021-11-18 03:06:30.408723: I tensorflow/core/common_runtime/gpu/gpu_device.cc:1302] 0:   N \n",
      "2021-11-18 03:06:30.409155: I tensorflow/stream_executor/cuda/cuda_gpu_executor.cc:1046] ARM64 does not support NUMA - returning NUMA node zero\n",
      "2021-11-18 03:06:30.409434: I tensorflow/stream_executor/cuda/cuda_gpu_executor.cc:1046] ARM64 does not support NUMA - returning NUMA node zero\n",
      "2021-11-18 03:06:30.409611: I tensorflow/core/common_runtime/gpu/gpu_device.cc:1428] Created TensorFlow device (/job:localhost/replica:0/task:0/device:GPU:0 with 779 MB memory) -> physical GPU (device: 0, name: NVIDIA Tegra X1, pci bus id: 0000:00:00.0, compute capability: 5.3)\n",
      "2021-11-18 03:06:31.516854: I tensorflow/stream_executor/platform/default/dso_loader.cc:49] Successfully opened dynamic library libcublas.so.10\n",
      "2021-11-18 03:06:32.532126: I tensorflow/stream_executor/platform/default/dso_loader.cc:49] Successfully opened dynamic library libcublas.so.10\n",
      "2021-11-18 03:06:32.700681: I tensorflow/stream_executor/platform/default/dso_loader.cc:49] Successfully opened dynamic library libcublas.so.10\n",
      "2021-11-18 03:06:33.949058: I tensorflow/stream_executor/platform/default/dso_loader.cc:49] Successfully opened dynamic library libcudnn.so.8\n",
      "2021-11-18 03:06:34.246106: I tensorflow/stream_executor/platform/default/dso_loader.cc:49] Successfully opened dynamic library libcublas.so.10\n",
      "2021-11-18 03:06:35.069493: I tensorflow/stream_executor/platform/default/dso_loader.cc:49] Successfully opened dynamic library libcudnn.so.8\n",
      "2021-11-18 03:06:35.353469: I tensorflow/stream_executor/platform/default/dso_loader.cc:49] Successfully opened dynamic library libcudnn.so.8\n",
      "2021-11-18 03:06:36.855690: I tensorflow/stream_executor/platform/default/dso_loader.cc:49] Successfully opened dynamic library libcudnn.so.8\n"
     ]
    }
   ],
   "source": [
    "jetson.start_fed(experiment=EXPERIMENT, \n",
    "                 max_round=MAX_ROUND,\n",
    "                 num_samples=NUM_SAMPLES,\n",
    "                 num_clients=CLIENT_NUM)"
   ]
  },
  {
   "cell_type": "code",
   "execution_count": null,
   "metadata": {},
   "outputs": [],
   "source": []
  }
 ],
 "metadata": {
  "kernelspec": {
   "display_name": "Python 3",
   "language": "python",
   "name": "python3"
  },
  "language_info": {
   "codemirror_mode": {
    "name": "ipython",
    "version": 3
   },
   "file_extension": ".py",
   "mimetype": "text/x-python",
   "name": "python",
   "nbconvert_exporter": "python",
   "pygments_lexer": "ipython3",
   "version": "3.8.10"
  }
 },
 "nbformat": 4,
 "nbformat_minor": 4
}
