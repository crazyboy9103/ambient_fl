{
 "cells": [
  {
   "cell_type": "code",
   "execution_count": 1,
   "metadata": {},
   "outputs": [
    {
     "name": "stdout",
     "output_type": "stream",
     "text": [
      "Overwriting jetson_global_exec.py\n"
     ]
    }
   ],
   "source": [
    "%%writefile jetson_global_exec.py\n",
    "import paramiko\n",
    "import sys\n",
    "import argparse\n",
    "parser = argparse.ArgumentParser()\n",
    "parser.add_argument(\"--command\", type=str, default=\"ls\", help=\"linux command to execute globally\")\n",
    "parser.add_argument(\"--min\", type=str, default=\"20101\")\n",
    "parser.add_argument(\"--max\", type=str, default=\"20136\")\n",
    "args = parser.parse_args()\n",
    "JETSON_IP = \"147.47.200.209\"\n",
    "MIN_PORT = args.min\n",
    "MAX_PORT = args.max\n",
    "USERNAME = \"jetson\"\n",
    "PASSWORD = \"jetson\"\n",
    "COMMAND = args.command\n",
    "\n",
    "class GlobalExecute:\n",
    "    def __init__(self):\n",
    "        self.cli = paramiko.SSHClient()\n",
    "        self.cli.set_missing_host_key_policy(paramiko.MissingHostKeyPolicy())\n",
    "        \n",
    "        self.clients = {}\n",
    "        self.ping()\n",
    "\n",
    "    def ping(self):\n",
    "        self.available = []\n",
    "        for port in range(int(MIN_PORT), int(MAX_PORT)+1):\n",
    "            if port % 10 > 6 or port % 10 == 0:\n",
    "                continue\n",
    "\n",
    "            try:\n",
    "                self.available.append(port)\n",
    "\n",
    "                cli = paramiko.SSHClient()\n",
    "                cli.set_missing_host_key_policy(paramiko.MissingHostKeyPolicy())\n",
    "                cli.connect(JETSON_IP, port=port, username=USERNAME, password=PASSWORD)\n",
    "\n",
    "                stdin, stdout, stderr = cli.exec_command(\"ls\")\n",
    "                lines = stdout.readlines()\n",
    "            \n",
    "                if lines:\n",
    "                    self.clients[port] = cli\n",
    "                    print(f\"{port} is working: ls {lines}\")\n",
    "\n",
    "                \n",
    "            except Exception as e:\n",
    "                print(f\"{port} {e}\")\n",
    "                continue\n",
    "    \n",
    "        temp = [i for i in range(int(MIN_PORT), int(MAX_PORT)+1)]\n",
    "        result = []\n",
    "\n",
    "        for port in temp:\n",
    "            if port % 10 <= 6 and port % 10 > 0:\n",
    "                result.append(port)\n",
    "\n",
    "        print(\"NOT CONNECTED PORTS : \", list(set(result)-set(self.available)))\n",
    "\n",
    "    def global_exec(self, command):\n",
    "        # command : linux command to execute \n",
    "        print(f\"Executes '{command}'\")\n",
    "        for port in self.available:\n",
    "            try:\n",
    "                cli = self.clients[port]\n",
    "                stdin, stdout, stderr = cli.exec_command(f\"{command}\")\n",
    "            \n",
    "                if stdout:\n",
    "                    stdout = stdout.readlines()\n",
    "                if stderr:\n",
    "                    stderr = stderr.readlines()\n",
    "            \n",
    "                print(f\"Port {port} OUTPUT {stdout}\")\n",
    "                \n",
    "                if stderr:\n",
    "                    print(f\"Port {port} ERROR {stderr}\")\n",
    "            \n",
    "\n",
    "            except Exception as e:\n",
    "                print(f\"Port {port} error {e}\")\n",
    "                continue\n",
    "\n",
    "\n",
    "    \n",
    "if __name__ == \"__main__\":\n",
    "    cl = GlobalExecute()\n",
    "    cl.global_exec(COMMAND)\n",
    "    \n",
    "    res = \"y\"\n",
    "    while res == \"y\":\n",
    "        res = input(\"More commands? (y/n)\\n\")\n",
    "        if res == \"y\":\n",
    "            new_command = input(\"new command:\\n\")\n",
    "            new_command.strip(\"\\n\")\n",
    "            cl.global_exec(str(new_command))\n",
    "        \n",
    "        else:\n",
    "            for k, v in cl.clients.items():\n",
    "                v.close()\n",
    "            sys.exit()"
   ]
  },
  {
   "cell_type": "code",
   "execution_count": 3,
   "metadata": {
    "scrolled": true
   },
   "outputs": [
    {
     "name": "stdout",
     "output_type": "stream",
     "text": [
      "^C\n"
     ]
    }
   ],
   "source": [
    "!python jetson_global_exec.py --command \"ls\""
   ]
  },
  {
   "cell_type": "code",
   "execution_count": 18,
   "metadata": {},
   "outputs": [],
   "source": [
    "import paramiko\n",
    "from scp import SCPClient\n",
    "\n",
    "file_path = \"./ambient_fl.zip\"\n",
    "def createSSHClient(server, port, user, password):\n",
    "    client = paramiko.SSHClient()\n",
    "    client.load_system_host_keys()\n",
    "    client.set_missing_host_key_policy(paramiko.AutoAddPolicy())\n",
    "    client.connect(server, port, user, password)\n",
    "    return client\n",
    "\n",
    "MIN_PORT = 20136\n",
    "MAX_PORT = 20101\n",
    "for port in range(int(MIN_PORT), int(MAX_PORT)+1):\n",
    "    if port % 10 > 6 or port % 10 == 0:\n",
    "        continue\n",
    "\n",
    "    try:\n",
    "        ssh = createSSHClient(\"147.47.200.209\", port, \"jetson\", \"jetson\")\n",
    "        scp_cl = SCPClient(ssh.get_transport())\n",
    "        scp_cl.put(file_path, recursive=True)\n",
    "\n",
    "\n",
    "    except Exception as e:\n",
    "        print(f\"{port} {e}\")\n",
    "        continue\n",
    "        "
   ]
  },
  {
   "cell_type": "code",
   "execution_count": 2,
   "metadata": {},
   "outputs": [
    {
     "name": "stdout",
     "output_type": "stream",
     "text": [
      " C 드라이브의 볼륨에는 이름이 없습니다.\n",
      " 볼륨 일련 번호: 8E3D-25A1\n",
      "\n",
      " C:\\Users\\david\\Desktop\\앰비언트\\Practice # - FL\\ambient_fl 디렉터리\n",
      "\n",
      "2021-09-12  오후 05:10    <DIR>          .\n",
      "2021-09-12  오후 05:10    <DIR>          ..\n",
      "2021-09-12  오후 04:57    <DIR>          .ipynb_checkpoints\n",
      "2021-09-12  오후 04:57    <DIR>          FL_Client\n",
      "2021-09-12  오후 04:57    <DIR>          FL_Server\n",
      "2021-09-12  오후 05:10             6,170 Guide.ipynb\n",
      "2021-09-12  오후 04:58             3,054 jetson_global_exec.py\n",
      "2021-09-12  오후 04:57                 0 README.md\n",
      "2021-09-12  오후 04:57               375 requirements.txt\n",
      "               4개 파일               9,599 바이트\n",
      "               5개 디렉터리  424,961,101,824 바이트 남음\n"
     ]
    }
   ],
   "source": [
    "ls"
   ]
  },
  {
   "cell_type": "code",
   "execution_count": null,
   "metadata": {},
   "outputs": [],
   "source": []
  }
 ],
 "metadata": {
  "kernelspec": {
   "display_name": "Python 3 (ipykernel)",
   "language": "python",
   "name": "python3"
  },
  "language_info": {
   "codemirror_mode": {
    "name": "ipython",
    "version": 3
   },
   "file_extension": ".py",
   "mimetype": "text/x-python",
   "name": "python",
   "nbconvert_exporter": "python",
   "pygments_lexer": "ipython3",
   "version": "3.9.6"
  }
 },
 "nbformat": 4,
 "nbformat_minor": 4
}
