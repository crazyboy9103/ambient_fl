{
 "cells": [
  {
   "cell_type": "code",
   "execution_count": 2,
   "metadata": {},
   "outputs": [
    {
     "name": "stdout",
     "output_type": "stream",
     "text": [
      "Overwriting jetson_download_git.py\n"
     ]
    }
   ],
   "source": [
    "%%writefile jetson_download_git.py\n",
    "import paramiko\n",
    "import sys\n",
    "import argparse\n",
    "parser = argparse.ArgumentParser()\n",
    "parser.add_argument(\"--command\", type=str, default=\"ls\", help=\"linux command to execute globally\")\n",
    "parser.add_argument(\"--min\", type=str, default=\"20101\")\n",
    "parser.add_argument(\"--max\", type=str, default=\"20136\")\n",
    "args = parser.parse_args()\n",
    "JETSON_IP = \"147.47.200.209\"\n",
    "MIN_PORT = args.min\n",
    "MAX_PORT = args.max\n",
    "USERNAME = \"jetson\"\n",
    "PASSWORD = \"jetson\"\n",
    "\n",
    "\n",
    "COMMAND = args.command\n",
    "\n",
    "\n",
    "   \n",
    "\n",
    "available = []\n",
    "\n",
    "\n",
    "class GlobalExecute:\n",
    "    def __init__(self):\n",
    "        self.cli = paramiko.SSHClient()\n",
    "        self.cli.set_missing_host_key_policy(paramiko.MissingHostKeyPolicy())\n",
    "        \n",
    "        self.clients = {}\n",
    "        self.ping()\n",
    "\n",
    "        pass\n",
    "\n",
    "    def ping(self):\n",
    "        self.available = []\n",
    "        for port in range(int(MIN_PORT), int(MAX_PORT)+1):\n",
    "            if port % 10 > 6 or port % 10 == 0:\n",
    "                continue\n",
    "\n",
    "            try:\n",
    "                self.available.append(port)\n",
    "\n",
    "                cli = paramiko.SSHClient()\n",
    "                cli.set_missing_host_key_policy(paramiko.MissingHostKeyPolicy())\n",
    "                cli.connect(JETSON_IP, port=port, username=USERNAME, password=PASSWORD)\n",
    "\n",
    "                stdin, stdout, stderr = cli.exec_command(\"ls\")\n",
    "                lines = stdout.readlines()\n",
    "            \n",
    "                if lines:\n",
    "                    self.clients[port] = cli\n",
    "                    print(f\"{port} is working: ls {lines}\")\n",
    "\n",
    "                \n",
    "            except Exception as e:\n",
    "                print(f\"{port} {e}\")\n",
    "                continue\n",
    "    \n",
    "        temp = [i for i in range(int(MIN_PORT), int(MAX_PORT)+1)]\n",
    "        result = []\n",
    "\n",
    "        for port in temp:\n",
    "            if port % 10 <= 6 and port % 10 > 0:\n",
    "                result.append(port)\n",
    "\n",
    "        print(\"NOT CONNECTED PORTS : \", list(set(result)-set(self.available)))\n",
    "\n",
    "    def global_exec(self, command):\n",
    "        # command : linux command to execute \n",
    "        print(f\"Executes '{command}'\")\n",
    "        for port in self.available:\n",
    "            try:\n",
    "                cli = self.clients[port]\n",
    "                stdin, stdout, stderr = cli.exec_command(f\"{command}\")\n",
    "            \n",
    "                if stdout:\n",
    "                    stdout = stdout.readlines()\n",
    "                if stderr:\n",
    "                    stderr = stderr.readlines()\n",
    "            \n",
    "                print(f\"Port {port} OUTPUT {stdout}\")\n",
    "                \n",
    "                if stderr:\n",
    "                    print(f\"Port {port} ERROR {stderr}\")\n",
    "            \n",
    "\n",
    "            except Exception as e:\n",
    "                print(f\"Port {port} error {e}\")\n",
    "                continue\n",
    "\n",
    "\n",
    "    \n",
    "if __name__ == \"__main__\":\n",
    "    cl = GlobalExecute()\n",
    "    cl.global_exec(COMMAND)\n",
    "    \n",
    "    res = \"y\"\n",
    "    while res == \"y\":\n",
    "        res = input(\"More commands? (y/n)\\n\")\n",
    "        if res == \"y\":\n",
    "            new_command = input(\"new command:\\n\")\n",
    "            new_command.strip(\"\\n\")\n",
    "            cl.global_exec(str(new_command))\n",
    "        \n",
    "        else:\n",
    "            for k, v in cl.clients.items():\n",
    "                v.close()\n",
    "            sys.exit()"
   ]
  },
  {
   "cell_type": "code",
   "execution_count": 4,
   "metadata": {},
   "outputs": [
    {
     "name": "stderr",
     "output_type": "stream",
     "text": [
      "Python was not found but can be installed from the Microsoft Store: https://go.microsoft.com/fwlink?linkID=2082640\n"
     ]
    }
   ],
   "source": [
    "!python jetson_download_git.py --command \"ls\""
   ]
  },
  {
   "cell_type": "code",
   "execution_count": null,
   "metadata": {},
   "outputs": [],
   "source": []
  }
 ],
 "metadata": {
  "kernelspec": {
   "display_name": "Python 3",
   "language": "python",
   "name": "python3"
  },
  "language_info": {
   "codemirror_mode": {
    "name": "ipython",
    "version": 3
   },
   "file_extension": ".py",
   "mimetype": "text/x-python",
   "name": "python",
   "nbconvert_exporter": "python",
   "pygments_lexer": "ipython3",
   "version": "3.8.2"
  }
 },
 "nbformat": 4,
 "nbformat_minor": 4
}
