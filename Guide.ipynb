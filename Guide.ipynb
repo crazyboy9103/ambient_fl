{
 "cells": [
  {
   "cell_type": "code",
   "execution_count": 1,
   "metadata": {},
   "outputs": [
    {
     "name": "stdout",
     "output_type": "stream",
     "text": [
      "Overwriting jetson_global_exec.py\n"
     ]
    }
   ],
   "source": [
    "%%writefile jetson_global_exec.py\n",
    "import paramiko\n",
    "import sys\n",
    "import argparse\n",
    "parser = argparse.ArgumentParser()\n",
    "parser.add_argument(\"--command\", type=str, default=\"ls\", help=\"linux command to execute globally\")\n",
    "parser.add_argument(\"--min\", type=str, default=\"20101\")\n",
    "parser.add_argument(\"--max\", type=str, default=\"20136\")\n",
    "args = parser.parse_args()\n",
    "JETSON_IP = \"147.47.200.209\"\n",
    "MIN_PORT = args.min\n",
    "MAX_PORT = args.max\n",
    "USERNAME = \"jetson\"\n",
    "PASSWORD = \"jetson\"\n",
    "COMMAND = args.command\n",
    "\n",
    "class GlobalExecute:\n",
    "    def __init__(self):\n",
    "        self.cli = paramiko.SSHClient()\n",
    "        self.cli.set_missing_host_key_policy(paramiko.MissingHostKeyPolicy())\n",
    "        \n",
    "        self.clients = {}\n",
    "        self.ping()\n",
    "\n",
    "    def ping(self):\n",
    "        self.available = []\n",
    "        for port in range(int(MIN_PORT), int(MAX_PORT)+1):\n",
    "            if port % 10 > 6 or port % 10 == 0:\n",
    "                continue\n",
    "\n",
    "            try:\n",
    "                self.available.append(port)\n",
    "\n",
    "                cli = paramiko.SSHClient()\n",
    "                cli.set_missing_host_key_policy(paramiko.MissingHostKeyPolicy())\n",
    "                cli.connect(JETSON_IP, port=port, username=USERNAME, password=PASSWORD)\n",
    "\n",
    "                stdin, stdout, stderr = cli.exec_command(\"ls\")\n",
    "                lines = stdout.readlines()\n",
    "            \n",
    "                if lines:\n",
    "                    self.clients[port] = cli\n",
    "                    print(f\"{port} is working: ls {lines}\")\n",
    "\n",
    "                \n",
    "            except Exception as e:\n",
    "                print(f\"{port} {e}\")\n",
    "                continue\n",
    "    \n",
    "        temp = [i for i in range(int(MIN_PORT), int(MAX_PORT)+1)]\n",
    "        result = []\n",
    "\n",
    "        for port in temp:\n",
    "            if port % 10 <= 6 and port % 10 > 0:\n",
    "                result.append(port)\n",
    "\n",
    "        print(\"NOT CONNECTED PORTS : \", list(set(result)-set(self.available)))\n",
    "\n",
    "    def global_exec(self, command):\n",
    "        # command : linux command to execute \n",
    "        print(f\"Executes '{command}'\")\n",
    "        for port in self.available:\n",
    "            try:\n",
    "                cli = self.clients[port]\n",
    "                stdin, stdout, stderr = cli.exec_command(f\"{command}\")\n",
    "            \n",
    "                if stdout:\n",
    "                    stdout = stdout.readlines()\n",
    "                if stderr:\n",
    "                    stderr = stderr.readlines()\n",
    "            \n",
    "                print(f\"Port {port} OUTPUT {stdout}\")\n",
    "                \n",
    "                if stderr:\n",
    "                    print(f\"Port {port} ERROR {stderr}\")\n",
    "            \n",
    "\n",
    "            except Exception as e:\n",
    "                print(f\"Port {port} error {e}\")\n",
    "                continue\n",
    "\n",
    "\n",
    "    \n",
    "if __name__ == \"__main__\":\n",
    "    cl = GlobalExecute()\n",
    "    cl.global_exec(COMMAND)\n",
    "    \n",
    "    res = \"y\"\n",
    "    while res == \"y\":\n",
    "        res = input(\"More commands? (y/n)\\n\")\n",
    "        if res == \"y\":\n",
    "            new_command = input(\"new command:\\n\")\n",
    "            new_command.strip(\"\\n\")\n",
    "            cl.global_exec(str(new_command))\n",
    "        \n",
    "        else:\n",
    "            for k, v in cl.clients.items():\n",
    "                v.close()\n",
    "            sys.exit()"
   ]
  },
  {
   "cell_type": "code",
   "execution_count": 14,
   "metadata": {},
   "outputs": [
    {
     "data": {
      "text/plain": [
       "'C:\\\\Users\\\\david\\\\Desktop\\\\앰비언트\\\\Practice # - FL\\\\ambient_fl'"
      ]
     },
     "execution_count": 14,
     "metadata": {},
     "output_type": "execute_result"
    }
   ],
   "source": [
    "import os \n",
    "os.getcwd()"
   ]
  },
  {
   "cell_type": "code",
   "execution_count": 11,
   "metadata": {
    "scrolled": true
   },
   "outputs": [
    {
     "name": "stderr",
     "output_type": "stream",
     "text": [
      "Python\n"
     ]
    }
   ],
   "source": [
    "!python jetson_global_exec.py --command \"ls\""
   ]
  },
  {
   "cell_type": "code",
   "execution_count": 12,
   "metadata": {},
   "outputs": [
    {
     "name": "stdout",
     "output_type": "stream",
     "text": [
      "20101 done\n",
      "20102 done\n",
      "20103 done\n",
      "20104 done\n",
      "20105 done\n",
      "20106 done\n",
      "20111 done\n",
      "20112 done\n",
      "20113 done\n",
      "20114 done\n",
      "20115 done\n",
      "20116 done\n",
      "20121 done\n",
      "20122 done\n",
      "20123 done\n",
      "20124 done\n",
      "20125 done\n",
      "20126 done\n",
      "20131 done\n",
      "20132 done\n",
      "20133 done\n",
      "20134 done\n",
      "20135 done\n",
      "20136 done\n"
     ]
    }
   ],
   "source": [
    "import paramiko\n",
    "from scp import SCPClient\n",
    "\n",
    "file_path = \"../../../ambient_fl.zip\"\n",
    "\n",
    "def createSSHClient(server, port, user, password):\n",
    "    client = paramiko.SSHClient()\n",
    "    client.load_system_host_keys()\n",
    "    client.set_missing_host_key_policy(paramiko.AutoAddPolicy())\n",
    "    client.connect(server, port, user, password)\n",
    "    return client\n",
    "\n",
    "MAX_PORT= 20136\n",
    "MIN_PORT = 20101\n",
    "\n",
    "for port in range(int(MIN_PORT), int(MAX_PORT)+1):\n",
    "    if port % 10 > 6 or port % 10 == 0:\n",
    "        continue\n",
    "    \n",
    "    try:\n",
    "        ssh = createSSHClient(\"147.47.200.209\", str(port), \"jetson\", \"jetson\")\n",
    "        scp = SCPClient(ssh.get_transport())\n",
    "        scp.put(file_path, \".\")\n",
    "        print(f\"{port} done\")\n",
    "    \n",
    "    except Exception as e:\n",
    "        print(e)\n",
    "        continue\n",
    "\n"
   ]
  },
  {
   "cell_type": "code",
   "execution_count": 24,
   "metadata": {},
   "outputs": [
    {
     "name": "stderr",
     "output_type": "stream",
     "text": [
      "warning: LF will be replaced by CRLF in Guide.ipynb.\n",
      "The file will have its original line endings in your working directory\n"
     ]
    }
   ],
   "source": [
    "!git add Guide.ipynb jetson_global_exec.py"
   ]
  },
  {
   "cell_type": "code",
   "execution_count": 6,
   "metadata": {},
   "outputs": [
    {
     "name": "stdout",
     "output_type": "stream",
     "text": [
      "[master b9b59db] distribute\n",
      " 1 file changed, 78 insertions(+), 19 deletions(-)\n"
     ]
    }
   ],
   "source": [
    "!git commit -m \"distribute\""
   ]
  },
  {
   "cell_type": "code",
   "execution_count": 7,
   "metadata": {},
   "outputs": [
    {
     "name": "stderr",
     "output_type": "stream",
     "text": [
      "To https://github.com/crazyboy9103/ambient_fl\n",
      "   192ba5d..b9b59db  master -> master\n"
     ]
    }
   ],
   "source": [
    "!git push origin master"
   ]
  },
  {
   "cell_type": "code",
   "execution_count": null,
   "metadata": {},
   "outputs": [],
   "source": [
    "!python3 ./ambient_fl/FL_Client/jetson_client.py --ip \"147.47.200.209\" --p 9103 --max 5 --delay 5 --num 5"
   ]
  }
 ],
 "metadata": {
  "kernelspec": {
   "display_name": "Python 3 (ipykernel)",
   "language": "python",
   "name": "python3"
  },
  "language_info": {
   "codemirror_mode": {
    "name": "ipython",
    "version": 3
   },
   "file_extension": ".py",
   "mimetype": "text/x-python",
   "name": "python",
   "nbconvert_exporter": "python",
   "pygments_lexer": "ipython3",
   "version": "3.9.6"
  }
 },
 "nbformat": 4,
 "nbformat_minor": 4
}
