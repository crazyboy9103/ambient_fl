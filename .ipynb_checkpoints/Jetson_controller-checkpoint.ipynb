{
 "cells": [
  {
   "cell_type": "code",
   "execution_count": 17,
   "metadata": {},
   "outputs": [],
   "source": [
    "import paramiko\n",
    "import time\n",
    "import threading\n",
    "import argparse\n",
    "\n",
    "min_port = 20101\n",
    "max_port = 20103\n",
    "client = 3\n",
    "experiment = 1 \n",
    "\n",
    "class JetsonSSHClient:\n",
    "  def __init__(self, port):\n",
    "    self.port = port\n",
    "    self.cli = paramiko.SSHClient()\n",
    "    self.cli.set_missing_host_key_policy(paramiko.AutoAddPolicy)\n",
    "    self.cli.connect(\"147.47.200.209\", port=port, username=\"jetson\", password=\"jetson\")\n",
    "    self.channel = self.cli.invoke_shell()\n",
    "    \n",
    "  def execute(self, command = \"ls -al\"):\n",
    "    command = command +\"\\n\"\n",
    "    self.channel.send(command)\n",
    "    # 결과 수신\n",
    "    \n",
    "    time.sleep(3)\n",
    "    output = self.channel.recv(65535).decode(\"utf-8\")\n",
    "\n",
    "    if self.port == 20101:\n",
    "      print(output.strip(command))\n",
    "    #print(output.split(\"jetson@jetson-desktop:~$\")[0])\n",
    "    #print(output.split(\"jetson@jetson-desktop:~$\")[1])\n",
    "\n",
    "  def close(self):\n",
    "    self.cli.close()\n",
    "\n",
    "class JetsonController:\n",
    "  def __init__(self, min_port = 20101, max_port = 20101):\n",
    "    self.clients = {}\n",
    "    self.threads = {}\n",
    "    for port in range(min_port, max_port + 1):\n",
    "      self.clients[port] = JetsonSSHClient(port)\n",
    "      self.threads[port] = None\n",
    "\n",
    "  def global_execute(self, command = \"ls -al\"):\n",
    "    for port, client in self.clients.items():\n",
    "      thread = threading.Thread(target = client.execute, args=(command,))\n",
    "      self.threads[port] = thread\n",
    "      thread.start()\n",
    "\n",
    "  def check_status(self):\n",
    "    for thread in self.threads.values():\n",
    "      if thread.is_alive() == True:\n",
    "        return False\n",
    "    return True"
   ]
  },
  {
   "cell_type": "code",
   "execution_count": 18,
   "metadata": {},
   "outputs": [],
   "source": [
    "import requests\n",
    "import json\n",
    "client_num_in_json = json.dumps(client)\n",
    "res = requests.put(\"http://147.47.200.178:9103/client_num/\", data=client_num_in_json)\n",
    "exp_in_json = json.dumps(experiment)\n",
    "res = requests.put(\"http://147.47.200.178:9103/experiment/\", data=exp_in_json)"
   ]
  },
  {
   "cell_type": "code",
   "execution_count": 19,
   "metadata": {},
   "outputs": [
    {
     "name": "stdout",
     "output_type": "stream",
     "text": [
      "ls\n",
      "ID 5 task\n",
      "ID 5 task\n",
      "ID 5 task\n",
      "ID 5 task\n",
      "ID 5 task\n",
      "ID 5 task\n",
      "ls\n",
      "ID 5 task\n",
      "docker start fl && docker attach fl\n",
      "\n",
      "ID 5 task\n"
     ]
    },
    {
     "ename": "KeyboardInterrupt",
     "evalue": "Interrupted by user",
     "output_type": "error",
     "traceback": [
      "\u001b[0;31m---------------------------------------------------------------------------\u001b[0m",
      "\u001b[0;31mKeyboardInterrupt\u001b[0m                         Traceback (most recent call last)",
      "\u001b[0;32m<ipython-input-19-07c090feb78d>\u001b[0m in \u001b[0;36m<module>\u001b[0;34m\u001b[0m\n\u001b[1;32m      1\u001b[0m \u001b[0;32mwhile\u001b[0m \u001b[0;32mTrue\u001b[0m\u001b[0;34m:\u001b[0m\u001b[0;34m\u001b[0m\u001b[0;34m\u001b[0m\u001b[0m\n\u001b[0;32m----> 2\u001b[0;31m     \u001b[0mcommand\u001b[0m \u001b[0;34m=\u001b[0m \u001b[0minput\u001b[0m\u001b[0;34m(\u001b[0m\u001b[0;34m)\u001b[0m\u001b[0;34m\u001b[0m\u001b[0;34m\u001b[0m\u001b[0m\n\u001b[0m\u001b[1;32m      3\u001b[0m     \u001b[0mjetsonController\u001b[0m\u001b[0;34m.\u001b[0m\u001b[0mglobal_execute\u001b[0m\u001b[0;34m(\u001b[0m\u001b[0mstr\u001b[0m\u001b[0;34m(\u001b[0m\u001b[0mcommand\u001b[0m\u001b[0;34m)\u001b[0m\u001b[0;34m)\u001b[0m\u001b[0;34m\u001b[0m\u001b[0;34m\u001b[0m\u001b[0m\n",
      "\u001b[0;32m/usr/lib/python3/dist-packages/ipykernel/kernelbase.py\u001b[0m in \u001b[0;36mraw_input\u001b[0;34m(self, prompt)\u001b[0m\n\u001b[1;32m    858\u001b[0m                 \u001b[0;34m\"raw_input was called, but this frontend does not support input requests.\"\u001b[0m\u001b[0;34m\u001b[0m\u001b[0;34m\u001b[0m\u001b[0m\n\u001b[1;32m    859\u001b[0m             )\n\u001b[0;32m--> 860\u001b[0;31m         return self._input_request(str(prompt),\n\u001b[0m\u001b[1;32m    861\u001b[0m             \u001b[0mself\u001b[0m\u001b[0;34m.\u001b[0m\u001b[0m_parent_ident\u001b[0m\u001b[0;34m,\u001b[0m\u001b[0;34m\u001b[0m\u001b[0;34m\u001b[0m\u001b[0m\n\u001b[1;32m    862\u001b[0m             \u001b[0mself\u001b[0m\u001b[0;34m.\u001b[0m\u001b[0m_parent_header\u001b[0m\u001b[0;34m,\u001b[0m\u001b[0;34m\u001b[0m\u001b[0;34m\u001b[0m\u001b[0m\n",
      "\u001b[0;32m/usr/lib/python3/dist-packages/ipykernel/kernelbase.py\u001b[0m in \u001b[0;36m_input_request\u001b[0;34m(self, prompt, ident, parent, password)\u001b[0m\n\u001b[1;32m    891\u001b[0m             \u001b[0;32mexcept\u001b[0m \u001b[0mKeyboardInterrupt\u001b[0m\u001b[0;34m:\u001b[0m\u001b[0;34m\u001b[0m\u001b[0;34m\u001b[0m\u001b[0m\n\u001b[1;32m    892\u001b[0m                 \u001b[0;31m# re-raise KeyboardInterrupt, to truncate traceback\u001b[0m\u001b[0;34m\u001b[0m\u001b[0;34m\u001b[0m\u001b[0;34m\u001b[0m\u001b[0m\n\u001b[0;32m--> 893\u001b[0;31m                 \u001b[0;32mraise\u001b[0m \u001b[0mKeyboardInterrupt\u001b[0m\u001b[0;34m(\u001b[0m\u001b[0;34m\"Interrupted by user\"\u001b[0m\u001b[0;34m)\u001b[0m \u001b[0;32mfrom\u001b[0m \u001b[0;32mNone\u001b[0m\u001b[0;34m\u001b[0m\u001b[0;34m\u001b[0m\u001b[0m\n\u001b[0m\u001b[1;32m    894\u001b[0m             \u001b[0;32melse\u001b[0m\u001b[0;34m:\u001b[0m\u001b[0;34m\u001b[0m\u001b[0;34m\u001b[0m\u001b[0m\n\u001b[1;32m    895\u001b[0m                 \u001b[0;32mbreak\u001b[0m\u001b[0;34m\u001b[0m\u001b[0;34m\u001b[0m\u001b[0m\n",
      "\u001b[0;31mKeyboardInterrupt\u001b[0m: Interrupted by user"
     ]
    }
   ],
   "source": [
    "while True:\n",
    "    command = input()\n",
    "    jetsonController.global_execute(str(command))"
   ]
  },
  {
   "cell_type": "code",
   "execution_count": 12,
   "metadata": {
    "scrolled": true
   },
   "outputs": [
    {
     "name": "stdout",
     "output_type": "stream",
     "text": [
      "Welcome to Ubuntu 18.04.5 LTS (GNU/Linux 4.9.201-tegra aarch64)\r\n",
      "\r\n",
      " * Documentation:  https://help.ubuntu.com\r\n",
      " * Management:     https://landscape.canonical.com\r\n",
      " * Support:        https://ubuntu.com/advantage\r\n",
      "This system has been minimized by removing packages and content that are\r\n",
      "not required on a system that users do not log into.\r\n",
      "\r\n",
      "To restore this content, you can run the 'unminimize' command.\r\n",
      "\r\n",
      "69 updates can be applied immediately.\r\n",
      "34 of these updates are standard security updates.\r\n",
      "To see these additional updates run: apt list --upgradable\r\n",
      "\r\n",
      "Last login: Thu Sep 23 19:09:04 2021 from 147.47.200.178\r",
      "\r\n",
      "jetson@jetson-desktop:~$ docker start fl && docker attach fl && cd /ambient_fl/FL\r",
      "L_Client/ && python3 jetson_client.py --ip 147.47.200.178 --p 9103\r\n"
     ]
    }
   ],
   "source": [
    "jetsonController = JetsonController(min_port=min_port, max_port=max_port)\n",
    "command = \"docker start fl && docker attach fl && cd /ambient_fl/FL_Client/ && python3 jetson_client.py --ip 147.47.200.178 --p 9103\"\n",
    "jetsonController.global_execute(command)"
   ]
  },
  {
   "cell_type": "code",
   "execution_count": null,
   "metadata": {},
   "outputs": [],
   "source": [
    "accuracies = requests.get(\"http://147.47.200.178:9103/accuracy\")\n",
    "accuracies = accuracies.json()"
   ]
  },
  {
   "cell_type": "code",
   "execution_count": null,
   "metadata": {},
   "outputs": [],
   "source": [
    "%matplotlib inline\n",
    "import numpy as np\n",
    "import matplotlib.pyplot as plt"
   ]
  },
  {
   "cell_type": "code",
   "execution_count": null,
   "metadata": {},
   "outputs": [],
   "source": [
    "rounds = max(accuracies[0].keys())\n",
    "ids = max(accuracies.keys())\n",
    "result = np.zeros((ids, rounds))\n",
    "\n",
    "for round_ in rounds:\n",
    "    for cur_id in range(ids):\n",
    "        result[cur_id, round_] = accuracies[round_][cur_id]\n",
    "        \n",
    "def get_result(id, round):\n",
    "    return result[id, round]\n",
    "\n",
    "def plot_accuracy():\n",
    "    rounds = list(range(len(result[0])))\n",
    "    rounds = rounds.astype(\"int8\")\n",
    "    for fed_id in range(len(result)):\n",
    "        accs = result[fed_id, :]\n",
    "        plt.plot(rounds, accs, label=f\"{fed_id}\")\n",
    "        plt.xticks(range(len(result[0]+1)))\n",
    "    plt.title(\"Accuracies of the clients (%)\")\n",
    "    plt.xlabel(\"rounds\")\n",
    "    plt.ylabel(\"accuracy (%)\")\n",
    "    plt.legend()\n",
    "    plt.show() \n",
    "    \n",
    "plot_accuracy()"
   ]
  }
 ],
 "metadata": {
  "kernelspec": {
   "display_name": "Python 3",
   "language": "python",
   "name": "python3"
  },
  "language_info": {
   "codemirror_mode": {
    "name": "ipython",
    "version": 3
   },
   "file_extension": ".py",
   "mimetype": "text/x-python",
   "name": "python",
   "nbconvert_exporter": "python",
   "pygments_lexer": "ipython3",
   "version": "3.8.10"
  }
 },
 "nbformat": 4,
 "nbformat_minor": 4
}
