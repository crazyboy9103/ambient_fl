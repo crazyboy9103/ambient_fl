{
 "cells": [
  {
   "cell_type": "markdown",
   "metadata": {},
   "source": [
    "# 라이브러리 설치"
   ]
  },
  {
   "cell_type": "code",
   "execution_count": 3,
   "metadata": {
    "scrolled": true
   },
   "outputs": [
    {
     "name": "stdout",
     "output_type": "stream",
     "text": []
    }
   ],
   "source": [
    "!pip install -r requirements.txt"
   ]
  },
  {
   "cell_type": "markdown",
   "metadata": {},
   "source": [
    "# 통신을 위한 클래스\n",
    "* Jetson들과 통신하기 위한 ```JetsonSSHClient```\n",
    "* Jetson들을 한번에 컨트롤하고 커맨드를 보내기 위한 ```JetsonController``` "
   ]
  },
  {
   "cell_type": "code",
   "execution_count": 1,
   "metadata": {},
   "outputs": [
    {
     "name": "stdout",
     "output_type": "stream",
     "text": [
      "Overwriting jetson_server.py\n"
     ]
    }
   ],
   "source": [
    "%%writefile jetson_server.py\n",
    "import paramiko\n",
    "import getpass\n",
    "from ping3 import ping\n",
    "import time\n",
    "import argparse\n",
    "import requests\n",
    "from tqdm import tqdm\n",
    "\n",
    "\n",
    "class Jetson:\n",
    "    def __init__(self, min_port, max_port):\n",
    "        assert int(min_port) < int(max_port), \"max port must be >= min port\"\n",
    "        self.address = \"147.47.200.209\"\n",
    "        self.host_address = SERVER_IP\n",
    "        self.username, self.password = \"jetson\", \"jetson\"\n",
    "        self.ports = [i for i in range(int(min_port), int(max_port)+1)]        \n",
    "        self.available = []\n",
    "        \n",
    "    def check(self):\n",
    "        # check which clients are online \n",
    "        cli = paramiko.SSHClient()\n",
    "        cli.set_missing_host_key_policy(paramiko.AutoAddPolicy)       \n",
    "        \n",
    "        for port in self.ports:\n",
    "            try:\n",
    "                cli.connect(hostname=self.address, port=port, username=self.username, password=self.password)\n",
    "                stdin, stdout, stderr = cli.exec_command(\"ls\")\n",
    "                lines = stdout.readlines()\n",
    "                self.available.append(port)\n",
    "\n",
    "            except:\n",
    "                print(f\"Port {port} Error\")\n",
    "                continue\n",
    "                \n",
    "        cli.close() \n",
    "        \n",
    "\n",
    "    def start_fed(self, experiment, max_round, time_delay, num_samples):\n",
    "        self.cli = paramiko.SSHClient()\n",
    "        self.cli.set_missing_host_key_policy(paramiko.AutoAddPolicy)       \n",
    "        \n",
    "        for i, port in tqdm(enumerate(self.available), desc=\"Sending commands\"):\n",
    "            self.cli.connect(hostname=self.address, port=port, username=self.username, password=self.password)\n",
    "            command = f\"python jetson_client.py --ip {self.host_address} --max {max_round} --delay {time_delay} --num {num_samples} --id {i} --exp {experiment}\"\n",
    "            if port == self.available[0]:\n",
    "                print(f\"Sending command: {command}\")\n",
    "            stdin, stdout, stderr = self.cli.exec_command(command)\n",
    "            if port == self.available[0]:\n",
    "                lines = stdout.readlines()\n",
    "                print(''.join(lines)) \n",
    "        self.cli.close()\n",
    "\n",
    "    def init_jetson_nanos(self):\n",
    "        self.check()\n",
    "            \n",
    "if __name__ ==\"__main__\":\n",
    "    parser = argparse.ArgumentParser(description=\"Usage --ip {ip} --p {port} --max {max round} --delay {time delay} --num {num samples}\")\n",
    "    parser.add_argument(\"--minp\", type=int, help=\"min port\", default=20101)\n",
    "    parser.add_argument(\"--maxp\", type=int, help=\"max port\", default=20106)\n",
    "    parser.add_argument(\"--mr\", type=int, help=\"total # of rounds to run\", default=5)\n",
    "    parser.add_argument(\"--delay\", type=int, help=\"time delay\", default=5)\n",
    "    parser.add_argument(\"--num\", type=int, help=\"num samples\", default=600)\n",
    "    parser.add_argument(\"--exp\", type=int, help=\"experiment number\", default=1) #2,3,4\n",
    "    parser.add_argument(\"--serverip\", type=str, help=\"server ip address\", default=\"localhost:22222\")\n",
    "    args = parser.parse_args()\n",
    "    \n",
    "    ###### VARIABLES ######\n",
    "    MIN_PORT = args.minp\n",
    "    MAX_PORT = args.maxp\n",
    "    EXPERIMENT = args.exp\n",
    "    MAX_ROUND = args.mr\n",
    "    TIME_DELAY = args.delay\n",
    "    CLIENT_NUM = 1 + (MAX_PORT-MIN_PORT)\n",
    "    assert (CLIENT_NUM > 0)\n",
    "    ###### INITIALIZE SERVER ######\n",
    "    import requests\n",
    "    init = requests.get(f\"http://localhost:22222/initialize/{CLIENT_NUM}/{EXPERIMENT}/{MAX_ROUND}\")\n",
    "    reset = requests.get(\"http://localhost:22222/reset\")\n",
    "    print(init, init.text)\n",
    "    \n",
    "    ###### SERVER ADDRESS ######\n",
    "    SERVER_IP = args.serverip\n",
    "    \n",
    "    ###### INITIALIZE JETSONs ######\n",
    "    init = requests.get(f\"http://{SERVER_IP}/initialize/{CLIENT_NUM}/{EXPERIMENT}/{MAX_ROUND}\")\n",
    "    print(init, init.text)\n",
    "    jetson = Jetson(min_port = MIN_PORT, max_port=MAX_PORT)\n",
    "    jetson.init_jetson_nanos()\n",
    "    jetson.start_fed(experiment=args.exp, \n",
    "                     max_round=args.mr,\n",
    "                     time_delay=args.delay, \n",
    "                     num_samples=args.num)"
   ]
  },
  {
   "cell_type": "code",
   "execution_count": 2,
   "metadata": {},
   "outputs": [
    {
     "name": "stderr",
     "output_type": "stream",
     "text": [
      "Python was not found; run without arguments to install from the Microsoft Store, or disable this shortcut from Settings > Manage App Execution Aliases.\n"
     ]
    }
   ],
   "source": [
    "!python jetson_server.py --minp 20131 --maxp 20136 --mr 5 --delay 5 --num 600 --exp 1 --serverip \"localhost:9103\""
   ]
  },
  {
   "cell_type": "markdown",
   "metadata": {},
   "source": [
    "# JetsonController                      "
   ]
  },
  {
   "cell_type": "code",
   "execution_count": 20,
   "metadata": {
    "scrolled": false
   },
   "outputs": [
    {
     "name": "stderr",
     "output_type": "stream",
     "text": [
      "100%|██████████| 6/6 [00:01<00:00,  3.03it/s]\n"
     ]
    }
   ],
   "source": [
    "jetsonController = JetsonController(min_port=min_port, max_port=max_port)"
   ]
  },
  {
   "cell_type": "code",
   "execution_count": 12,
   "metadata": {},
   "outputs": [
    {
     "name": "stdout",
     "output_type": "stream",
     "text": [
      "==20131==\n",
      "==20132==\n",
      "==20133==\n",
      "==20134==\n",
      "==20135==\n",
      "==20136==\n"
     ]
    }
   ],
   "source": [
    "jetsonController.global_execute(\"python -v\")"
   ]
  }
 ],
 "metadata": {
  "kernelspec": {
   "display_name": "Python 3 (ipykernel)",
   "language": "python",
   "name": "python3"
  },
  "language_info": {
   "codemirror_mode": {
    "name": "ipython",
    "version": 3
   },
   "file_extension": ".py",
   "mimetype": "text/x-python",
   "name": "python",
   "nbconvert_exporter": "python",
   "pygments_lexer": "ipython3",
   "version": "3.8.12"
  }
 },
 "nbformat": 4,
 "nbformat_minor": 4
}
