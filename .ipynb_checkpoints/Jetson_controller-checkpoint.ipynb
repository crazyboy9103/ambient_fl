{
 "cells": [
  {
   "cell_type": "markdown",
   "metadata": {},
   "source": [
    "# 라이브러리 설치"
   ]
  },
  {
   "cell_type": "code",
   "execution_count": null,
   "metadata": {},
   "outputs": [],
   "source": [
    "!pip install -r requirements.txt"
   ]
  },
  {
   "cell_type": "markdown",
   "metadata": {},
   "source": [
    "# 통신을 위한 클래스\n",
    "* Jetson들과 통신하기 위한 ```JetsonSSHClient```\n",
    "* Jetson들을 한번에 컨트롤하고 커맨드를 보내기 위한 ```JetsonController``` "
   ]
  },
  {
   "cell_type": "code",
   "execution_count": 20,
   "metadata": {},
   "outputs": [],
   "source": [
    "import paramiko\n",
    "import time\n",
    "import threading\n",
    "import argparse\n",
    "from tqdm import tqdm\n",
    "min_port = 20101\n",
    "max_port = 20101\n",
    "client = 1\n",
    "experiment = 1 \n",
    "\n",
    "class JetsonSSHClient:\n",
    "  def __init__(self, port):\n",
    "    self.port = port\n",
    "    self.cli = paramiko.SSHClient()\n",
    "    self.cli.set_missing_host_key_policy(paramiko.AutoAddPolicy)\n",
    "    self.cli.connect(\"147.47.200.209\", port=port, username=\"jetson\", password=\"jetson\")\n",
    "    self.channel = self.cli.invoke_shell()\n",
    "    \n",
    "  def execute(self, command = \"ls -al\"):\n",
    "    command = command +\"\\n\"\n",
    "    self.channel.send(command)\n",
    "    # 결과 수신\n",
    "    \n",
    "    time.sleep(1)\n",
    "    output = self.channel.recv(65535).decode(\"utf-8\")\n",
    "\n",
    "    if self.port == 20101:\n",
    "      print(output.strip(command)+\"\\n\")\n",
    "\n",
    "  def close(self):\n",
    "    self.cli.close()\n",
    "\n",
    "class JetsonController:\n",
    "  def __init__(self, min_port = 20101, max_port = 20101):\n",
    "    self.clients = {}\n",
    "    self.threads = {}\n",
    "    for port in tqdm(range(min_port, max_port + 1),  bar_format =\"클라이언트 준비\"):\n",
    "      self.clients[port] = JetsonSSHClient(port)\n",
    "      self.threads[port] = None\n",
    "\n",
    "  def global_execute(self, command = \"ls -al\"):\n",
    "    for port, client in tqdm(self.clients.items(), bar_format =\"클라이언트 커맨드 실행\"):\n",
    "      thread = threading.Thread(target = client.execute, args=(command,))\n",
    "      self.threads[port] = thread\n",
    "      thread.start()\n",
    "\n",
    "  def check_status(self):\n",
    "    for thread in self.threads.values():\n",
    "      if thread.is_alive() == True:\n",
    "        return False\n",
    "    return True"
   ]
  },
  {
   "cell_type": "markdown",
   "metadata": {},
   "source": [
    "# 시작전 서버 리셋"
   ]
  },
  {
   "cell_type": "code",
   "execution_count": 21,
   "metadata": {},
   "outputs": [
    {
     "name": "stdout",
     "output_type": "stream",
     "text": [
      "reset:Request OK\n",
      "client:Request PUT OK\n",
      "experiment:Request PUT OK\n"
     ]
    }
   ],
   "source": [
    "import requests\n",
    "import json\n",
    "reset = requests.get(\"http://localhost:22222/reset\")\n",
    "print(f\"reset:{reset.text}\")\n",
    "client_num_in_json = json.dumps(client)\n",
    "res = requests.put(\"http://localhost:22222/client_num\", data=client_num_in_json)\n",
    "print(f\"client:{res.text}\")\n",
    "exp_in_json = json.dumps(experiment)\n",
    "res = requests.put(\"http://localhost:22222/experiment/\", data=exp_in_json)\n",
    "print(f\"experiment:{res.text}\")"
   ]
  },
  {
   "cell_type": "markdown",
   "metadata": {},
   "source": [
    "# JetsonController                      "
   ]
  },
  {
   "cell_type": "code",
   "execution_count": 22,
   "metadata": {
    "scrolled": false
   },
   "outputs": [
    {
     "name": "stderr",
     "output_type": "stream",
     "text": [
      "클라이언트 준비\n"
     ]
    }
   ],
   "source": [
    "jetsonController = JetsonController(min_port=min_port, max_port=max_port)"
   ]
  },
  {
   "cell_type": "markdown",
   "metadata": {},
   "source": [
    "# 모든 Jetson에 명령어를 보내기 위한 코드"
   ]
  },
  {
   "cell_type": "code",
   "execution_count": null,
   "metadata": {
    "scrolled": false
   },
   "outputs": [
    {
     "name": "stdout",
     "output_type": "stream",
     "text": [
      "ls\n"
     ]
    },
    {
     "name": "stderr",
     "output_type": "stream",
     "text": [
      "클라이언트 커맨드 실행\n"
     ]
    },
    {
     "name": "stdout",
     "output_type": "stream",
     "text": [
      "Welcome to Ubuntu 18.04.5 LTS (GNU/Linux 4.9.201-tegra aarch64)\n",
      "\n",
      " * Documentation:  https://help.ubuntu.com\n",
      " * Management:     https://landscape.canonical.com\n",
      " * Support:        https://ubuntu.com/advantage\n",
      "This system has been minimized by removing packages and content that are\n",
      "not required on a system that users do not log into.\n",
      "\n",
      "To restore this content, you can run the 'unminimize' command.\n",
      "\n",
      "93 updates can be applied immediately.\n",
      "41 of these updates are standard security updates.\n",
      "To see these additional updates run: apt list --upgradable\n",
      "\n",
      "Last login: Thu Oct 14 15:20:37 2021 from 147.47.200.178\n",
      "jetson@jetson-desktop:~$ ls\n",
      "\u001b[0m\u001b[01;34mambient_fl\u001b[0m  \u001b[01;34mDownloads\u001b[0m         \u001b[01;34mjetson\u001b[0m             \u001b[01;34mPictures\u001b[0m   \u001b[01;34mVideos\u001b[0m\n",
      "\u001b[01;34mDesktop\u001b[0m     examples.desktop  jetson_network.sh  \u001b[01;34mPublic\u001b[0m\n",
      "\u001b[01;34mDocuments\u001b[0m   \u001b[01;34mFL\u001b[0m                \u001b[01;34mMusic\u001b[0m              \u001b[01;34mTemplates\u001b[0m\n",
      "jetson@jetson-desktop:~$ \n",
      "\n",
      "cd FL\n"
     ]
    },
    {
     "name": "stderr",
     "output_type": "stream",
     "text": [
      "클라이언트 커맨드 실행\n"
     ]
    },
    {
     "name": "stdout",
     "output_type": "stream",
     "text": [
      "\n",
      "jetson@jetson-desktop:~/FL$\n",
      "\n",
      "ls\n"
     ]
    },
    {
     "name": "stderr",
     "output_type": "stream",
     "text": [
      "클라이언트 커맨드 실행\n"
     ]
    },
    {
     "name": "stdout",
     "output_type": "stream",
     "text": [
      "\n",
      "\u001b[0m\u001b[01;34mambient_fl\u001b[0m\n",
      "jetson@jetson-desktop:~/FL$ \n",
      "\n",
      "cd ambient_fl\n"
     ]
    },
    {
     "name": "stderr",
     "output_type": "stream",
     "text": [
      "클라이언트 커맨드 실행\n"
     ]
    },
    {
     "name": "stdout",
     "output_type": "stream",
     "text": [
      "\n",
      "jetson@jetson-desktop:~/FL/ambient_fl$\n",
      "\n",
      "ls\n"
     ]
    },
    {
     "name": "stderr",
     "output_type": "stream",
     "text": [
      "클라이언트 커맨드 실행\n"
     ]
    },
    {
     "name": "stdout",
     "output_type": "stream",
     "text": [
      "\r\n",
      "\u001b[0m\u001b[01;34mFL_Client\u001b[0m  Guide.ipynb            jetson_global_it_exec.py  requirements.txt\r\n",
      "\u001b[01;34mFL_Server\u001b[0m  jetson_global_exec.py  README.md\r\n",
      "jetson@jetson-desktop:~/FL/ambient_fl$ \n",
      "\n"
     ]
    }
   ],
   "source": [
    "while True:\n",
    "    command = input()\n",
    "    jetsonController.global_execute(str(command))"
   ]
  },
  {
   "cell_type": "code",
   "execution_count": 9,
   "metadata": {
    "scrolled": true
   },
   "outputs": [
    {
     "name": "stderr",
     "output_type": "stream",
     "text": [
      "'docker'은(는) 내부 또는 외부 명령, 실행할 수 있는 프로그램, 또는\n",
      "배치 파일이 아닙니다.\n"
     ]
    }
   ],
   "source": [
    "#Ctrl+p, Ctrl+q 이후\n",
    "your_id = 0 # id 변경\n",
    "your_data_path = f\"./id_{your_id}.json\"\n",
    "!docker cp docker_server:/home/ambient_fl/FL_Server/training_history.json your_data_path\n",
    "import json\n",
    "data = json.load(open(your_data_path, \"r\"))"
   ]
  },
  {
   "cell_type": "code",
   "execution_count": null,
   "metadata": {},
   "outputs": [],
   "source": [
    "%matplotlib inline\n",
    "import numpy as np\n",
    "import matplotlib.pyplot as plt"
   ]
  },
  {
   "cell_type": "code",
   "execution_count": null,
   "metadata": {},
   "outputs": [],
   "source": [
    "rounds = max(accuracies[0].keys())\n",
    "ids = max(accuracies.keys())\n",
    "result = np.zeros((ids, rounds))\n",
    "\n",
    "for round_ in rounds:\n",
    "    for cur_id in range(ids):\n",
    "        result[cur_id, round_] = accuracies[round_][cur_id]\n",
    "        \n",
    "def get_result(id, round):\n",
    "    return result[id, round]\n",
    "\n",
    "def plot_accuracy():\n",
    "    rounds = list(range(len(result[0])))\n",
    "    rounds = rounds.astype(\"int8\")\n",
    "    for fed_id in range(len(result)):\n",
    "        accs = result[fed_id, :]\n",
    "        plt.plot(rounds, accs, label=f\"{fed_id}\")\n",
    "        plt.xticks(range(len(result[0]+1)))\n",
    "    plt.title(\"Accuracies of the clients (%)\")\n",
    "    plt.xlabel(\"rounds\")\n",
    "    plt.ylabel(\"accuracy (%)\")\n",
    "    plt.legend()\n",
    "    plt.show() \n",
    "    \n",
    "plot_accuracy()"
   ]
  }
 ],
 "metadata": {
  "kernelspec": {
   "display_name": "Python 3",
   "language": "python",
   "name": "python3"
  },
  "language_info": {
   "codemirror_mode": {
    "name": "ipython",
    "version": 3
   },
   "file_extension": ".py",
   "mimetype": "text/x-python",
   "name": "python",
   "nbconvert_exporter": "python",
   "pygments_lexer": "ipython3",
   "version": "3.8.10"
  }
 },
 "nbformat": 4,
 "nbformat_minor": 4
}
