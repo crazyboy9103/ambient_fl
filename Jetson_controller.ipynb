{
 "cells": [
  {
   "cell_type": "markdown",
   "metadata": {},
   "source": [
    "# 라이브러리 설치"
   ]
  },
  {
   "cell_type": "code",
   "execution_count": null,
   "metadata": {},
   "outputs": [],
   "source": [
    "!pip install -r requirements.txt"
   ]
  },
  {
   "cell_type": "markdown",
   "metadata": {},
   "source": [
    "# 통신을 위한 클래스\n",
    "* Jetson들과 통신하기 위한 ```JetsonSSHClient```\n",
    "* Jetson들을 한번에 컨트롤하고 커맨드를 보내기 위한 ```JetsonController``` "
   ]
  },
  {
   "cell_type": "code",
   "execution_count": 5,
   "metadata": {},
   "outputs": [],
   "source": [
    "import paramiko\n",
    "import time\n",
    "import threading\n",
    "import argparse\n",
    "from tqdm import tqdm\n",
    "min_port = 20101\n",
    "max_port = 20101\n",
    "\n",
    "\n",
    "class JetsonSSHClient:\n",
    "  def __init__(self, port):\n",
    "    self.port = port\n",
    "    self.cli = paramiko.SSHClient()\n",
    "    self.cli.set_missing_host_key_policy(paramiko.AutoAddPolicy)\n",
    "    self.cli.connect(\"147.47.200.209\", port=port, username=\"jetson\", password=\"jetson\")\n",
    "    self.channel = self.cli.invoke_shell()\n",
    "    \n",
    "  def execute(self, command = \"ls -al\"):\n",
    "    command = command +\"\\n\"\n",
    "    self.channel.send(command)\n",
    "    # 결과 수신\n",
    "    \n",
    "    time.sleep(3) #wait for stdout\n",
    "    output = self.channel.recv(65535).decode(\"utf-8\")\n",
    "\n",
    "    if self.port == 20101:\n",
    "      print(output.strip(command))\n",
    "    \n",
    "  def close(self):\n",
    "    self.cli.close()\n",
    "\n",
    "class JetsonController:\n",
    "  def __init__(self, min_port = 20101, max_port = 20101):\n",
    "    self.clients = {}\n",
    "    #self.threads = {}\n",
    "    for port in tqdm(range(min_port, max_port + 1)):\n",
    "      self.clients[port] = JetsonSSHClient(port)\n",
    "      #self.threads[port] = None\n",
    "    \n",
    "\n",
    "  def global_execute(self, command = \"ls -al\"):\n",
    "    for port, client in self.clients.items():\n",
    "        try:\n",
    "            print(f\"=={port}==\")\n",
    "            client.execute(command)\n",
    "\n",
    "        except Error as e:\n",
    "            print(port, \"port error\")\n",
    "            print(e)"
   ]
  },
  {
   "cell_type": "markdown",
   "metadata": {},
   "source": [
    "# 시작전 서버 리셋"
   ]
  },
  {
   "cell_type": "code",
   "execution_count": 41,
   "metadata": {},
   "outputs": [
    {
     "name": "stdout",
     "output_type": "stream",
     "text": [
      "<Response [200]> Initialized server\n"
     ]
    }
   ],
   "source": [
    "import requests\n",
    "import json\n",
    "client = 5\n",
    "experiment = 4 \n",
    "max_round = 5\n",
    "init = requests.get(f\"http://localhost:22222/initialize/{client}/{experiment}/{max_round}\")\n",
    "reset = requests.get(\"http://localhost:22222/reset\")\n",
    "print(init, init.text)"
   ]
  },
  {
   "cell_type": "markdown",
   "metadata": {},
   "source": [
    "# JetsonController                      "
   ]
  },
  {
   "cell_type": "code",
   "execution_count": 42,
   "metadata": {
    "scrolled": false
   },
   "outputs": [
    {
     "name": "stderr",
     "output_type": "stream",
     "text": [
      "  0%|          | 0/1 [00:02<?, ?it/s]\n"
     ]
    },
    {
     "ename": "NoValidConnectionsError",
     "evalue": "[Errno None] Unable to connect to port 20101 on 147.47.200.209",
     "output_type": "error",
     "traceback": [
      "\u001b[0;31m---------------------------------------------------------------------------\u001b[0m",
      "\u001b[0;31mNoValidConnectionsError\u001b[0m                   Traceback (most recent call last)",
      "\u001b[0;32m<ipython-input-42-336f8df74a36>\u001b[0m in \u001b[0;36m<module>\u001b[0;34m\u001b[0m\n\u001b[0;32m----> 1\u001b[0;31m \u001b[0mjetsonController\u001b[0m \u001b[0;34m=\u001b[0m \u001b[0mJetsonController\u001b[0m\u001b[0;34m(\u001b[0m\u001b[0mmin_port\u001b[0m\u001b[0;34m=\u001b[0m\u001b[0mmin_port\u001b[0m\u001b[0;34m,\u001b[0m \u001b[0mmax_port\u001b[0m\u001b[0;34m=\u001b[0m\u001b[0mmax_port\u001b[0m\u001b[0;34m)\u001b[0m\u001b[0;34m\u001b[0m\u001b[0;34m\u001b[0m\u001b[0m\n\u001b[0m",
      "\u001b[0;32m<ipython-input-5-91f0ae2a9a5b>\u001b[0m in \u001b[0;36m__init__\u001b[0;34m(self, min_port, max_port)\u001b[0m\n\u001b[1;32m     36\u001b[0m     \u001b[0;31m#self.threads = {}\u001b[0m\u001b[0;34m\u001b[0m\u001b[0;34m\u001b[0m\u001b[0;34m\u001b[0m\u001b[0m\n\u001b[1;32m     37\u001b[0m     \u001b[0;32mfor\u001b[0m \u001b[0mport\u001b[0m \u001b[0;32min\u001b[0m \u001b[0mtqdm\u001b[0m\u001b[0;34m(\u001b[0m\u001b[0mrange\u001b[0m\u001b[0;34m(\u001b[0m\u001b[0mmin_port\u001b[0m\u001b[0;34m,\u001b[0m \u001b[0mmax_port\u001b[0m \u001b[0;34m+\u001b[0m \u001b[0;36m1\u001b[0m\u001b[0;34m)\u001b[0m\u001b[0;34m)\u001b[0m\u001b[0;34m:\u001b[0m\u001b[0;34m\u001b[0m\u001b[0;34m\u001b[0m\u001b[0m\n\u001b[0;32m---> 38\u001b[0;31m       \u001b[0mself\u001b[0m\u001b[0;34m.\u001b[0m\u001b[0mclients\u001b[0m\u001b[0;34m[\u001b[0m\u001b[0mport\u001b[0m\u001b[0;34m]\u001b[0m \u001b[0;34m=\u001b[0m \u001b[0mJetsonSSHClient\u001b[0m\u001b[0;34m(\u001b[0m\u001b[0mport\u001b[0m\u001b[0;34m)\u001b[0m\u001b[0;34m\u001b[0m\u001b[0;34m\u001b[0m\u001b[0m\n\u001b[0m\u001b[1;32m     39\u001b[0m       \u001b[0;31m#self.threads[port] = None\u001b[0m\u001b[0;34m\u001b[0m\u001b[0;34m\u001b[0m\u001b[0;34m\u001b[0m\u001b[0m\n\u001b[1;32m     40\u001b[0m \u001b[0;34m\u001b[0m\u001b[0m\n",
      "\u001b[0;32m<ipython-input-5-91f0ae2a9a5b>\u001b[0m in \u001b[0;36m__init__\u001b[0;34m(self, port)\u001b[0m\n\u001b[1;32m     14\u001b[0m     \u001b[0mself\u001b[0m\u001b[0;34m.\u001b[0m\u001b[0mcli\u001b[0m \u001b[0;34m=\u001b[0m \u001b[0mparamiko\u001b[0m\u001b[0;34m.\u001b[0m\u001b[0mSSHClient\u001b[0m\u001b[0;34m(\u001b[0m\u001b[0;34m)\u001b[0m\u001b[0;34m\u001b[0m\u001b[0;34m\u001b[0m\u001b[0m\n\u001b[1;32m     15\u001b[0m     \u001b[0mself\u001b[0m\u001b[0;34m.\u001b[0m\u001b[0mcli\u001b[0m\u001b[0;34m.\u001b[0m\u001b[0mset_missing_host_key_policy\u001b[0m\u001b[0;34m(\u001b[0m\u001b[0mparamiko\u001b[0m\u001b[0;34m.\u001b[0m\u001b[0mAutoAddPolicy\u001b[0m\u001b[0;34m)\u001b[0m\u001b[0;34m\u001b[0m\u001b[0;34m\u001b[0m\u001b[0m\n\u001b[0;32m---> 16\u001b[0;31m     \u001b[0mself\u001b[0m\u001b[0;34m.\u001b[0m\u001b[0mcli\u001b[0m\u001b[0;34m.\u001b[0m\u001b[0mconnect\u001b[0m\u001b[0;34m(\u001b[0m\u001b[0;34m\"147.47.200.209\"\u001b[0m\u001b[0;34m,\u001b[0m \u001b[0mport\u001b[0m\u001b[0;34m=\u001b[0m\u001b[0mport\u001b[0m\u001b[0;34m,\u001b[0m \u001b[0musername\u001b[0m\u001b[0;34m=\u001b[0m\u001b[0;34m\"jetson\"\u001b[0m\u001b[0;34m,\u001b[0m \u001b[0mpassword\u001b[0m\u001b[0;34m=\u001b[0m\u001b[0;34m\"jetson\"\u001b[0m\u001b[0;34m)\u001b[0m\u001b[0;34m\u001b[0m\u001b[0;34m\u001b[0m\u001b[0m\n\u001b[0m\u001b[1;32m     17\u001b[0m     \u001b[0mself\u001b[0m\u001b[0;34m.\u001b[0m\u001b[0mchannel\u001b[0m \u001b[0;34m=\u001b[0m \u001b[0mself\u001b[0m\u001b[0;34m.\u001b[0m\u001b[0mcli\u001b[0m\u001b[0;34m.\u001b[0m\u001b[0minvoke_shell\u001b[0m\u001b[0;34m(\u001b[0m\u001b[0;34m)\u001b[0m\u001b[0;34m\u001b[0m\u001b[0;34m\u001b[0m\u001b[0m\n\u001b[1;32m     18\u001b[0m \u001b[0;34m\u001b[0m\u001b[0m\n",
      "\u001b[0;32m/usr/local/lib/python3.8/dist-packages/paramiko/client.py\u001b[0m in \u001b[0;36mconnect\u001b[0;34m(self, hostname, port, username, password, pkey, key_filename, timeout, allow_agent, look_for_keys, compress, sock, gss_auth, gss_kex, gss_deleg_creds, gss_host, banner_timeout, auth_timeout, gss_trust_dns, passphrase, disabled_algorithms)\u001b[0m\n\u001b[1;32m    366\u001b[0m             \u001b[0;31m# (socket.error)\u001b[0m\u001b[0;34m\u001b[0m\u001b[0;34m\u001b[0m\u001b[0;34m\u001b[0m\u001b[0m\n\u001b[1;32m    367\u001b[0m             \u001b[0;32mif\u001b[0m \u001b[0mlen\u001b[0m\u001b[0;34m(\u001b[0m\u001b[0merrors\u001b[0m\u001b[0;34m)\u001b[0m \u001b[0;34m==\u001b[0m \u001b[0mlen\u001b[0m\u001b[0;34m(\u001b[0m\u001b[0mto_try\u001b[0m\u001b[0;34m)\u001b[0m\u001b[0;34m:\u001b[0m\u001b[0;34m\u001b[0m\u001b[0;34m\u001b[0m\u001b[0m\n\u001b[0;32m--> 368\u001b[0;31m                 \u001b[0;32mraise\u001b[0m \u001b[0mNoValidConnectionsError\u001b[0m\u001b[0;34m(\u001b[0m\u001b[0merrors\u001b[0m\u001b[0;34m)\u001b[0m\u001b[0;34m\u001b[0m\u001b[0;34m\u001b[0m\u001b[0m\n\u001b[0m\u001b[1;32m    369\u001b[0m \u001b[0;34m\u001b[0m\u001b[0m\n\u001b[1;32m    370\u001b[0m         t = self._transport = Transport(\n",
      "\u001b[0;31mNoValidConnectionsError\u001b[0m: [Errno None] Unable to connect to port 20101 on 147.47.200.209"
     ]
    }
   ],
   "source": [
    "jetsonController = JetsonController(min_port=min_port, max_port=max_port)"
   ]
  },
  {
   "cell_type": "markdown",
   "metadata": {},
   "source": [
    "# 모든 Jetson에 명령어를 보내기 위한 코드"
   ]
  },
  {
   "cell_type": "code",
   "execution_count": 7,
   "metadata": {
    "scrolled": true
   },
   "outputs": [
    {
     "name": "stdout",
     "output_type": "stream",
     "text": [
      "ls\n",
      "Welcome to Ubuntu 18.04.5 LTS (GNU/Linux 4.9.201-tegra aarch64)\n",
      "\n",
      " * Documentation:  https://help.ubuntu.com\n",
      " * Management:     https://landscape.canonical.com\n",
      " * Support:        https://ubuntu.com/advantage\n",
      "This system has been minimized by removing packages and content that are\n",
      "not required on a system that users do not log into.\n",
      "\n",
      "To restore this content, you can run the 'unminimize' command.\n",
      "\n",
      "70 updates can be applied immediately.\n",
      "35 of these updates are standard security updates.\n",
      "To see these additional updates run: apt list --upgradable\n",
      "\n",
      "Last login: Fri Sep 24 11:04:37 2021 from 147.47.7.75\n",
      "jetson@jetson-desktop:~$ ls\n",
      "\u001b[0m\u001b[01;34mambient_fl\u001b[0m  \u001b[01;34mDownloads\u001b[0m         \u001b[01;34mjetson\u001b[0m             \u001b[01;34mPictures\u001b[0m   \u001b[01;34mVideos\u001b[0m\n",
      "\u001b[01;34mDesktop\u001b[0m     examples.desktop  jetson_network.sh  \u001b[01;34mPublic\u001b[0m\n",
      "\u001b[01;34mDocuments\u001b[0m   \u001b[01;34mFL\u001b[0m                \u001b[01;34mMusic\u001b[0m              \u001b[01;34mTemplates\u001b[0m\n",
      "jetson@jetson-desktop:~$ \n",
      "docker attach fl\n",
      "\n",
      "ls\n",
      "\n",
      "exit\n",
      "close\n",
      "\n",
      "close\n",
      "^CTraceback (most recent call last):\n",
      "  File \"jetson_client.py\", line 420, in <module>\n",
      "    client.task()\n",
      "  File \"jetson_client.py\", line 391, in task\n",
      "    self.upload_local_weight(local_weight)\n",
      "  File \"jetson_client.py\", line 323, in upload_local_weight\n",
      "    requests.put(self.weight_url, data=local_weight)\n",
      "  File \"/usr/local/lib/python3.6/dist-packages/requests/api.py\", line 134, in put\n",
      "    return request('put', url, data=data, **kwargs)\n",
      "  File \"/usr/local/lib/python3.6/dist-packages/requests/api.py\", line 61, in request\n",
      "    return session.request(method=method, url=url, **kwargs)\n",
      "  File \"/usr/local/lib/python3.6/dist-packages/requests/sessions.py\", line 542, in request\n",
      "    resp = self.send(prep, **send_kwargs)\n",
      "  File \"/usr/local/lib/python3.6/dist-packages/requests/sessions.py\", line 655, in send\n",
      "    r = adapter.send(request, **kwargs)\n",
      "  File \"/usr/local/lib/python3.6/dist-packages/requests/adapters.py\", line 449, in send\n",
      "    timeout=timeout\n",
      "  File \"/usr/local/lib/python3.6/dist-packages/urllib3/connectionpool.py\", line 706, in urlopen\n",
      "    chunked=chunked,\n",
      "  File \"/usr/local/lib/python3.6/dist-packages/urllib3/connectionpool.py\", line 445, in _make_request\n",
      "    six.raise_from(e, None)\n",
      "  File \"<string>\", line 3, in raise_from\n",
      "  File \"/usr/local/lib/python3.6/dist-packages/urllib3/connectionpool.py\", line 440, in _make_request\n",
      "    httplib_response = conn.getresponse()\n",
      "  File \"/usr/lib/python3.6/http/client.py\", line 1373, in getresponse\n",
      "    response.begin()\n",
      "  File \"/usr/lib/python3.6/http/client.py\", line 311, in begin\n",
      "    version, status, reason = self._read_status()\n",
      "  File \"/usr/lib/python3.6/http/client.py\", line 272, in _read_status\n",
      "    line = str(self.fp.readline(_MAXLINE + 1), \"iso-8859-1\")\n",
      "  File \"/usr/lib/python3.6/socket.py\", line 586, in readinto\n",
      "    return self._sock.recv_into(b)\n",
      "KeyboardInterrupt\n"
     ]
    },
    {
     "ename": "KeyboardInterrupt",
     "evalue": "Interrupted by user",
     "output_type": "error",
     "traceback": [
      "\u001b[0;31m---------------------------------------------------------------------------\u001b[0m",
      "\u001b[0;31mKeyboardInterrupt\u001b[0m                         Traceback (most recent call last)",
      "\u001b[0;32m<ipython-input-7-07c090feb78d>\u001b[0m in \u001b[0;36m<module>\u001b[0;34m\u001b[0m\n\u001b[1;32m      1\u001b[0m \u001b[0;32mwhile\u001b[0m \u001b[0;32mTrue\u001b[0m\u001b[0;34m:\u001b[0m\u001b[0;34m\u001b[0m\u001b[0;34m\u001b[0m\u001b[0m\n\u001b[0;32m----> 2\u001b[0;31m     \u001b[0mcommand\u001b[0m \u001b[0;34m=\u001b[0m \u001b[0minput\u001b[0m\u001b[0;34m(\u001b[0m\u001b[0;34m)\u001b[0m\u001b[0;34m\u001b[0m\u001b[0;34m\u001b[0m\u001b[0m\n\u001b[0m\u001b[1;32m      3\u001b[0m     \u001b[0mjetsonController\u001b[0m\u001b[0;34m.\u001b[0m\u001b[0mglobal_execute\u001b[0m\u001b[0;34m(\u001b[0m\u001b[0mstr\u001b[0m\u001b[0;34m(\u001b[0m\u001b[0mcommand\u001b[0m\u001b[0;34m)\u001b[0m\u001b[0;34m)\u001b[0m\u001b[0;34m\u001b[0m\u001b[0;34m\u001b[0m\u001b[0m\n",
      "\u001b[0;32m/usr/lib/python3/dist-packages/ipykernel/kernelbase.py\u001b[0m in \u001b[0;36mraw_input\u001b[0;34m(self, prompt)\u001b[0m\n\u001b[1;32m    858\u001b[0m                 \u001b[0;34m\"raw_input was called, but this frontend does not support input requests.\"\u001b[0m\u001b[0;34m\u001b[0m\u001b[0;34m\u001b[0m\u001b[0m\n\u001b[1;32m    859\u001b[0m             )\n\u001b[0;32m--> 860\u001b[0;31m         return self._input_request(str(prompt),\n\u001b[0m\u001b[1;32m    861\u001b[0m             \u001b[0mself\u001b[0m\u001b[0;34m.\u001b[0m\u001b[0m_parent_ident\u001b[0m\u001b[0;34m,\u001b[0m\u001b[0;34m\u001b[0m\u001b[0;34m\u001b[0m\u001b[0m\n\u001b[1;32m    862\u001b[0m             \u001b[0mself\u001b[0m\u001b[0;34m.\u001b[0m\u001b[0m_parent_header\u001b[0m\u001b[0;34m,\u001b[0m\u001b[0;34m\u001b[0m\u001b[0;34m\u001b[0m\u001b[0m\n",
      "\u001b[0;32m/usr/lib/python3/dist-packages/ipykernel/kernelbase.py\u001b[0m in \u001b[0;36m_input_request\u001b[0;34m(self, prompt, ident, parent, password)\u001b[0m\n\u001b[1;32m    891\u001b[0m             \u001b[0;32mexcept\u001b[0m \u001b[0mKeyboardInterrupt\u001b[0m\u001b[0;34m:\u001b[0m\u001b[0;34m\u001b[0m\u001b[0;34m\u001b[0m\u001b[0m\n\u001b[1;32m    892\u001b[0m                 \u001b[0;31m# re-raise KeyboardInterrupt, to truncate traceback\u001b[0m\u001b[0;34m\u001b[0m\u001b[0;34m\u001b[0m\u001b[0;34m\u001b[0m\u001b[0m\n\u001b[0;32m--> 893\u001b[0;31m                 \u001b[0;32mraise\u001b[0m \u001b[0mKeyboardInterrupt\u001b[0m\u001b[0;34m(\u001b[0m\u001b[0;34m\"Interrupted by user\"\u001b[0m\u001b[0;34m)\u001b[0m \u001b[0;32mfrom\u001b[0m \u001b[0;32mNone\u001b[0m\u001b[0;34m\u001b[0m\u001b[0;34m\u001b[0m\u001b[0m\n\u001b[0m\u001b[1;32m    894\u001b[0m             \u001b[0;32melse\u001b[0m\u001b[0;34m:\u001b[0m\u001b[0;34m\u001b[0m\u001b[0;34m\u001b[0m\u001b[0m\n\u001b[1;32m    895\u001b[0m                 \u001b[0;32mbreak\u001b[0m\u001b[0;34m\u001b[0m\u001b[0;34m\u001b[0m\u001b[0m\n",
      "\u001b[0;31mKeyboardInterrupt\u001b[0m: Interrupted by user"
     ]
    }
   ],
   "source": [
    "while True:\n",
    "    command = input()\n",
    "    jetsonController.global_execute(str(command))"
   ]
  }
 ],
 "metadata": {
  "kernelspec": {
   "display_name": "Python 3",
   "language": "python",
   "name": "python3"
  },
  "language_info": {
   "codemirror_mode": {
    "name": "ipython",
    "version": 3
   },
   "file_extension": ".py",
   "mimetype": "text/x-python",
   "name": "python",
   "nbconvert_exporter": "python",
   "pygments_lexer": "ipython3",
   "version": "3.8.10"
  }
 },
 "nbformat": 4,
 "nbformat_minor": 4
}
